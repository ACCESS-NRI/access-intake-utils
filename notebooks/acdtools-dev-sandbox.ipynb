{
 "cells": [
  {
   "cell_type": "markdown",
   "id": "2bbcce82-88b9-4dc3-81f7-305710b84adf",
   "metadata": {},
   "source": [
    "# ACDtools dev sandbox "
   ]
  },
  {
   "cell_type": "markdown",
   "id": "444db49f-f4c2-4d6c-a5bf-83576d2f5c9a",
   "metadata": {},
   "source": [
    "#### Date: 11 October, 2024"
   ]
  },
  {
   "cell_type": "markdown",
   "id": "a0158574-20a2-4c25-bf47-f384dbb80648",
   "metadata": {},
   "source": [
    "Author = {\"name\": \"Thomas Moore\", \"affiliation\": \"CSIRO\", \"email\": \"thomas.moore@csiro.au\", \"orcid\": \"0000-0003-3930-1946\"}"
   ]
  },
  {
   "cell_type": "markdown",
   "id": "c2899b25-cc56-44c1-9140-48169824c5bf",
   "metadata": {},
   "source": [
    "# Install ACDtools locally"
   ]
  },
  {
   "cell_type": "code",
   "execution_count": 1,
   "id": "57562294-57e8-4ce7-b129-8ebf86b2fac0",
   "metadata": {},
   "outputs": [
    {
     "name": "stdout",
     "output_type": "stream",
     "text": [
      "Obtaining file:///g/data/es60/users/thomas_moore/code/ACDtools\n",
      "  Installing build dependencies ... \u001b[?25ldone\n",
      "\u001b[?25h  Checking if build backend supports build_editable ... \u001b[?25ldone\n",
      "\u001b[?25h  Getting requirements to build editable ... \u001b[?25ldone\n",
      "\u001b[?25h  Preparing editable metadata (pyproject.toml) ... \u001b[?25ldone\n",
      "\u001b[?25hBuilding wheels for collected packages: ACDtools\n",
      "  Building editable for ACDtools (pyproject.toml) ... \u001b[?25ldone\n",
      "\u001b[?25h  Created wheel for ACDtools: filename=ACDtools-0.1-0.editable-py3-none-any.whl size=3514 sha256=17831364878a70be045c7c0d282de4abcb9c7935fd5a44e7f3f59ffbd43dcf19\n",
      "  Stored in directory: /jobfs/126905091.gadi-pbs/pip-ephem-wheel-cache-z_poa05u/wheels/b6/a3/f2/6ce45fbdc116ad50e421d6a11cb060cc796e867501807af446\n",
      "Successfully built ACDtools\n",
      "Installing collected packages: ACDtools\n",
      "  Attempting uninstall: ACDtools\n",
      "    Found existing installation: ACDtools 0.1\n",
      "    Uninstalling ACDtools-0.1:\n",
      "      Successfully uninstalled ACDtools-0.1\n",
      "Successfully installed ACDtools-0.1\n"
     ]
    }
   ],
   "source": [
    "# this needs to be set via a custom edit per user at the moment\n",
    "!pip install --user -e /g/data/es60/users/thomas_moore/code/ACDtools"
   ]
  },
  {
   "cell_type": "code",
   "execution_count": 4,
   "id": "0215fd7c-caad-49fd-8440-03f2426e6791",
   "metadata": {},
   "outputs": [
    {
     "name": "stdout",
     "output_type": "stream",
     "text": [
      "The autoreload extension is already loaded. To reload it, use:\n",
      "  %reload_ext autoreload\n"
     ]
    }
   ],
   "source": [
    "# Enable autoreload in the notebook\n",
    "%load_ext autoreload\n",
    "%autoreload 1 \n",
    "%aimport ACDtools.util\n",
    "%aimport ACDtools.ard\n",
    "# Importing from your local package util.py\n",
    "from ACDtools.util import test_function\n",
    "from ACDtools.util import detect_compute_platform\n",
    "from ACDtools.util import load_config\n",
    "from ACDtools.util import start_dask_cluster_from_config\n",
    "from ACDtools.util import report_esm_unique\n",
    "from ACDtools.util import var_name_info\n",
    "from ACDtools.util import list_catalog_query_kwargs\n",
    "from ACDtools.util import search_catalog\n",
    "# ard.py\n",
    "from ACDtools.ard import load_ACCESS_ESM_ensemble\n",
    "from ACDtools.ard import find_chunking_info"
   ]
  },
  {
   "cell_type": "markdown",
   "id": "d0e7fffe-1565-4a71-9622-dc4266f555df",
   "metadata": {},
   "source": [
    "# Notebook settings"
   ]
  },
  {
   "cell_type": "markdown",
   "id": "c94d2934-9f8a-4495-b32a-46c1ac293870",
   "metadata": {},
   "source": [
    "### filter warnings"
   ]
  },
  {
   "cell_type": "code",
   "execution_count": 6,
   "id": "c774b769-3308-49e6-8c1d-90b7e5645ad3",
   "metadata": {},
   "outputs": [],
   "source": [
    "import warnings\n",
    "warnings.filterwarnings(\"ignore\") # Suppress warnings"
   ]
  },
  {
   "cell_type": "markdown",
   "id": "7fcad830-ea7e-4ecd-a64b-b5f9edeb305a",
   "metadata": {},
   "source": [
    "# Dask cluster from config\n",
    "`client, cluster = start_dask_cluster_from_config('netcdf_work')`\n",
    "<br>OR<br>\n",
    "`client, cluster = start_dask_cluster_from_config('zarr_work')`"
   ]
  },
  {
   "cell_type": "code",
   "execution_count": 7,
   "id": "6935fbd8-fcb1-4784-912b-7dea47c469b0",
   "metadata": {},
   "outputs": [
    {
     "name": "stdout",
     "output_type": "stream",
     "text": [
      "Cluster started with 28 workers.\n",
      "Dashboard available at: /proxy/8787/status\n"
     ]
    }
   ],
   "source": [
    "client, cluster = start_dask_cluster_from_config('netcdf_work')"
   ]
  },
  {
   "cell_type": "markdown",
   "id": "453d3b34-0f7f-499c-838e-f9d713ee82bc",
   "metadata": {},
   "source": [
    "# Issue: write function to load ACCESS-ESM1.5 data object using intake catalogs at NCI\n",
    "- https://github.com/Thomas-Moore-Creative/ACDtools/issues/1"
   ]
  },
  {
   "cell_type": "markdown",
   "id": "34ff8424-e03b-43a6-aa5a-0632284e71bd",
   "metadata": {},
   "source": [
    "## utilise CMIP6 data catalogs for NCI holdings"
   ]
  },
  {
   "cell_type": "markdown",
   "id": "6a82586a-8ca1-47b9-9794-ddfad8cccd43",
   "metadata": {},
   "source": [
    "##### Information on climate data catalogs across Australian HPC\n",
    "\n",
    "**ACCESS-NRI** https://access-nri-intake-catalog.readthedocs.io/en/latest/usage/how.html <br>\n",
    "**NCI** https://opus.nci.org.au/pages/viewpage.action?pageId=213713098\n"
   ]
  },
  {
   "cell_type": "markdown",
   "id": "4caad95a-0596-4d57-9e83-e8a390dd99a9",
   "metadata": {
    "jp-MarkdownHeadingCollapsed": true
   },
   "source": [
    "##### $\\bigstar$ Get inspiration from ACCESS-NRI intake catalog docs: ACCESS-ESM1-5 CMIP6 example\n",
    "https://access-nri-intake-catalog.readthedocs.io/en/latest/usage/quickstart.html"
   ]
  },
  {
   "cell_type": "markdown",
   "id": "f13e29a8-ca33-4e22-9755-252be78c1800",
   "metadata": {},
   "source": [
    "# import packages"
   ]
  },
  {
   "cell_type": "code",
   "execution_count": 8,
   "id": "0b6b05c0-eb4c-4095-b55f-e70b077a10b4",
   "metadata": {},
   "outputs": [],
   "source": [
    "import intake\n",
    "import xarray as xr\n",
    "import numpy as np\n",
    "import gc\n",
    "import json"
   ]
  },
  {
   "cell_type": "markdown",
   "id": "d7658e34-4789-4e9c-a087-64f4e10c504c",
   "metadata": {},
   "source": [
    "### import the ACCESS-NRI catalog"
   ]
  },
  {
   "cell_type": "code",
   "execution_count": 9,
   "id": "36899205-6bf0-47c1-8e4a-555bac3a2b9d",
   "metadata": {},
   "outputs": [],
   "source": [
    "catalog = intake.cat.access_nri"
   ]
  },
  {
   "cell_type": "markdown",
   "id": "2af409ca-3553-4ab3-9804-95005f72ac21",
   "metadata": {},
   "source": [
    "### (1) \"I know I want Australian CMIP6 data - so that's fs38 and I need access to that NCI project\""
   ]
  },
  {
   "cell_type": "code",
   "execution_count": 36,
   "id": "94c7b943-6547-4793-9b57-efa835e3a863",
   "metadata": {},
   "outputs": [],
   "source": [
    "cmip6_fs38_datastore = catalog.search(name='cmip6_fs38').to_source()"
   ]
  },
  {
   "cell_type": "markdown",
   "id": "aaba1469-c576-4ca0-96b0-38d1ed9ad465",
   "metadata": {},
   "source": [
    "### (2) \"what are the realms covered by cmip6_fs38?\""
   ]
  },
  {
   "cell_type": "code",
   "execution_count": 37,
   "id": "f6b104fc-662a-4f76-8578-b9c7acc26e10",
   "metadata": {},
   "outputs": [
    {
     "name": "stdout",
     "output_type": "stream",
     "text": [
      "╒════════════╤═════════════════╕\n",
      "│ Category   │ Unique values   │\n",
      "╞════════════╪═════════════════╡\n",
      "│ realm      │ aerosol         │\n",
      "│            │ atmos           │\n",
      "│            │ land            │\n",
      "│            │ landIce         │\n",
      "│            │ ocean           │\n",
      "│            │ ocnBgchem       │\n",
      "│            │ seaIce          │\n",
      "╘════════════╧═════════════════╛\n"
     ]
    }
   ],
   "source": [
    "report_esm_unique(cmip6_fs38_datastore,keep_list=['realm'])"
   ]
  },
  {
   "cell_type": "markdown",
   "id": "a144145f-d93c-4a82-bcb3-cdb957b3f6dd",
   "metadata": {},
   "source": [
    "### (3) I want to see what variables, over what frequencies, are available in both the 'ocean' & 'oceanBgchem' realms"
   ]
  },
  {
   "cell_type": "code",
   "execution_count": 38,
   "id": "27581c4c-5bf1-4338-ad57-f7f94ba5e0e0",
   "metadata": {},
   "outputs": [],
   "source": [
    "cmip6_fs38_ocean_datastore = cmip6_fs38_datastore.search(realm=['ocean','ocnBgchem'])"
   ]
  },
  {
   "cell_type": "code",
   "execution_count": 39,
   "id": "bae92dd2-ec5e-47d8-9062-debc67734100",
   "metadata": {
    "scrolled": true
   },
   "outputs": [
    {
     "name": "stdout",
     "output_type": "stream",
     "text": [
      "╒════════════════╤═══════════════════════╕\n",
      "│ Category       │ Unique values         │\n",
      "╞════════════════╪═══════════════════════╡\n",
      "│ experiment_id  │ 1pctCO2               │\n",
      "│                │ 1pctCO2-bgc           │\n",
      "│                │ 1pctCO2-cdr           │\n",
      "│                │ 1pctCO2-rad           │\n",
      "│                │ abrupt-4xCO2          │\n",
      "│                │ esm-1pct-brch-1000PgC │\n",
      "│                │ esm-1pct-brch-2000PgC │\n",
      "│                │ esm-1pct-brch-750PgC  │\n",
      "│                │ esm-hist              │\n",
      "│                │ esm-pi-CO2pulse       │\n",
      "│                │ esm-pi-cdr-pulse      │\n",
      "│                │ esm-piControl         │\n",
      "│                │ esm-ssp585            │\n",
      "│                │ esm-ssp585-ssp126Lu   │\n",
      "│                │ faf-all               │\n",
      "│                │ faf-heat              │\n",
      "│                │ faf-heat-NA0pct       │\n",
      "│                │ faf-heat-NA50pct      │\n",
      "│                │ faf-passiveheat       │\n",
      "│                │ faf-stress            │\n",
      "│                │ faf-water             │\n",
      "│                │ hist-GHG              │\n",
      "│                │ hist-aer              │\n",
      "│                │ hist-bgc              │\n",
      "│                │ hist-nat              │\n",
      "│                │ hist-noLu             │\n",
      "│                │ historical            │\n",
      "│                │ lig127k               │\n",
      "│                │ midHolocene           │\n",
      "│                │ omip2                 │\n",
      "│                │ omip2-spunup          │\n",
      "│                │ piControl             │\n",
      "│                │ ssp126                │\n",
      "│                │ ssp126-ssp370Lu       │\n",
      "│                │ ssp245                │\n",
      "│                │ ssp245-cov-fossil     │\n",
      "│                │ ssp245-cov-modgreen   │\n",
      "│                │ ssp245-cov-strgreen   │\n",
      "│                │ ssp245-covid          │\n",
      "│                │ ssp370                │\n",
      "│                │ ssp370-ssp126Lu       │\n",
      "│                │ ssp534-over           │\n",
      "│                │ ssp585                │\n",
      "│                │ ssp585-bgc            │\n",
      "├────────────────┼───────────────────────┤\n",
      "│ file_type      │ f                     │\n",
      "│                │ l                     │\n",
      "├────────────────┼───────────────────────┤\n",
      "│ frequency      │ 3hrPt                 │\n",
      "│                │ day                   │\n",
      "│                │ fx                    │\n",
      "│                │ mon                   │\n",
      "│                │ monC                  │\n",
      "│                │ yr                    │\n",
      "├────────────────┼───────────────────────┤\n",
      "│ grid_label     │ gn                    │\n",
      "├────────────────┼───────────────────────┤\n",
      "│ institution_id │ CSIRO                 │\n",
      "│                │ CSIRO-ARCCSS          │\n",
      "│                │ CSIRO-COSIMA          │\n",
      "├────────────────┼───────────────────────┤\n",
      "│ project_id     │ CMIP                  │\n",
      "├────────────────┼───────────────────────┤\n",
      "│ realm          │ ocean                 │\n",
      "│                │ ocnBgchem             │\n",
      "├────────────────┼───────────────────────┤\n",
      "│ source_id      │ ACCESS-CM2            │\n",
      "│                │ ACCESS-ESM1-5         │\n",
      "│                │ ACCESS-OM2            │\n",
      "│                │ ACCESS-OM2-025        │\n",
      "├────────────────┼───────────────────────┤\n",
      "│ table_id       │ 3hr                   │\n",
      "│                │ Emon                  │\n",
      "│                │ Oclim                 │\n",
      "│                │ Oday                  │\n",
      "│                │ Ofx                   │\n",
      "│                │ Omon                  │\n",
      "│                │ Oyr                   │\n",
      "├────────────────┼───────────────────────┤\n",
      "│ variable_id    │ agessc                │\n",
      "│                │ arag                  │\n",
      "│                │ areacello             │\n",
      "│                │ basin                 │\n",
      "│                │ bigthetao             │\n",
      "│                │ bigthetaoga           │\n",
      "│                │ chl                   │\n",
      "│                │ chlos                 │\n",
      "│                │ deptho                │\n",
      "│                │ detoc                 │\n",
      "│                │ detocos               │\n",
      "│                │ dfe                   │\n",
      "│                │ dfeos                 │\n",
      "│                │ difvho                │\n",
      "│                │ difvso                │\n",
      "│                │ dissic                │\n",
      "│                │ dissicnat             │\n",
      "│                │ dissicnatos           │\n",
      "│                │ dissicos              │\n",
      "│                │ eparag100             │\n",
      "│                │ epc100                │\n",
      "│                │ evs                   │\n",
      "│                │ fgco2                 │\n",
      "│                │ fgco2nat              │\n",
      "│                │ fgo2                  │\n",
      "│                │ friver                │\n",
      "│                │ fsitherm              │\n",
      "│                │ hfbasin               │\n",
      "│                │ hfbasinpadv           │\n",
      "│                │ hfbasinpmadv          │\n",
      "│                │ hfds                  │\n",
      "│                │ hfevapds              │\n",
      "│                │ hflso                 │\n",
      "│                │ hfrainds              │\n",
      "│                │ hfsifrazil            │\n",
      "│                │ hfsso                 │\n",
      "│                │ htovgyre              │\n",
      "│                │ htovovrt              │\n",
      "│                │ intpp                 │\n",
      "│                │ masscello             │\n",
      "│                │ masso                 │\n",
      "│                │ mfo                   │\n",
      "│                │ mlotst                │\n",
      "│                │ msftbarot             │\n",
      "│                │ msftmrho              │\n",
      "│                │ msftmz                │\n",
      "│                │ msftyrho              │\n",
      "│                │ msftyz                │\n",
      "│                │ no3                   │\n",
      "│                │ no3os                 │\n",
      "│                │ o2                    │\n",
      "│                │ o2os                  │\n",
      "│                │ obvfsq                │\n",
      "│                │ ocontempdiff          │\n",
      "│                │ ocontempmint          │\n",
      "│                │ ocontemppadvect       │\n",
      "│                │ ocontemppmdiff        │\n",
      "│                │ ocontemppsmadvect     │\n",
      "│                │ ocontemprmadvect      │\n",
      "│                │ ocontemptend          │\n",
      "│                │ omldamax              │\n",
      "│                │ opottempmint          │\n",
      "│                │ osaltdiff             │\n",
      "│                │ osaltpadvect          │\n",
      "│                │ osaltpmdiff           │\n",
      "│                │ osaltpsmadvect        │\n",
      "│                │ osaltrmadvect         │\n",
      "│                │ osalttend             │\n",
      "│                │ pabigthetao           │\n",
      "│                │ pbo                   │\n",
      "│                │ phycos                │\n",
      "│                │ phynos                │\n",
      "│                │ po4                   │\n",
      "│                │ po4os                 │\n",
      "│                │ prbigthetao           │\n",
      "│                │ pso                   │\n",
      "│                │ rlntds                │\n",
      "│                │ rsdoabsorb            │\n",
      "│                │ rsntds                │\n",
      "│                │ sfriver               │\n",
      "│                │ sftof                 │\n",
      "│                │ sltovgyre             │\n",
      "│                │ sltovovrt             │\n",
      "│                │ so                    │\n",
      "│                │ sob                   │\n",
      "│                │ soga                  │\n",
      "│                │ somint                │\n",
      "│                │ sos                   │\n",
      "│                │ sosga                 │\n",
      "│                │ sossq                 │\n",
      "│                │ spco2                 │\n",
      "│                │ spco2nat              │\n",
      "│                │ talk                  │\n",
      "│                │ talkos                │\n",
      "│                │ tauuo                 │\n",
      "│                │ tauvo                 │\n",
      "│                │ thetao                │\n",
      "│                │ thetaoga              │\n",
      "│                │ thkcello              │\n",
      "│                │ tob                   │\n",
      "│                │ tos                   │\n",
      "│                │ tosga                 │\n",
      "│                │ tossq                 │\n",
      "│                │ umo                   │\n",
      "│                │ uo                    │\n",
      "│                │ vmo                   │\n",
      "│                │ vo                    │\n",
      "│                │ volcello              │\n",
      "│                │ volo                  │\n",
      "│                │ wfo                   │\n",
      "│                │ wmo                   │\n",
      "│                │ wo                    │\n",
      "│                │ zooc                  │\n",
      "│                │ zoocos                │\n",
      "│                │ zos                   │\n",
      "│                │ zossq                 │\n",
      "│                │ zostoga               │\n",
      "╘════════════════╧═══════════════════════╛\n"
     ]
    }
   ],
   "source": [
    "[sorted_unique_dict, table_data] = report_esm_unique(cmip6_fs38_ocean_datastore,return_results=True)"
   ]
  },
  {
   "cell_type": "markdown",
   "id": "f6ec2e28-132d-4233-a22d-fd6e027ab2a8",
   "metadata": {},
   "source": [
    "# what is the long name of a particular variable?"
   ]
  },
  {
   "cell_type": "code",
   "execution_count": 40,
   "id": "f9e1f15c-533a-4c33-ba0f-ada8e07b5399",
   "metadata": {
    "scrolled": true
   },
   "outputs": [
    {
     "name": "stdout",
     "output_type": "stream",
     "text": [
      "*** Variable: \u001b[1mintpp\u001b[0m from catalog: <cmip6-fs38 catalog with 97270 dataset(s) from 414120 asset(s)> ***\n",
      "╒════════════════╤═════════════════════════════════════════════════════════════════════════════════════════════════════╕\n",
      "│ Attribute      │ Value                                                                                               │\n",
      "╞════════════════╪═════════════════════════════════════════════════════════════════════════════════════════════════════╡\n",
      "│ standard_name  │ net_primary_mole_productivity_of_biomass_expressed_as_carbon_by_phytoplankton                       │\n",
      "├────────────────┼─────────────────────────────────────────────────────────────────────────────────────────────────────┤\n",
      "│ long_name      │ Primary Organic Carbon Production by All Types of Phytoplankton                                     │\n",
      "├────────────────┼─────────────────────────────────────────────────────────────────────────────────────────────────────┤\n",
      "│ comment        │ Vertically integrated total primary (organic carbon) production by phytoplankton. This should equal │\n",
      "│                │ the sum of intpdiat+intpphymisc, but those individual components may be unavailable in some models. │\n",
      "├────────────────┼─────────────────────────────────────────────────────────────────────────────────────────────────────┤\n",
      "│ units          │ mol m-2 s-1                                                                                         │\n",
      "├────────────────┼─────────────────────────────────────────────────────────────────────────────────────────────────────┤\n",
      "│ original_units │ mmol m-2 s-1                                                                                        │\n",
      "├────────────────┼─────────────────────────────────────────────────────────────────────────────────────────────────────┤\n",
      "│ history        │ 2023-02-06T12:57:42Z altered by CMOR: Converted units from 'mmol m-2 s-1' to 'mol m-2 s-1'.         │\n",
      "│                │ 2023-02-06T12:57:42Z altered by CMOR: replaced missing value flag (-1e+10) with standard missing    │\n",
      "│                │ value (1e+20).                                                                                      │\n",
      "├────────────────┼─────────────────────────────────────────────────────────────────────────────────────────────────────┤\n",
      "│ cell_methods   │ area: mean where sea depth: sum where sea time: mean                                                │\n",
      "├────────────────┼─────────────────────────────────────────────────────────────────────────────────────────────────────┤\n",
      "│ cell_measures  │ area: areacello                                                                                     │\n",
      "╘════════════════╧═════════════════════════════════════════════════════════════════════════════════════════════════════╛\n"
     ]
    }
   ],
   "source": [
    "var_name_info(cmip6_fs38_ocean_datastore,'intpp')"
   ]
  },
  {
   "cell_type": "markdown",
   "id": "8e941431-ba02-41d4-aad8-6217f0658a0f",
   "metadata": {},
   "source": [
    "# filter catalog for final ACCESS-ESM1.5 dataset"
   ]
  },
  {
   "cell_type": "code",
   "execution_count": 41,
   "id": "9cfe8097-494d-4187-8e9e-4e741499bfa6",
   "metadata": {},
   "outputs": [],
   "source": [
    "final_search = cmip6_fs38_ocean_datastore.search(file_type='l',\n",
    "                    variable_id='intpp',source_id='ACCESS-ESM1-5',experiment_id='historical')"
   ]
  },
  {
   "cell_type": "code",
   "execution_count": 42,
   "id": "aded047f-d413-4235-bc58-407d143bd4ca",
   "metadata": {},
   "outputs": [
    {
     "name": "stdout",
     "output_type": "stream",
     "text": [
      "╒════════════════╤═════════════════╕\n",
      "│ Category       │ Unique values   │\n",
      "╞════════════════╪═════════════════╡\n",
      "│ experiment_id  │ historical      │\n",
      "├────────────────┼─────────────────┤\n",
      "│ file_type      │ l               │\n",
      "├────────────────┼─────────────────┤\n",
      "│ frequency      │ mon             │\n",
      "├────────────────┼─────────────────┤\n",
      "│ grid_label     │ gn              │\n",
      "├────────────────┼─────────────────┤\n",
      "│ institution_id │ CSIRO           │\n",
      "├────────────────┼─────────────────┤\n",
      "│ project_id     │ CMIP            │\n",
      "├────────────────┼─────────────────┤\n",
      "│ realm          │ ocnBgchem       │\n",
      "├────────────────┼─────────────────┤\n",
      "│ source_id      │ ACCESS-ESM1-5   │\n",
      "├────────────────┼─────────────────┤\n",
      "│ table_id       │ Omon            │\n",
      "├────────────────┼─────────────────┤\n",
      "│ variable_id    │ intpp           │\n",
      "╘════════════════╧═════════════════╛\n"
     ]
    }
   ],
   "source": [
    "report_esm_unique(final_search)"
   ]
  },
  {
   "cell_type": "markdown",
   "id": "d36a2d20-9cf1-46da-a9b7-38fade30dd64",
   "metadata": {},
   "source": [
    "# what is the chunking of the files in this final_search catalog?"
   ]
  },
  {
   "cell_type": "code",
   "execution_count": null,
   "id": "e3613380-60b7-4ea7-a6f7-cfdfe936c9c9",
   "metadata": {},
   "outputs": [],
   "source": [
    "final_search.df['path'].iloc[0]"
   ]
  },
  {
   "cell_type": "code",
   "execution_count": null,
   "id": "bbe2d392-1f07-41cf-a12d-3d27403e7418",
   "metadata": {},
   "outputs": [],
   "source": [
    "find_chunking_info(final_search,'intpp',return_results=False)"
   ]
  },
  {
   "cell_type": "markdown",
   "id": "5c5498b2-b0b2-4012-9be7-2eae85487bf8",
   "metadata": {},
   "source": [
    "# load without specifying any chunking"
   ]
  },
  {
   "cell_type": "code",
   "execution_count": null,
   "id": "0d946d73-29be-42a7-8f02-6c622f0d4277",
   "metadata": {},
   "outputs": [],
   "source": [
    "%%time\n",
    "ds_ESM15_esorted = load_ACCESS_ESM_ensemble(final_search)"
   ]
  },
  {
   "cell_type": "code",
   "execution_count": null,
   "id": "2e8bf991-5212-438e-a82d-70cfefd873b8",
   "metadata": {},
   "outputs": [],
   "source": [
    "ds_ESM15_esorted"
   ]
  },
  {
   "cell_type": "markdown",
   "id": "da300175-a28a-4090-9992-f53b9e9f3994",
   "metadata": {},
   "source": [
    "#### One still needs to know what dimensions (1, 300, 360 ; ) refers to and something about MB size per chunk to set the time to 220 . . . these rules of thumb should be in the yaml settings file until much more complicated heuristics could be coded"
   ]
  },
  {
   "cell_type": "code",
   "execution_count": null,
   "id": "d7b136e0-30f5-4096-a5f5-d71a3d92b0b3",
   "metadata": {},
   "outputs": [],
   "source": [
    "%%time\n",
    "ds_ESM15_esorted = load_ACCESS_ESM_ensemble(final_search,chunking_settings={'chunks':{'member':1,'time':220,'j':300,'i':360}})"
   ]
  },
  {
   "cell_type": "code",
   "execution_count": null,
   "id": "63ead743-6362-4949-8f26-1f2b81beb451",
   "metadata": {},
   "outputs": [],
   "source": [
    "ds_ESM15_esorted"
   ]
  },
  {
   "cell_type": "code",
   "execution_count": null,
   "id": "11eb1573-f577-409c-ad15-afe1dc7716c2",
   "metadata": {},
   "outputs": [],
   "source": [
    "%%time\n",
    "ds_ESM15_esorted = load_ACCESS_ESM_ensemble(final_search,chunking_key='ACCESS_ESM15_2D')"
   ]
  },
  {
   "cell_type": "code",
   "execution_count": null,
   "id": "13e76dea-0d76-473a-affa-dddc400b0f03",
   "metadata": {},
   "outputs": [],
   "source": [
    "ds_ESM15_esorted"
   ]
  },
  {
   "cell_type": "code",
   "execution_count": null,
   "id": "bfe1f724-a5b6-47b9-8733-541730ea942a",
   "metadata": {},
   "outputs": [],
   "source": [
    "ds_ESM15_esorted.isel(member=0).mean('time').intpp.plot()"
   ]
  },
  {
   "cell_type": "markdown",
   "id": "89da06cc-4075-45a1-a3c3-135256b285b6",
   "metadata": {},
   "source": [
    "# 3D dataset?"
   ]
  },
  {
   "cell_type": "code",
   "execution_count": null,
   "id": "d32c6dec-493b-4e9a-bfd1-4368cbc04efe",
   "metadata": {},
   "outputs": [],
   "source": [
    "thetao_search = cmip6_fs38_ocean_datastore.search(file_type='l',\n",
    "                    variable_id='thetao',source_id='ACCESS-ESM1-5',experiment_id='historical')"
   ]
  },
  {
   "cell_type": "code",
   "execution_count": null,
   "id": "5b71b02d-460e-4843-8eaf-eedca514a488",
   "metadata": {},
   "outputs": [],
   "source": [
    "report_esm_unique(thetao_search)"
   ]
  },
  {
   "cell_type": "code",
   "execution_count": null,
   "id": "deea68a9-1b34-498d-9e98-f5b323f8ec46",
   "metadata": {},
   "outputs": [],
   "source": [
    "find_chunking_info(thetao_search,'thetao',return_results=False)"
   ]
  },
  {
   "cell_type": "code",
   "execution_count": null,
   "id": "61745e7f-ea3a-4780-a295-b7e8b5fa2c6e",
   "metadata": {},
   "outputs": [],
   "source": [
    "find_chunking_info(thetao_search,'thetao',return_results=True)"
   ]
  },
  {
   "cell_type": "code",
   "execution_count": null,
   "id": "cbabe34f-e1d6-4daa-b8de-3e07e7578919",
   "metadata": {},
   "outputs": [],
   "source": [
    "xr.open_mfdataset('/g/data/fs38/publications/CMIP6/CMIP/CSIRO/ACCESS-ESM1-5/historical/r3i1p1f1/Omon/thetao/gn/v20191203/thetao_Omon_ACCESS-ESM1-5_historical_r3i1p1f1_gn_189001-189912.nc')"
   ]
  },
  {
   "cell_type": "code",
   "execution_count": null,
   "id": "6b69d82a-f6f5-4761-8ebb-82136940e04c",
   "metadata": {},
   "outputs": [],
   "source": [
    "%%time\n",
    "ds_ESM15_esorted = load_ACCESS_ESM_ensemble(thetao_search)"
   ]
  },
  {
   "cell_type": "code",
   "execution_count": null,
   "id": "6bced19a-9d0e-4cdc-84cc-3ba6ac30ab44",
   "metadata": {},
   "outputs": [],
   "source": [
    "ds_ESM15_esorted"
   ]
  },
  {
   "cell_type": "code",
   "execution_count": null,
   "id": "1dab745c-8e8b-4609-9846-a62a59df095a",
   "metadata": {},
   "outputs": [],
   "source": [
    "%%time\n",
    "ds_ESM15_esorted = load_ACCESS_ESM_ensemble(thetao_search,chunking_key='ACCESS_ESM15_3D')"
   ]
  },
  {
   "cell_type": "code",
   "execution_count": null,
   "id": "2646a9cd-1abd-490c-b978-bb397dbe13ba",
   "metadata": {},
   "outputs": [],
   "source": [
    "ds_ESM15_esorted"
   ]
  },
  {
   "cell_type": "markdown",
   "id": "8c8d0ff8-d658-42ec-afa0-6be1b60049c2",
   "metadata": {},
   "source": [
    "# let's use the tools as they exist to try to start the workflow"
   ]
  },
  {
   "cell_type": "markdown",
   "id": "5ccb460e-7d6c-4f53-9a90-01868223d7c9",
   "metadata": {},
   "source": [
    "## I want Australian CMIP6 data"
   ]
  },
  {
   "cell_type": "code",
   "execution_count": 10,
   "id": "99480ae8-b4aa-4487-9b9a-20d1057c0ade",
   "metadata": {},
   "outputs": [],
   "source": [
    "cmip6_fs38_datastore = catalog.search(name='cmip6_fs38').to_source()"
   ]
  },
  {
   "cell_type": "code",
   "execution_count": 11,
   "id": "142282f8-8e7e-4eca-8bbc-ffcfac0216e4",
   "metadata": {},
   "outputs": [
    {
     "name": "stdout",
     "output_type": "stream",
     "text": [
      "Possible query kwargs for search method: ['name', 'model', 'description', 'realm', 'frequency', 'variable', 'yaml']\n"
     ]
    }
   ],
   "source": [
    "query_kwargs = list_catalog_query_kwargs(catalog)\n",
    "print(\"Possible query kwargs for search method:\", query_kwargs)"
   ]
  },
  {
   "cell_type": "code",
   "execution_count": 23,
   "id": "f94a8ed7-851b-40d6-97c0-b000f6a0c709",
   "metadata": {},
   "outputs": [
    {
     "data": {
      "text/html": [
       "<p><strong>cmip6-fs38 catalog with 346754 dataset(s) from 1054133 asset(s)</strong>:</p> <div>\n",
       "<style scoped>\n",
       "    .dataframe tbody tr th:only-of-type {\n",
       "        vertical-align: middle;\n",
       "    }\n",
       "\n",
       "    .dataframe tbody tr th {\n",
       "        vertical-align: top;\n",
       "    }\n",
       "\n",
       "    .dataframe thead th {\n",
       "        text-align: right;\n",
       "    }\n",
       "</style>\n",
       "<table border=\"1\" class=\"dataframe\">\n",
       "  <thead>\n",
       "    <tr style=\"text-align: right;\">\n",
       "      <th></th>\n",
       "      <th>unique</th>\n",
       "    </tr>\n",
       "  </thead>\n",
       "  <tbody>\n",
       "    <tr>\n",
       "      <th>path</th>\n",
       "      <td>1054133</td>\n",
       "    </tr>\n",
       "    <tr>\n",
       "      <th>file_type</th>\n",
       "      <td>2</td>\n",
       "    </tr>\n",
       "    <tr>\n",
       "      <th>realm</th>\n",
       "      <td>7</td>\n",
       "    </tr>\n",
       "    <tr>\n",
       "      <th>frequency</th>\n",
       "      <td>10</td>\n",
       "    </tr>\n",
       "    <tr>\n",
       "      <th>table_id</th>\n",
       "      <td>24</td>\n",
       "    </tr>\n",
       "    <tr>\n",
       "      <th>project_id</th>\n",
       "      <td>1</td>\n",
       "    </tr>\n",
       "    <tr>\n",
       "      <th>institution_id</th>\n",
       "      <td>3</td>\n",
       "    </tr>\n",
       "    <tr>\n",
       "      <th>source_id</th>\n",
       "      <td>4</td>\n",
       "    </tr>\n",
       "    <tr>\n",
       "      <th>experiment_id</th>\n",
       "      <td>52</td>\n",
       "    </tr>\n",
       "    <tr>\n",
       "      <th>member_id</th>\n",
       "      <td>80</td>\n",
       "    </tr>\n",
       "    <tr>\n",
       "      <th>variable_id</th>\n",
       "      <td>329</td>\n",
       "    </tr>\n",
       "    <tr>\n",
       "      <th>grid_label</th>\n",
       "      <td>1</td>\n",
       "    </tr>\n",
       "    <tr>\n",
       "      <th>version</th>\n",
       "      <td>183</td>\n",
       "    </tr>\n",
       "    <tr>\n",
       "      <th>time_range</th>\n",
       "      <td>2898</td>\n",
       "    </tr>\n",
       "    <tr>\n",
       "      <th>derived_variable_id</th>\n",
       "      <td>0</td>\n",
       "    </tr>\n",
       "  </tbody>\n",
       "</table>\n",
       "</div>"
      ],
      "text/plain": [
       "<IPython.core.display.HTML object>"
      ]
     },
     "metadata": {},
     "output_type": "display_data"
    }
   ],
   "source": [
    "catalog.search(name='cmip6_fs38',model='ACCESS-ESM1-5',realm='ocean',frequency='1mon').to_source()"
   ]
  },
  {
   "cell_type": "code",
   "execution_count": 34,
   "id": "edca464e-4b0c-47b8-91ae-27ff5bc4d80c",
   "metadata": {},
   "outputs": [],
   "source": [
    "query_dict2 = {'model':'ACCESS-ESM1-5','realm':['ocean','ocnBgchem'],'frequency':'1mon'}\n",
    "query_dict1 = {'name':'cmip6_fs38'}"
   ]
  },
  {
   "cell_type": "code",
   "execution_count": 35,
   "id": "bd9311ec-7218-4180-8a9f-3c93ee1a98ef",
   "metadata": {},
   "outputs": [
    {
     "ename": "ValidationError",
     "evalue": "1 validation error for QueryModel\n  Value error, Column model not in columns ['path', 'file_type', 'realm', 'frequency', 'table_id', 'project_id', 'institution_id', 'source_id', 'experiment_id', 'member_id', 'variable_id', 'grid_label', 'version', 'time_range'] [type=value_error, input_value={'query': {'model': 'ACCE...version', 'time_range']}, input_type=dict]\n    For further information visit https://errors.pydantic.dev/2.7/v/value_error",
     "output_type": "error",
     "traceback": [
      "\u001b[0;31m---------------------------------------------------------------------------\u001b[0m",
      "\u001b[0;31mValidationError\u001b[0m                           Traceback (most recent call last)",
      "Cell \u001b[0;32mIn[35], line 1\u001b[0m\n\u001b[0;32m----> 1\u001b[0m \u001b[43m(\u001b[49m\u001b[43mcatalog\u001b[49m\u001b[38;5;241;43m.\u001b[39;49m\u001b[43msearch\u001b[49m\u001b[43m(\u001b[49m\u001b[38;5;241;43m*\u001b[39;49m\u001b[38;5;241;43m*\u001b[39;49m\u001b[43mquery_dict1\u001b[49m\u001b[43m)\u001b[49m\u001b[38;5;241;43m.\u001b[39;49m\u001b[43mto_source\u001b[49m\u001b[43m(\u001b[49m\u001b[43m)\u001b[49m\u001b[43m)\u001b[49m\u001b[38;5;241;43m.\u001b[39;49m\u001b[43msearch\u001b[49m\u001b[43m(\u001b[49m\u001b[38;5;241;43m*\u001b[39;49m\u001b[38;5;241;43m*\u001b[39;49m\u001b[43mquery_dict2\u001b[49m\u001b[43m)\u001b[49m\n",
      "File \u001b[0;32m/g/data/hh5/public/apps/miniconda3/envs/analysis3-24.04/lib/python3.10/site-packages/pydantic/deprecated/decorator.py:55\u001b[0m, in \u001b[0;36mvalidate_arguments.<locals>.validate.<locals>.wrapper_function\u001b[0;34m(*args, **kwargs)\u001b[0m\n\u001b[1;32m     53\u001b[0m \u001b[38;5;129m@wraps\u001b[39m(_func)\n\u001b[1;32m     54\u001b[0m \u001b[38;5;28;01mdef\u001b[39;00m \u001b[38;5;21mwrapper_function\u001b[39m(\u001b[38;5;241m*\u001b[39margs: Any, \u001b[38;5;241m*\u001b[39m\u001b[38;5;241m*\u001b[39mkwargs: Any) \u001b[38;5;241m-\u001b[39m\u001b[38;5;241m>\u001b[39m Any:\n\u001b[0;32m---> 55\u001b[0m     \u001b[38;5;28;01mreturn\u001b[39;00m \u001b[43mvd\u001b[49m\u001b[38;5;241;43m.\u001b[39;49m\u001b[43mcall\u001b[49m\u001b[43m(\u001b[49m\u001b[38;5;241;43m*\u001b[39;49m\u001b[43margs\u001b[49m\u001b[43m,\u001b[49m\u001b[43m \u001b[49m\u001b[38;5;241;43m*\u001b[39;49m\u001b[38;5;241;43m*\u001b[39;49m\u001b[43mkwargs\u001b[49m\u001b[43m)\u001b[49m\n",
      "File \u001b[0;32m/g/data/hh5/public/apps/miniconda3/envs/analysis3-24.04/lib/python3.10/site-packages/pydantic/deprecated/decorator.py:150\u001b[0m, in \u001b[0;36mValidatedFunction.call\u001b[0;34m(self, *args, **kwargs)\u001b[0m\n\u001b[1;32m    148\u001b[0m \u001b[38;5;28;01mdef\u001b[39;00m \u001b[38;5;21mcall\u001b[39m(\u001b[38;5;28mself\u001b[39m, \u001b[38;5;241m*\u001b[39margs: Any, \u001b[38;5;241m*\u001b[39m\u001b[38;5;241m*\u001b[39mkwargs: Any) \u001b[38;5;241m-\u001b[39m\u001b[38;5;241m>\u001b[39m Any:\n\u001b[1;32m    149\u001b[0m     m \u001b[38;5;241m=\u001b[39m \u001b[38;5;28mself\u001b[39m\u001b[38;5;241m.\u001b[39minit_model_instance(\u001b[38;5;241m*\u001b[39margs, \u001b[38;5;241m*\u001b[39m\u001b[38;5;241m*\u001b[39mkwargs)\n\u001b[0;32m--> 150\u001b[0m     \u001b[38;5;28;01mreturn\u001b[39;00m \u001b[38;5;28;43mself\u001b[39;49m\u001b[38;5;241;43m.\u001b[39;49m\u001b[43mexecute\u001b[49m\u001b[43m(\u001b[49m\u001b[43mm\u001b[49m\u001b[43m)\u001b[49m\n",
      "File \u001b[0;32m/g/data/hh5/public/apps/miniconda3/envs/analysis3-24.04/lib/python3.10/site-packages/pydantic/deprecated/decorator.py:222\u001b[0m, in \u001b[0;36mValidatedFunction.execute\u001b[0;34m(self, m)\u001b[0m\n\u001b[1;32m    220\u001b[0m     \u001b[38;5;28;01mreturn\u001b[39;00m \u001b[38;5;28mself\u001b[39m\u001b[38;5;241m.\u001b[39mraw_function(\u001b[38;5;241m*\u001b[39margs_, \u001b[38;5;241m*\u001b[39m\u001b[38;5;241m*\u001b[39mkwargs, \u001b[38;5;241m*\u001b[39m\u001b[38;5;241m*\u001b[39mvar_kwargs)\n\u001b[1;32m    221\u001b[0m \u001b[38;5;28;01melse\u001b[39;00m:\n\u001b[0;32m--> 222\u001b[0m     \u001b[38;5;28;01mreturn\u001b[39;00m \u001b[38;5;28;43mself\u001b[39;49m\u001b[38;5;241;43m.\u001b[39;49m\u001b[43mraw_function\u001b[49m\u001b[43m(\u001b[49m\u001b[38;5;241;43m*\u001b[39;49m\u001b[38;5;241;43m*\u001b[39;49m\u001b[43md\u001b[49m\u001b[43m,\u001b[49m\u001b[43m \u001b[49m\u001b[38;5;241;43m*\u001b[39;49m\u001b[38;5;241;43m*\u001b[39;49m\u001b[43mvar_kwargs\u001b[49m\u001b[43m)\u001b[49m\n",
      "File \u001b[0;32m/g/data/hh5/public/apps/miniconda3/envs/analysis3-24.04/lib/python3.10/site-packages/intake_esm/core.py:393\u001b[0m, in \u001b[0;36mesm_datastore.search\u001b[0;34m(self, require_all_on, **query)\u001b[0m\n\u001b[1;32m    337\u001b[0m \u001b[38;5;250m\u001b[39m\u001b[38;5;124;03m\"\"\"Search for entries in the catalog.\u001b[39;00m\n\u001b[1;32m    338\u001b[0m \n\u001b[1;32m    339\u001b[0m \u001b[38;5;124;03mParameters\u001b[39;00m\n\u001b[0;32m   (...)\u001b[0m\n\u001b[1;32m    389\u001b[0m \u001b[38;5;124;03m4    landCoverFrac\u001b[39;00m\n\u001b[1;32m    390\u001b[0m \u001b[38;5;124;03m\"\"\"\u001b[39;00m\n\u001b[1;32m    392\u001b[0m \u001b[38;5;66;03m# step 1: Search in the base/main catalog\u001b[39;00m\n\u001b[0;32m--> 393\u001b[0m esmcat_results \u001b[38;5;241m=\u001b[39m \u001b[38;5;28;43mself\u001b[39;49m\u001b[38;5;241;43m.\u001b[39;49m\u001b[43mesmcat\u001b[49m\u001b[38;5;241;43m.\u001b[39;49m\u001b[43msearch\u001b[49m\u001b[43m(\u001b[49m\u001b[43mrequire_all_on\u001b[49m\u001b[38;5;241;43m=\u001b[39;49m\u001b[43mrequire_all_on\u001b[49m\u001b[43m,\u001b[49m\u001b[43m \u001b[49m\u001b[43mquery\u001b[49m\u001b[38;5;241;43m=\u001b[39;49m\u001b[43mquery\u001b[49m\u001b[43m)\u001b[49m\n\u001b[1;32m    395\u001b[0m \u001b[38;5;66;03m# step 2: Search for entries required to derive variables in the derived catalogs\u001b[39;00m\n\u001b[1;32m    396\u001b[0m \u001b[38;5;66;03m# This requires a bit of a hack i.e. the user has to specify the variable in the query\u001b[39;00m\n\u001b[1;32m    397\u001b[0m derivedcat_results \u001b[38;5;241m=\u001b[39m []\n",
      "File \u001b[0;32m/g/data/hh5/public/apps/miniconda3/envs/analysis3-24.04/lib/python3.10/site-packages/intake_esm/cat.py:380\u001b[0m, in \u001b[0;36mESMCatalogModel.search\u001b[0;34m(self, query, require_all_on)\u001b[0m\n\u001b[1;32m    351\u001b[0m \u001b[38;5;28;01mdef\u001b[39;00m \u001b[38;5;21msearch\u001b[39m(\n\u001b[1;32m    352\u001b[0m     \u001b[38;5;28mself\u001b[39m,\n\u001b[1;32m    353\u001b[0m     \u001b[38;5;241m*\u001b[39m,\n\u001b[1;32m    354\u001b[0m     query: typing\u001b[38;5;241m.\u001b[39mUnion[\u001b[38;5;124m'\u001b[39m\u001b[38;5;124mQueryModel\u001b[39m\u001b[38;5;124m'\u001b[39m, \u001b[38;5;28mdict\u001b[39m[\u001b[38;5;28mstr\u001b[39m, typing\u001b[38;5;241m.\u001b[39mAny]],\n\u001b[1;32m    355\u001b[0m     require_all_on: typing\u001b[38;5;241m.\u001b[39mUnion[\u001b[38;5;28mstr\u001b[39m, \u001b[38;5;28mlist\u001b[39m[\u001b[38;5;28mstr\u001b[39m]] \u001b[38;5;241m=\u001b[39m \u001b[38;5;28;01mNone\u001b[39;00m,\n\u001b[1;32m    356\u001b[0m ) \u001b[38;5;241m-\u001b[39m\u001b[38;5;241m>\u001b[39m \u001b[38;5;124m'\u001b[39m\u001b[38;5;124mESMCatalogModel\u001b[39m\u001b[38;5;124m'\u001b[39m:\n\u001b[1;32m    357\u001b[0m \u001b[38;5;250m    \u001b[39m\u001b[38;5;124;03m\"\"\"\u001b[39;00m\n\u001b[1;32m    358\u001b[0m \u001b[38;5;124;03m    Search for entries in the catalog.\u001b[39;00m\n\u001b[1;32m    359\u001b[0m \n\u001b[0;32m   (...)\u001b[0m\n\u001b[1;32m    374\u001b[0m \n\u001b[1;32m    375\u001b[0m \u001b[38;5;124;03m    \"\"\"\u001b[39;00m\n\u001b[1;32m    377\u001b[0m     _query \u001b[38;5;241m=\u001b[39m (\n\u001b[1;32m    378\u001b[0m         query\n\u001b[1;32m    379\u001b[0m         \u001b[38;5;28;01mif\u001b[39;00m \u001b[38;5;28misinstance\u001b[39m(query, QueryModel)\n\u001b[0;32m--> 380\u001b[0m         \u001b[38;5;28;01melse\u001b[39;00m \u001b[43mQueryModel\u001b[49m\u001b[43m(\u001b[49m\n\u001b[1;32m    381\u001b[0m \u001b[43m            \u001b[49m\u001b[43mquery\u001b[49m\u001b[38;5;241;43m=\u001b[39;49m\u001b[43mquery\u001b[49m\u001b[43m,\u001b[49m\u001b[43m \u001b[49m\u001b[43mrequire_all_on\u001b[49m\u001b[38;5;241;43m=\u001b[39;49m\u001b[43mrequire_all_on\u001b[49m\u001b[43m,\u001b[49m\u001b[43m \u001b[49m\u001b[43mcolumns\u001b[49m\u001b[38;5;241;43m=\u001b[39;49m\u001b[38;5;28;43mself\u001b[39;49m\u001b[38;5;241;43m.\u001b[39;49m\u001b[43mdf\u001b[49m\u001b[38;5;241;43m.\u001b[39;49m\u001b[43mcolumns\u001b[49m\u001b[38;5;241;43m.\u001b[39;49m\u001b[43mtolist\u001b[49m\u001b[43m(\u001b[49m\u001b[43m)\u001b[49m\n\u001b[1;32m    382\u001b[0m \u001b[43m        \u001b[49m\u001b[43m)\u001b[49m\n\u001b[1;32m    383\u001b[0m     )\n\u001b[1;32m    385\u001b[0m     results \u001b[38;5;241m=\u001b[39m search(\n\u001b[1;32m    386\u001b[0m         df\u001b[38;5;241m=\u001b[39m\u001b[38;5;28mself\u001b[39m\u001b[38;5;241m.\u001b[39mdf, query\u001b[38;5;241m=\u001b[39m_query\u001b[38;5;241m.\u001b[39mquery, columns_with_iterables\u001b[38;5;241m=\u001b[39m\u001b[38;5;28mself\u001b[39m\u001b[38;5;241m.\u001b[39mcolumns_with_iterables\n\u001b[1;32m    387\u001b[0m     )\n\u001b[1;32m    388\u001b[0m     \u001b[38;5;28;01mif\u001b[39;00m _query\u001b[38;5;241m.\u001b[39mrequire_all_on \u001b[38;5;129;01mis\u001b[39;00m \u001b[38;5;129;01mnot\u001b[39;00m \u001b[38;5;28;01mNone\u001b[39;00m \u001b[38;5;129;01mand\u001b[39;00m \u001b[38;5;129;01mnot\u001b[39;00m results\u001b[38;5;241m.\u001b[39mempty:\n",
      "File \u001b[0;32m/g/data/hh5/public/apps/miniconda3/envs/analysis3-24.04/lib/python3.10/site-packages/pydantic/main.py:176\u001b[0m, in \u001b[0;36mBaseModel.__init__\u001b[0;34m(self, **data)\u001b[0m\n\u001b[1;32m    174\u001b[0m \u001b[38;5;66;03m# `__tracebackhide__` tells pytest and some other tools to omit this function from tracebacks\u001b[39;00m\n\u001b[1;32m    175\u001b[0m __tracebackhide__ \u001b[38;5;241m=\u001b[39m \u001b[38;5;28;01mTrue\u001b[39;00m\n\u001b[0;32m--> 176\u001b[0m \u001b[38;5;28;43mself\u001b[39;49m\u001b[38;5;241;43m.\u001b[39;49m\u001b[43m__pydantic_validator__\u001b[49m\u001b[38;5;241;43m.\u001b[39;49m\u001b[43mvalidate_python\u001b[49m\u001b[43m(\u001b[49m\u001b[43mdata\u001b[49m\u001b[43m,\u001b[49m\u001b[43m \u001b[49m\u001b[43mself_instance\u001b[49m\u001b[38;5;241;43m=\u001b[39;49m\u001b[38;5;28;43mself\u001b[39;49m\u001b[43m)\u001b[49m\n",
      "\u001b[0;31mValidationError\u001b[0m: 1 validation error for QueryModel\n  Value error, Column model not in columns ['path', 'file_type', 'realm', 'frequency', 'table_id', 'project_id', 'institution_id', 'source_id', 'experiment_id', 'member_id', 'variable_id', 'grid_label', 'version', 'time_range'] [type=value_error, input_value={'query': {'model': 'ACCE...version', 'time_range']}, input_type=dict]\n    For further information visit https://errors.pydantic.dev/2.7/v/value_error"
     ]
    }
   ],
   "source": [
    "(catalog.search(**query_dict1).to_source()).search(**query_dict2)"
   ]
  },
  {
   "cell_type": "code",
   "execution_count": null,
   "id": "e0bcfb22-fd3f-4039-a672-50a8d20f2910",
   "metadata": {},
   "outputs": [],
   "source": []
  }
 ],
 "metadata": {
  "kernelspec": {
   "display_name": "Python [conda env:analysis3]",
   "language": "python",
   "name": "conda-env-analysis3-py"
  },
  "language_info": {
   "codemirror_mode": {
    "name": "ipython",
    "version": 3
   },
   "file_extension": ".py",
   "mimetype": "text/x-python",
   "name": "python",
   "nbconvert_exporter": "python",
   "pygments_lexer": "ipython3",
   "version": "3.10.14"
  }
 },
 "nbformat": 4,
 "nbformat_minor": 5
}
