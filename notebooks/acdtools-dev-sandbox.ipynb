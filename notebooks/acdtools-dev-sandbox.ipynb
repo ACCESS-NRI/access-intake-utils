{
 "cells": [
  {
   "cell_type": "markdown",
   "id": "2bbcce82-88b9-4dc3-81f7-305710b84adf",
   "metadata": {},
   "source": [
    "# ACDtools dev sandbox "
   ]
  },
  {
   "cell_type": "markdown",
   "id": "444db49f-f4c2-4d6c-a5bf-83576d2f5c9a",
   "metadata": {},
   "source": [
    "#### Date: 2 October, 2024"
   ]
  },
  {
   "cell_type": "markdown",
   "id": "a0158574-20a2-4c25-bf47-f384dbb80648",
   "metadata": {},
   "source": [
    "Author = {\"name\": \"Thomas Moore\", \"affiliation\": \"CSIRO\", \"email\": \"thomas.moore@csiro.au\", \"orcid\": \"0000-0003-3930-1946\"}"
   ]
  },
  {
   "cell_type": "markdown",
   "id": "c2899b25-cc56-44c1-9140-48169824c5bf",
   "metadata": {},
   "source": [
    "# Install ACDtools"
   ]
  },
  {
   "cell_type": "code",
   "execution_count": 1,
   "id": "57562294-57e8-4ce7-b129-8ebf86b2fac0",
   "metadata": {},
   "outputs": [
    {
     "name": "stdout",
     "output_type": "stream",
     "text": [
      "Obtaining file:///g/data/es60/users/thomas_moore/code/ACDtools\n",
      "  Installing build dependencies ... \u001b[?25ldone\n",
      "\u001b[?25h  Checking if build backend supports build_editable ... \u001b[?25ldone\n",
      "\u001b[?25h  Getting requirements to build editable ... \u001b[?25ldone\n",
      "\u001b[?25h  Preparing editable metadata (pyproject.toml) ... \u001b[?25ldone\n",
      "\u001b[?25hBuilding wheels for collected packages: ACDtools\n",
      "  Building editable for ACDtools (pyproject.toml) ... \u001b[?25ldone\n",
      "\u001b[?25h  Created wheel for ACDtools: filename=ACDtools-0.1-0.editable-py3-none-any.whl size=3514 sha256=860f9930eb704c3c8d1d81f189a712a456deb39dba756e2bceb590f2b5c63b32\n",
      "  Stored in directory: /jobfs/126318436.gadi-pbs/pip-ephem-wheel-cache-1ymnjtvy/wheels/b6/a3/f2/6ce45fbdc116ad50e421d6a11cb060cc796e867501807af446\n",
      "Successfully built ACDtools\n",
      "Installing collected packages: ACDtools\n",
      "  Attempting uninstall: ACDtools\n",
      "    Found existing installation: ACDtools 0.1\n",
      "    Uninstalling ACDtools-0.1:\n",
      "      Successfully uninstalled ACDtools-0.1\n",
      "Successfully installed ACDtools-0.1\n"
     ]
    }
   ],
   "source": [
    "!pip install --user -e /g/data/es60/users/thomas_moore/code/ACDtools"
   ]
  },
  {
   "cell_type": "code",
   "execution_count": 72,
   "id": "0215fd7c-caad-49fd-8440-03f2426e6791",
   "metadata": {},
   "outputs": [
    {
     "name": "stdout",
     "output_type": "stream",
     "text": [
      "The autoreload extension is already loaded. To reload it, use:\n",
      "  %reload_ext autoreload\n"
     ]
    }
   ],
   "source": [
    "# Enable autoreload in the notebook\n",
    "%load_ext autoreload\n",
    "%autoreload 1 \n",
    "%aimport ACDtools.util\n",
    "# Importing from your local package\n",
    "from ACDtools.util import test_function\n",
    "from ACDtools.util import detect_compute_platform\n",
    "from ACDtools.util import load_config\n",
    "from ACDtools.util import start_dask_cluster_from_config\n",
    "from ACDtools.util import esm_datastore_unique"
   ]
  },
  {
   "cell_type": "markdown",
   "id": "d0e7fffe-1565-4a71-9622-dc4266f555df",
   "metadata": {},
   "source": [
    "# Notebook settings"
   ]
  },
  {
   "cell_type": "markdown",
   "id": "c94d2934-9f8a-4495-b32a-46c1ac293870",
   "metadata": {},
   "source": [
    "### filter warnings"
   ]
  },
  {
   "cell_type": "code",
   "execution_count": 3,
   "id": "c774b769-3308-49e6-8c1d-90b7e5645ad3",
   "metadata": {},
   "outputs": [],
   "source": [
    "import warnings\n",
    "warnings.filterwarnings(\"ignore\") # Suppress warnings"
   ]
  },
  {
   "cell_type": "markdown",
   "id": "7fcad830-ea7e-4ecd-a64b-b5f9edeb305a",
   "metadata": {},
   "source": [
    "# Dask cluster from config\n",
    "`client, cluster = start_dask_cluster_from_config('netcdf_work')`\n",
    "<br>OR<br>\n",
    "`client, cluster = start_dask_cluster_from_config('zarr_work')`"
   ]
  },
  {
   "cell_type": "code",
   "execution_count": 4,
   "id": "6935fbd8-fcb1-4784-912b-7dea47c469b0",
   "metadata": {},
   "outputs": [
    {
     "name": "stdout",
     "output_type": "stream",
     "text": [
      "Cluster started with 28 workers.\n",
      "Dashboard available at: /proxy/8787/status\n"
     ]
    }
   ],
   "source": [
    "client, cluster = start_dask_cluster_from_config('netcdf_work')"
   ]
  },
  {
   "cell_type": "markdown",
   "id": "453d3b34-0f7f-499c-838e-f9d713ee82bc",
   "metadata": {},
   "source": [
    "# Issue: write function to load ACCESS-ESM1.5 data object using intake catalogs at NCI\n",
    "- https://github.com/Thomas-Moore-Creative/ACDtools/issues/1"
   ]
  },
  {
   "cell_type": "markdown",
   "id": "34ff8424-e03b-43a6-aa5a-0632284e71bd",
   "metadata": {},
   "source": [
    "## utilise CMIP6 data catalogs for NCI holdings"
   ]
  },
  {
   "cell_type": "markdown",
   "id": "6a82586a-8ca1-47b9-9794-ddfad8cccd43",
   "metadata": {},
   "source": [
    "##### Information on climate data catalogs across Australian HPC\n",
    "\n",
    "**ACCESS-NRI** https://access-nri-intake-catalog.readthedocs.io/en/latest/usage/how.html <br>\n",
    "**NCI** https://opus.nci.org.au/pages/viewpage.action?pageId=213713098\n"
   ]
  },
  {
   "cell_type": "markdown",
   "id": "4caad95a-0596-4d57-9e83-e8a390dd99a9",
   "metadata": {
    "jp-MarkdownHeadingCollapsed": true
   },
   "source": [
    "##### $\\bigstar$ Get inspiration from ACCESS-NRI intake catalog docs: ACCESS-ESM1-5 CMIP6 example\n",
    "https://access-nri-intake-catalog.readthedocs.io/en/latest/usage/quickstart.html"
   ]
  },
  {
   "cell_type": "markdown",
   "id": "f13e29a8-ca33-4e22-9755-252be78c1800",
   "metadata": {},
   "source": [
    "# import packages"
   ]
  },
  {
   "cell_type": "code",
   "execution_count": 40,
   "id": "0b6b05c0-eb4c-4095-b55f-e70b077a10b4",
   "metadata": {},
   "outputs": [],
   "source": [
    "import intake\n",
    "import xarray as xr\n",
    "import numpy as np\n",
    "import gc\n",
    "import json"
   ]
  },
  {
   "cell_type": "markdown",
   "id": "d7658e34-4789-4e9c-a087-64f4e10c504c",
   "metadata": {},
   "source": [
    "### import the ACCESS-NRI catalog"
   ]
  },
  {
   "cell_type": "code",
   "execution_count": 6,
   "id": "36899205-6bf0-47c1-8e4a-555bac3a2b9d",
   "metadata": {},
   "outputs": [],
   "source": [
    "catalog = intake.cat.access_nri"
   ]
  },
  {
   "cell_type": "markdown",
   "id": "2af409ca-3553-4ab3-9804-95005f72ac21",
   "metadata": {},
   "source": [
    "### (1) \"I know I want Australian CMIP6 data - so that's fs38 and I need access to that NCI project\""
   ]
  },
  {
   "cell_type": "code",
   "execution_count": 7,
   "id": "94c7b943-6547-4793-9b57-efa835e3a863",
   "metadata": {},
   "outputs": [],
   "source": [
    "cmip6_fs38_datastore = catalog.search(name='cmip6_fs38').to_source()"
   ]
  },
  {
   "cell_type": "markdown",
   "id": "aaba1469-c576-4ca0-96b0-38d1ed9ad465",
   "metadata": {},
   "source": [
    "### (2) \"what are the realms covered by cmip6_fs38?\""
   ]
  },
  {
   "cell_type": "code",
   "execution_count": 80,
   "id": "f6b104fc-662a-4f76-8578-b9c7acc26e10",
   "metadata": {},
   "outputs": [
    {
     "name": "stdout",
     "output_type": "stream",
     "text": [
      "╒════════════╤═════════════════╕\n",
      "│ Category   │ Unique values   │\n",
      "╞════════════╪═════════════════╡\n",
      "│ realm      │ aerosol         │\n",
      "│            │ atmos           │\n",
      "│            │ land            │\n",
      "│            │ landIce         │\n",
      "│            │ ocean           │\n",
      "│            │ ocnBgchem       │\n",
      "│            │ seaIce          │\n",
      "╘════════════╧═════════════════╛\n"
     ]
    }
   ],
   "source": [
    "esm_datastore_unique(cmip6_fs38_datastore,keep_list=['realm'])"
   ]
  },
  {
   "cell_type": "markdown",
   "id": "a144145f-d93c-4a82-bcb3-cdb957b3f6dd",
   "metadata": {},
   "source": [
    "### (3) I want to see what variables, over what frequencies, are available in both the 'ocean' & 'oceanBgchem' realms"
   ]
  },
  {
   "cell_type": "code",
   "execution_count": 81,
   "id": "27581c4c-5bf1-4338-ad57-f7f94ba5e0e0",
   "metadata": {},
   "outputs": [],
   "source": [
    "cmip6_fs38_ocean_datastore = cmip6_fs38_datastore.search(realm=['ocean','ocnBgchem'])"
   ]
  },
  {
   "cell_type": "code",
   "execution_count": 82,
   "id": "bae92dd2-ec5e-47d8-9062-debc67734100",
   "metadata": {},
   "outputs": [
    {
     "name": "stdout",
     "output_type": "stream",
     "text": [
      "╒════════════════╤═══════════════════════╕\n",
      "│ Category       │ Unique values         │\n",
      "╞════════════════╪═══════════════════════╡\n",
      "│ experiment_id  │ 1pctCO2               │\n",
      "│                │ 1pctCO2-bgc           │\n",
      "│                │ 1pctCO2-cdr           │\n",
      "│                │ 1pctCO2-rad           │\n",
      "│                │ abrupt-4xCO2          │\n",
      "│                │ esm-1pct-brch-1000PgC │\n",
      "│                │ esm-1pct-brch-2000PgC │\n",
      "│                │ esm-1pct-brch-750PgC  │\n",
      "│                │ esm-hist              │\n",
      "│                │ esm-pi-CO2pulse       │\n",
      "│                │ esm-pi-cdr-pulse      │\n",
      "│                │ esm-piControl         │\n",
      "│                │ esm-ssp585            │\n",
      "│                │ esm-ssp585-ssp126Lu   │\n",
      "│                │ faf-all               │\n",
      "│                │ faf-heat              │\n",
      "│                │ faf-heat-NA0pct       │\n",
      "│                │ faf-heat-NA50pct      │\n",
      "│                │ faf-passiveheat       │\n",
      "│                │ faf-stress            │\n",
      "│                │ faf-water             │\n",
      "│                │ hist-GHG              │\n",
      "│                │ hist-aer              │\n",
      "│                │ hist-bgc              │\n",
      "│                │ hist-nat              │\n",
      "│                │ hist-noLu             │\n",
      "│                │ historical            │\n",
      "│                │ lig127k               │\n",
      "│                │ midHolocene           │\n",
      "│                │ omip2                 │\n",
      "│                │ omip2-spunup          │\n",
      "│                │ piControl             │\n",
      "│                │ ssp126                │\n",
      "│                │ ssp126-ssp370Lu       │\n",
      "│                │ ssp245                │\n",
      "│                │ ssp245-cov-fossil     │\n",
      "│                │ ssp245-cov-modgreen   │\n",
      "│                │ ssp245-cov-strgreen   │\n",
      "│                │ ssp245-covid          │\n",
      "│                │ ssp370                │\n",
      "│                │ ssp370-ssp126Lu       │\n",
      "│                │ ssp534-over           │\n",
      "│                │ ssp585                │\n",
      "│                │ ssp585-bgc            │\n",
      "├────────────────┼───────────────────────┤\n",
      "│ file_type      │ f                     │\n",
      "│                │ l                     │\n",
      "├────────────────┼───────────────────────┤\n",
      "│ frequency      │ 3hrPt                 │\n",
      "│                │ day                   │\n",
      "│                │ fx                    │\n",
      "│                │ mon                   │\n",
      "│                │ monC                  │\n",
      "│                │ yr                    │\n",
      "├────────────────┼───────────────────────┤\n",
      "│ grid_label     │ gn                    │\n",
      "├────────────────┼───────────────────────┤\n",
      "│ institution_id │ CSIRO                 │\n",
      "│                │ CSIRO-ARCCSS          │\n",
      "│                │ CSIRO-COSIMA          │\n",
      "├────────────────┼───────────────────────┤\n",
      "│ project_id     │ CMIP                  │\n",
      "├────────────────┼───────────────────────┤\n",
      "│ realm          │ ocean                 │\n",
      "│                │ ocnBgchem             │\n",
      "├────────────────┼───────────────────────┤\n",
      "│ source_id      │ ACCESS-CM2            │\n",
      "│                │ ACCESS-ESM1-5         │\n",
      "│                │ ACCESS-OM2            │\n",
      "│                │ ACCESS-OM2-025        │\n",
      "├────────────────┼───────────────────────┤\n",
      "│ table_id       │ 3hr                   │\n",
      "│                │ Emon                  │\n",
      "│                │ Oclim                 │\n",
      "│                │ Oday                  │\n",
      "│                │ Ofx                   │\n",
      "│                │ Omon                  │\n",
      "│                │ Oyr                   │\n",
      "├────────────────┼───────────────────────┤\n",
      "│ variable_id    │ agessc                │\n",
      "│                │ arag                  │\n",
      "│                │ areacello             │\n",
      "│                │ basin                 │\n",
      "│                │ bigthetao             │\n",
      "│                │ bigthetaoga           │\n",
      "│                │ chl                   │\n",
      "│                │ chlos                 │\n",
      "│                │ deptho                │\n",
      "│                │ detoc                 │\n",
      "│                │ detocos               │\n",
      "│                │ dfe                   │\n",
      "│                │ dfeos                 │\n",
      "│                │ difvho                │\n",
      "│                │ difvso                │\n",
      "│                │ dissic                │\n",
      "│                │ dissicnat             │\n",
      "│                │ dissicnatos           │\n",
      "│                │ dissicos              │\n",
      "│                │ eparag100             │\n",
      "│                │ epc100                │\n",
      "│                │ evs                   │\n",
      "│                │ fgco2                 │\n",
      "│                │ fgco2nat              │\n",
      "│                │ fgo2                  │\n",
      "│                │ friver                │\n",
      "│                │ fsitherm              │\n",
      "│                │ hfbasin               │\n",
      "│                │ hfbasinpadv           │\n",
      "│                │ hfbasinpmadv          │\n",
      "│                │ hfds                  │\n",
      "│                │ hfevapds              │\n",
      "│                │ hflso                 │\n",
      "│                │ hfrainds              │\n",
      "│                │ hfsifrazil            │\n",
      "│                │ hfsso                 │\n",
      "│                │ htovgyre              │\n",
      "│                │ htovovrt              │\n",
      "│                │ intpp                 │\n",
      "│                │ masscello             │\n",
      "│                │ masso                 │\n",
      "│                │ mfo                   │\n",
      "│                │ mlotst                │\n",
      "│                │ msftbarot             │\n",
      "│                │ msftmrho              │\n",
      "│                │ msftmz                │\n",
      "│                │ msftyrho              │\n",
      "│                │ msftyz                │\n",
      "│                │ no3                   │\n",
      "│                │ no3os                 │\n",
      "│                │ o2                    │\n",
      "│                │ o2os                  │\n",
      "│                │ obvfsq                │\n",
      "│                │ ocontempdiff          │\n",
      "│                │ ocontempmint          │\n",
      "│                │ ocontemppadvect       │\n",
      "│                │ ocontemppmdiff        │\n",
      "│                │ ocontemppsmadvect     │\n",
      "│                │ ocontemprmadvect      │\n",
      "│                │ ocontemptend          │\n",
      "│                │ omldamax              │\n",
      "│                │ opottempmint          │\n",
      "│                │ osaltdiff             │\n",
      "│                │ osaltpadvect          │\n",
      "│                │ osaltpmdiff           │\n",
      "│                │ osaltpsmadvect        │\n",
      "│                │ osaltrmadvect         │\n",
      "│                │ osalttend             │\n",
      "│                │ pabigthetao           │\n",
      "│                │ pbo                   │\n",
      "│                │ phycos                │\n",
      "│                │ phynos                │\n",
      "│                │ po4                   │\n",
      "│                │ po4os                 │\n",
      "│                │ prbigthetao           │\n",
      "│                │ pso                   │\n",
      "│                │ rlntds                │\n",
      "│                │ rsdoabsorb            │\n",
      "│                │ rsntds                │\n",
      "│                │ sfriver               │\n",
      "│                │ sftof                 │\n",
      "│                │ sltovgyre             │\n",
      "│                │ sltovovrt             │\n",
      "│                │ so                    │\n",
      "│                │ sob                   │\n",
      "│                │ soga                  │\n",
      "│                │ somint                │\n",
      "│                │ sos                   │\n",
      "│                │ sosga                 │\n",
      "│                │ sossq                 │\n",
      "│                │ spco2                 │\n",
      "│                │ spco2nat              │\n",
      "│                │ talk                  │\n",
      "│                │ talkos                │\n",
      "│                │ tauuo                 │\n",
      "│                │ tauvo                 │\n",
      "│                │ thetao                │\n",
      "│                │ thetaoga              │\n",
      "│                │ thkcello              │\n",
      "│                │ tob                   │\n",
      "│                │ tos                   │\n",
      "│                │ tosga                 │\n",
      "│                │ tossq                 │\n",
      "│                │ umo                   │\n",
      "│                │ uo                    │\n",
      "│                │ vmo                   │\n",
      "│                │ vo                    │\n",
      "│                │ volcello              │\n",
      "│                │ volo                  │\n",
      "│                │ wfo                   │\n",
      "│                │ wmo                   │\n",
      "│                │ wo                    │\n",
      "│                │ zooc                  │\n",
      "│                │ zoocos                │\n",
      "│                │ zos                   │\n",
      "│                │ zossq                 │\n",
      "│                │ zostoga               │\n",
      "╘════════════════╧═══════════════════════╛\n"
     ]
    }
   ],
   "source": [
    "[sorted_unique_dict, table_data] = esm_datastore_unique(cmip6_fs38_ocean_datastore,return_results=True)"
   ]
  },
  {
   "cell_type": "code",
   "execution_count": 83,
   "id": "9cfe8097-494d-4187-8e9e-4e741499bfa6",
   "metadata": {},
   "outputs": [],
   "source": [
    "search = cmip6_fs38_ocean_datastore.search(file_type='l',\n",
    "                    variable_id='intpp',source_id='ACCESS-ESM1-5',experiment_id='historical')"
   ]
  },
  {
   "cell_type": "code",
   "execution_count": 84,
   "id": "aded047f-d413-4235-bc58-407d143bd4ca",
   "metadata": {},
   "outputs": [
    {
     "name": "stdout",
     "output_type": "stream",
     "text": [
      "╒════════════════╤═════════════════╕\n",
      "│ Category       │ Unique values   │\n",
      "╞════════════════╪═════════════════╡\n",
      "│ experiment_id  │ historical      │\n",
      "├────────────────┼─────────────────┤\n",
      "│ file_type      │ l               │\n",
      "├────────────────┼─────────────────┤\n",
      "│ frequency      │ mon             │\n",
      "├────────────────┼─────────────────┤\n",
      "│ grid_label     │ gn              │\n",
      "├────────────────┼─────────────────┤\n",
      "│ institution_id │ CSIRO           │\n",
      "├────────────────┼─────────────────┤\n",
      "│ project_id     │ CMIP            │\n",
      "├────────────────┼─────────────────┤\n",
      "│ realm          │ ocnBgchem       │\n",
      "├────────────────┼─────────────────┤\n",
      "│ source_id      │ ACCESS-ESM1-5   │\n",
      "├────────────────┼─────────────────┤\n",
      "│ table_id       │ Omon            │\n",
      "├────────────────┼─────────────────┤\n",
      "│ variable_id    │ intpp           │\n",
      "╘════════════════╧═════════════════╛\n"
     ]
    }
   ],
   "source": [
    "esm_datastore_unique(search)"
   ]
  },
  {
   "cell_type": "code",
   "execution_count": 86,
   "id": "7aa0ad8d-002c-4402-8aab-df63be81c79f",
   "metadata": {},
   "outputs": [
    {
     "name": "stdout",
     "output_type": "stream",
     "text": [
      "╒════════════╤═════════════════════════════════════════════════════════════════════════════════════════════════════════════════════════════════════════════════════════════════════════╕\n",
      "│ Category   │ Unique values                                                                                                                                                           │\n",
      "╞════════════╪═════════════════════════════════════════════════════════════════════════════════════════════════════════════════════════════════════════════════════════════════════════╡\n",
      "│ path       │ /g/data/fs38/publications/CMIP6/CMIP/CSIRO/ACCESS-ESM1-5/historical/r10i1p1f1/Omon/intpp/gn/v20200605/intpp_Omon_ACCESS-ESM1-5_historical_r10i1p1f1_gn_185001-201412.nc │\n",
      "│            │ /g/data/fs38/publications/CMIP6/CMIP/CSIRO/ACCESS-ESM1-5/historical/r11i1p1f1/Omon/intpp/gn/v20200803/intpp_Omon_ACCESS-ESM1-5_historical_r11i1p1f1_gn_185001-201412.nc │\n",
      "│            │ /g/data/fs38/publications/CMIP6/CMIP/CSIRO/ACCESS-ESM1-5/historical/r12i1p1f1/Omon/intpp/gn/v20200803/intpp_Omon_ACCESS-ESM1-5_historical_r12i1p1f1_gn_185001-201412.nc │\n",
      "│            │ /g/data/fs38/publications/CMIP6/CMIP/CSIRO/ACCESS-ESM1-5/historical/r13i1p1f1/Omon/intpp/gn/v20200803/intpp_Omon_ACCESS-ESM1-5_historical_r13i1p1f1_gn_185001-201412.nc │\n",
      "│            │ /g/data/fs38/publications/CMIP6/CMIP/CSIRO/ACCESS-ESM1-5/historical/r14i1p1f1/Omon/intpp/gn/v20200803/intpp_Omon_ACCESS-ESM1-5_historical_r14i1p1f1_gn_185001-201412.nc │\n",
      "│            │ /g/data/fs38/publications/CMIP6/CMIP/CSIRO/ACCESS-ESM1-5/historical/r15i1p1f1/Omon/intpp/gn/v20200803/intpp_Omon_ACCESS-ESM1-5_historical_r15i1p1f1_gn_185001-201412.nc │\n",
      "│            │ /g/data/fs38/publications/CMIP6/CMIP/CSIRO/ACCESS-ESM1-5/historical/r16i1p1f1/Omon/intpp/gn/v20200803/intpp_Omon_ACCESS-ESM1-5_historical_r16i1p1f1_gn_185001-201412.nc │\n",
      "│            │ /g/data/fs38/publications/CMIP6/CMIP/CSIRO/ACCESS-ESM1-5/historical/r17i1p1f1/Omon/intpp/gn/v20200803/intpp_Omon_ACCESS-ESM1-5_historical_r17i1p1f1_gn_185001-201412.nc │\n",
      "│            │ /g/data/fs38/publications/CMIP6/CMIP/CSIRO/ACCESS-ESM1-5/historical/r18i1p1f1/Omon/intpp/gn/v20200803/intpp_Omon_ACCESS-ESM1-5_historical_r18i1p1f1_gn_185001-201412.nc │\n",
      "│            │ /g/data/fs38/publications/CMIP6/CMIP/CSIRO/ACCESS-ESM1-5/historical/r19i1p1f1/Omon/intpp/gn/v20200803/intpp_Omon_ACCESS-ESM1-5_historical_r19i1p1f1_gn_185001-201412.nc │\n",
      "│            │ /g/data/fs38/publications/CMIP6/CMIP/CSIRO/ACCESS-ESM1-5/historical/r1i1p1f1/Omon/intpp/gn/v20191115/intpp_Omon_ACCESS-ESM1-5_historical_r1i1p1f1_gn_185001-201412.nc   │\n",
      "│            │ /g/data/fs38/publications/CMIP6/CMIP/CSIRO/ACCESS-ESM1-5/historical/r20i1p1f1/Omon/intpp/gn/v20200803/intpp_Omon_ACCESS-ESM1-5_historical_r20i1p1f1_gn_185001-201412.nc │\n",
      "│            │ /g/data/fs38/publications/CMIP6/CMIP/CSIRO/ACCESS-ESM1-5/historical/r21i1p1f1/Omon/intpp/gn/v20200922/intpp_Omon_ACCESS-ESM1-5_historical_r21i1p1f1_gn_185001-201412.nc │\n",
      "│            │ /g/data/fs38/publications/CMIP6/CMIP/CSIRO/ACCESS-ESM1-5/historical/r22i1p1f1/Omon/intpp/gn/v20200922/intpp_Omon_ACCESS-ESM1-5_historical_r22i1p1f1_gn_185001-201412.nc │\n",
      "│            │ /g/data/fs38/publications/CMIP6/CMIP/CSIRO/ACCESS-ESM1-5/historical/r23i1p1f1/Omon/intpp/gn/v20200922/intpp_Omon_ACCESS-ESM1-5_historical_r23i1p1f1_gn_185001-201412.nc │\n",
      "│            │ /g/data/fs38/publications/CMIP6/CMIP/CSIRO/ACCESS-ESM1-5/historical/r24i1p1f1/Omon/intpp/gn/v20200922/intpp_Omon_ACCESS-ESM1-5_historical_r24i1p1f1_gn_185001-201412.nc │\n",
      "│            │ /g/data/fs38/publications/CMIP6/CMIP/CSIRO/ACCESS-ESM1-5/historical/r25i1p1f1/Omon/intpp/gn/v20200922/intpp_Omon_ACCESS-ESM1-5_historical_r25i1p1f1_gn_185001-201412.nc │\n",
      "│            │ /g/data/fs38/publications/CMIP6/CMIP/CSIRO/ACCESS-ESM1-5/historical/r26i1p1f1/Omon/intpp/gn/v20200922/intpp_Omon_ACCESS-ESM1-5_historical_r26i1p1f1_gn_185001-201412.nc │\n",
      "│            │ /g/data/fs38/publications/CMIP6/CMIP/CSIRO/ACCESS-ESM1-5/historical/r27i1p1f1/Omon/intpp/gn/v20200922/intpp_Omon_ACCESS-ESM1-5_historical_r27i1p1f1_gn_185001-201412.nc │\n",
      "│            │ /g/data/fs38/publications/CMIP6/CMIP/CSIRO/ACCESS-ESM1-5/historical/r28i1p1f1/Omon/intpp/gn/v20200922/intpp_Omon_ACCESS-ESM1-5_historical_r28i1p1f1_gn_185001-201412.nc │\n",
      "│            │ /g/data/fs38/publications/CMIP6/CMIP/CSIRO/ACCESS-ESM1-5/historical/r29i1p1f1/Omon/intpp/gn/v20200922/intpp_Omon_ACCESS-ESM1-5_historical_r29i1p1f1_gn_185001-201412.nc │\n",
      "│            │ /g/data/fs38/publications/CMIP6/CMIP/CSIRO/ACCESS-ESM1-5/historical/r2i1p1f1/Omon/intpp/gn/v20191128/intpp_Omon_ACCESS-ESM1-5_historical_r2i1p1f1_gn_185001-201412.nc   │\n",
      "│            │ /g/data/fs38/publications/CMIP6/CMIP/CSIRO/ACCESS-ESM1-5/historical/r30i1p1f1/Omon/intpp/gn/v20200922/intpp_Omon_ACCESS-ESM1-5_historical_r30i1p1f1_gn_185001-201412.nc │\n",
      "│            │ /g/data/fs38/publications/CMIP6/CMIP/CSIRO/ACCESS-ESM1-5/historical/r31i1p1f1/Omon/intpp/gn/v20210525/intpp_Omon_ACCESS-ESM1-5_historical_r31i1p1f1_gn_185001-201412.nc │\n",
      "│            │ /g/data/fs38/publications/CMIP6/CMIP/CSIRO/ACCESS-ESM1-5/historical/r32i1p1f1/Omon/intpp/gn/v20210525/intpp_Omon_ACCESS-ESM1-5_historical_r32i1p1f1_gn_185001-201412.nc │\n",
      "│            │ /g/data/fs38/publications/CMIP6/CMIP/CSIRO/ACCESS-ESM1-5/historical/r33i1p1f1/Omon/intpp/gn/v20210525/intpp_Omon_ACCESS-ESM1-5_historical_r33i1p1f1_gn_185001-201412.nc │\n",
      "│            │ /g/data/fs38/publications/CMIP6/CMIP/CSIRO/ACCESS-ESM1-5/historical/r34i1p1f1/Omon/intpp/gn/v20210525/intpp_Omon_ACCESS-ESM1-5_historical_r34i1p1f1_gn_185001-201412.nc │\n",
      "│            │ /g/data/fs38/publications/CMIP6/CMIP/CSIRO/ACCESS-ESM1-5/historical/r35i1p1f1/Omon/intpp/gn/v20210525/intpp_Omon_ACCESS-ESM1-5_historical_r35i1p1f1_gn_185001-201412.nc │\n",
      "│            │ /g/data/fs38/publications/CMIP6/CMIP/CSIRO/ACCESS-ESM1-5/historical/r36i1p1f1/Omon/intpp/gn/v20210525/intpp_Omon_ACCESS-ESM1-5_historical_r36i1p1f1_gn_185001-201412.nc │\n",
      "│            │ /g/data/fs38/publications/CMIP6/CMIP/CSIRO/ACCESS-ESM1-5/historical/r37i1p1f1/Omon/intpp/gn/v20210525/intpp_Omon_ACCESS-ESM1-5_historical_r37i1p1f1_gn_185001-201412.nc │\n",
      "│            │ /g/data/fs38/publications/CMIP6/CMIP/CSIRO/ACCESS-ESM1-5/historical/r38i1p1f1/Omon/intpp/gn/v20210525/intpp_Omon_ACCESS-ESM1-5_historical_r38i1p1f1_gn_185001-201412.nc │\n",
      "│            │ /g/data/fs38/publications/CMIP6/CMIP/CSIRO/ACCESS-ESM1-5/historical/r39i1p1f1/Omon/intpp/gn/v20210525/intpp_Omon_ACCESS-ESM1-5_historical_r39i1p1f1_gn_185001-201412.nc │\n",
      "│            │ /g/data/fs38/publications/CMIP6/CMIP/CSIRO/ACCESS-ESM1-5/historical/r3i1p1f1/Omon/intpp/gn/v20191203/intpp_Omon_ACCESS-ESM1-5_historical_r3i1p1f1_gn_185001-201412.nc   │\n",
      "│            │ /g/data/fs38/publications/CMIP6/CMIP/CSIRO/ACCESS-ESM1-5/historical/r40i1p1f1/Omon/intpp/gn/v20210525/intpp_Omon_ACCESS-ESM1-5_historical_r40i1p1f1_gn_185001-201412.nc │\n",
      "│            │ /g/data/fs38/publications/CMIP6/CMIP/CSIRO/ACCESS-ESM1-5/historical/r4i1p1f1/Omon/intpp/gn/v20200529/intpp_Omon_ACCESS-ESM1-5_historical_r4i1p1f1_gn_185001-201412.nc   │\n",
      "│            │ /g/data/fs38/publications/CMIP6/CMIP/CSIRO/ACCESS-ESM1-5/historical/r5i1p1f1/Omon/intpp/gn/v20200601/intpp_Omon_ACCESS-ESM1-5_historical_r5i1p1f1_gn_185001-201412.nc   │\n",
      "│            │ /g/data/fs38/publications/CMIP6/CMIP/CSIRO/ACCESS-ESM1-5/historical/r6i1p1f1/Omon/intpp/gn/v20200529/intpp_Omon_ACCESS-ESM1-5_historical_r6i1p1f1_gn_185001-201412.nc   │\n",
      "│            │ /g/data/fs38/publications/CMIP6/CMIP/CSIRO/ACCESS-ESM1-5/historical/r7i1p1f1/Omon/intpp/gn/v20200529/intpp_Omon_ACCESS-ESM1-5_historical_r7i1p1f1_gn_185001-201412.nc   │\n",
      "│            │ /g/data/fs38/publications/CMIP6/CMIP/CSIRO/ACCESS-ESM1-5/historical/r8i1p1f1/Omon/intpp/gn/v20200529/intpp_Omon_ACCESS-ESM1-5_historical_r8i1p1f1_gn_185001-201412.nc   │\n",
      "│            │ /g/data/fs38/publications/CMIP6/CMIP/CSIRO/ACCESS-ESM1-5/historical/r9i1p1f1/Omon/intpp/gn/v20200529/intpp_Omon_ACCESS-ESM1-5_historical_r9i1p1f1_gn_185001-201412.nc   │\n",
      "╘════════════╧═════════════════════════════════════════════════════════════════════════════════════════════════════════════════════════════════════════════════════════════════════════╛\n"
     ]
    }
   ],
   "source": [
    "esm_datastore_unique(search,keep_list=['path'])"
   ]
  },
  {
   "cell_type": "code",
   "execution_count": null,
   "id": "70d4563a-3909-41b1-aee7-d0c34cf0eb7e",
   "metadata": {},
   "outputs": [],
   "source": []
  },
  {
   "cell_type": "code",
   "execution_count": null,
   "id": "05578bc3-0e86-497c-9f6c-101b10c4846e",
   "metadata": {},
   "outputs": [],
   "source": []
  },
  {
   "cell_type": "code",
   "execution_count": null,
   "id": "8c85ffbb-876c-4b69-ba0e-0f19abf471e1",
   "metadata": {},
   "outputs": [],
   "source": []
  },
  {
   "cell_type": "code",
   "execution_count": null,
   "id": "a3583fcf-5d35-4494-aa2f-7d1060d91dbc",
   "metadata": {},
   "outputs": [],
   "source": []
  },
  {
   "cell_type": "code",
   "execution_count": null,
   "id": "567302b5-ad37-47c2-a2e6-8ddc6281b9e9",
   "metadata": {},
   "outputs": [],
   "source": []
  },
  {
   "cell_type": "code",
   "execution_count": null,
   "id": "7e8890bf-6870-436c-958d-ff75b8e27231",
   "metadata": {},
   "outputs": [],
   "source": []
  },
  {
   "cell_type": "code",
   "execution_count": null,
   "id": "c7067b02-51c2-41b9-83dd-13a7ee5a8454",
   "metadata": {},
   "outputs": [],
   "source": []
  },
  {
   "cell_type": "code",
   "execution_count": null,
   "id": "204d6a37-9b92-40c1-bdc8-4bec85ccea3a",
   "metadata": {},
   "outputs": [],
   "source": []
  },
  {
   "cell_type": "code",
   "execution_count": null,
   "id": "9133185f-1004-46ac-a8f2-146b4daa8fdf",
   "metadata": {},
   "outputs": [],
   "source": []
  },
  {
   "cell_type": "code",
   "execution_count": null,
   "id": "db97297d-a23d-4b81-b0ee-de8fe3ae938b",
   "metadata": {},
   "outputs": [],
   "source": [
    "cmip6_datastore_filtered = cmip6_datastore.search(\n",
    "    source_id=\"ACCESS-ESM1-5\", \n",
    "    table_id=\"Omon\", \n",
    "    variable_id=\"tos\", \n",
    "    experiment_id=\"historical\", \n",
    "    file_type=\"l\"\n",
    ")\n",
    "\n",
    "cmip6_datastore_filtered"
   ]
  }
 ],
 "metadata": {
  "kernelspec": {
   "display_name": "Python [conda env:analysis3]",
   "language": "python",
   "name": "conda-env-analysis3-py"
  },
  "language_info": {
   "codemirror_mode": {
    "name": "ipython",
    "version": 3
   },
   "file_extension": ".py",
   "mimetype": "text/x-python",
   "name": "python",
   "nbconvert_exporter": "python",
   "pygments_lexer": "ipython3",
   "version": "3.10.14"
  }
 },
 "nbformat": 4,
 "nbformat_minor": 5
}
