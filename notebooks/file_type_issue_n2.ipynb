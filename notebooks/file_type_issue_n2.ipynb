{
 "cells": [
  {
   "cell_type": "markdown",
   "id": "2bbcce82-88b9-4dc3-81f7-305710b84adf",
   "metadata": {},
   "source": [
    "# [NCI fs38 catalog] what does `file_type = f` vs `l` mean and which is the correct one to use?"
   ]
  },
  {
   "cell_type": "markdown",
   "id": "7e50d03b-d0bb-495e-b7fa-961cac06a947",
   "metadata": {},
   "source": [
    "#### https://github.com/Thomas-Moore-Creative/ACDtools/issues/2"
   ]
  },
  {
   "cell_type": "markdown",
   "id": "444db49f-f4c2-4d6c-a5bf-83576d2f5c9a",
   "metadata": {},
   "source": [
    "#### Date: 28 October, 2024"
   ]
  },
  {
   "cell_type": "markdown",
   "id": "a0158574-20a2-4c25-bf47-f384dbb80648",
   "metadata": {},
   "source": [
    "Author = {\"name\": \"Thomas Moore\", \"affiliation\": \"CSIRO\", \"email\": \"thomas.moore@csiro.au\", \"orcid\": \"0000-0003-3930-1946\"}"
   ]
  },
  {
   "cell_type": "markdown",
   "id": "c94d2934-9f8a-4495-b32a-46c1ac293870",
   "metadata": {},
   "source": [
    "### filter warnings"
   ]
  },
  {
   "cell_type": "code",
   "execution_count": 1,
   "id": "c774b769-3308-49e6-8c1d-90b7e5645ad3",
   "metadata": {},
   "outputs": [],
   "source": [
    "import warnings\n",
    "warnings.filterwarnings(\"ignore\") # Suppress warnings"
   ]
  },
  {
   "cell_type": "markdown",
   "id": "7fcad830-ea7e-4ecd-a64b-b5f9edeb305a",
   "metadata": {},
   "source": [
    "# Dask cluster"
   ]
  },
  {
   "cell_type": "code",
   "execution_count": 2,
   "id": "6935fbd8-fcb1-4784-912b-7dea47c469b0",
   "metadata": {},
   "outputs": [
    {
     "name": "stdout",
     "output_type": "stream",
     "text": [
      "Cluster started with 28 workers.\n",
      "Dashboard available at: /proxy/8787/status\n"
     ]
    }
   ],
   "source": [
    "from dask.distributed import Client, LocalCluster\n",
    "dask_settings = {'threads_per_worker': 1} # threads per worker set to deal with https://forum.access-hive.org.au/t/netcdf-not-a-valid-id-errors/389\n",
    "# Start the Dask cluster with the settings by unpacking the dictionary using **\n",
    "cluster = LocalCluster(**dask_settings) \n",
    "# Connect a client to the cluster\n",
    "client = Client(cluster)\n",
    "# Show some basic information about the cluster\n",
    "print(f\"Cluster started with {len(cluster.workers)} workers.\")\n",
    "print(f\"Dashboard available at: {cluster.dashboard_link}\")"
   ]
  },
  {
   "cell_type": "markdown",
   "id": "453d3b34-0f7f-499c-838e-f9d713ee82bc",
   "metadata": {},
   "source": [
    "# Issue: [NCI fs38 catalog] what does `file_type = f` vs `l` mean and which is the correct one to use?\n",
    "- https://github.com/Thomas-Moore-Creative/ACDtools/issues/2"
   ]
  },
  {
   "cell_type": "markdown",
   "id": "6a82586a-8ca1-47b9-9794-ddfad8cccd43",
   "metadata": {},
   "source": [
    "##### Information on climate data catalogs across Australian HPC\n",
    "\n",
    "**ACCESS-NRI** https://access-nri-intake-catalog.readthedocs.io/en/latest/usage/how.html <br>\n",
    "**NCI** https://opus.nci.org.au/pages/viewpage.action?pageId=213713098\n"
   ]
  },
  {
   "cell_type": "markdown",
   "id": "f13e29a8-ca33-4e22-9755-252be78c1800",
   "metadata": {},
   "source": [
    "## import packages"
   ]
  },
  {
   "cell_type": "code",
   "execution_count": 3,
   "id": "0b6b05c0-eb4c-4095-b55f-e70b077a10b4",
   "metadata": {},
   "outputs": [],
   "source": [
    "import intake\n",
    "import xarray as xr\n",
    "import numpy as np"
   ]
  },
  {
   "cell_type": "markdown",
   "id": "57a06300-a24d-45cb-b377-197481c0184a",
   "metadata": {},
   "source": [
    "## get catalog for `fs38` and apply search dictionaries for `piControl` & `intpp` examples"
   ]
  },
  {
   "cell_type": "code",
   "execution_count": 4,
   "id": "80263b34-9f75-4d92-b5e4-193b42b5b53a",
   "metadata": {},
   "outputs": [],
   "source": [
    "nri_catalog = intake.cat.access_nri"
   ]
  },
  {
   "cell_type": "code",
   "execution_count": 5,
   "id": "b681416a-c37a-4059-8c6c-6daecebaac71",
   "metadata": {},
   "outputs": [
    {
     "data": {
      "text/html": [
       "<p><strong>cmip6-fs38 catalog with 3 dataset(s) from 3 asset(s)</strong>:</p> <div>\n",
       "<style scoped>\n",
       "    .dataframe tbody tr th:only-of-type {\n",
       "        vertical-align: middle;\n",
       "    }\n",
       "\n",
       "    .dataframe tbody tr th {\n",
       "        vertical-align: top;\n",
       "    }\n",
       "\n",
       "    .dataframe thead th {\n",
       "        text-align: right;\n",
       "    }\n",
       "</style>\n",
       "<table border=\"1\" class=\"dataframe\">\n",
       "  <thead>\n",
       "    <tr style=\"text-align: right;\">\n",
       "      <th></th>\n",
       "      <th>unique</th>\n",
       "    </tr>\n",
       "  </thead>\n",
       "  <tbody>\n",
       "    <tr>\n",
       "      <th>path</th>\n",
       "      <td>3</td>\n",
       "    </tr>\n",
       "    <tr>\n",
       "      <th>file_type</th>\n",
       "      <td>1</td>\n",
       "    </tr>\n",
       "    <tr>\n",
       "      <th>realm</th>\n",
       "      <td>1</td>\n",
       "    </tr>\n",
       "    <tr>\n",
       "      <th>frequency</th>\n",
       "      <td>1</td>\n",
       "    </tr>\n",
       "    <tr>\n",
       "      <th>table_id</th>\n",
       "      <td>1</td>\n",
       "    </tr>\n",
       "    <tr>\n",
       "      <th>project_id</th>\n",
       "      <td>1</td>\n",
       "    </tr>\n",
       "    <tr>\n",
       "      <th>institution_id</th>\n",
       "      <td>1</td>\n",
       "    </tr>\n",
       "    <tr>\n",
       "      <th>source_id</th>\n",
       "      <td>1</td>\n",
       "    </tr>\n",
       "    <tr>\n",
       "      <th>experiment_id</th>\n",
       "      <td>1</td>\n",
       "    </tr>\n",
       "    <tr>\n",
       "      <th>member_id</th>\n",
       "      <td>1</td>\n",
       "    </tr>\n",
       "    <tr>\n",
       "      <th>variable_id</th>\n",
       "      <td>1</td>\n",
       "    </tr>\n",
       "    <tr>\n",
       "      <th>grid_label</th>\n",
       "      <td>1</td>\n",
       "    </tr>\n",
       "    <tr>\n",
       "      <th>version</th>\n",
       "      <td>3</td>\n",
       "    </tr>\n",
       "    <tr>\n",
       "      <th>time_range</th>\n",
       "      <td>3</td>\n",
       "    </tr>\n",
       "    <tr>\n",
       "      <th>derived_variable_id</th>\n",
       "      <td>0</td>\n",
       "    </tr>\n",
       "  </tbody>\n",
       "</table>\n",
       "</div>"
      ],
      "text/plain": [
       "<IPython.core.display.HTML object>"
      ]
     },
     "metadata": {},
     "output_type": "display_data"
    }
   ],
   "source": [
    "cmip6_fs38_datastore = nri_catalog.search(name='cmip6_fs38').to_source()\n",
    "search_dict = {'experiment_id': ['piControl'],\n",
    "      'source_id': 'ACCESS-ESM1-5',\n",
    "      'variable_id': ['intpp'],\n",
    "      'frequency': 'mon',\n",
    "      'file_type': 'f'}\n",
    "piControl_intpp_catalog_f = cmip6_fs38_datastore.search(**search_dict)\n",
    "piControl_intpp_catalog_f"
   ]
  },
  {
   "cell_type": "code",
   "execution_count": 6,
   "id": "9d630ed8-99bf-48ef-a501-deabcbc52861",
   "metadata": {},
   "outputs": [
    {
     "data": {
      "text/plain": [
       "['/g/data/fs38/publications/CMIP6/CMIP/CSIRO/ACCESS-ESM1-5/piControl/r1i1p1f1/Omon/intpp/gn/files/d20191112/intpp_Omon_ACCESS-ESM1-5_piControl_r1i1p1f1_gn_010101-060012.nc',\n",
       " '/g/data/fs38/publications/CMIP6/CMIP/CSIRO/ACCESS-ESM1-5/piControl/r1i1p1f1/Omon/intpp/gn/files/d20210316/intpp_Omon_ACCESS-ESM1-5_piControl_r1i1p1f1_gn_100101-110012.nc',\n",
       " '/g/data/fs38/publications/CMIP6/CMIP/CSIRO/ACCESS-ESM1-5/piControl/r1i1p1f1/Omon/intpp/gn/files/d20191214/intpp_Omon_ACCESS-ESM1-5_piControl_r1i1p1f1_gn_060101-100012.nc']"
      ]
     },
     "execution_count": 6,
     "metadata": {},
     "output_type": "execute_result"
    }
   ],
   "source": [
    "piControl_intpp_catalog_f.unique().path"
   ]
  },
  {
   "cell_type": "markdown",
   "id": "ca6ac3af-df9e-4269-9713-0d9d199c940b",
   "metadata": {},
   "source": [
    "## compare to ls of `/g/data/fs38/publications/CMIP6/CMIP/CSIRO/ACCESS-ESM1-5/piControl/r1i1p1f1/Omon/intpp/gn/latest` \n",
    "```\n",
    "(base) tm4888@gadi-login-03 /g/data/fs38/publications/CMIP6/CMIP/CSIRO/ACCESS-ESM1-5/piControl/r1i1p1f1/Omon/intpp/gn/latest ls -ltrh\n",
    "total 38K\n",
    "lrwxrwxrwx 1 fo3_esgfpub fs38 82 Apr 26  2021 intpp_Omon_ACCESS-ESM1-5_piControl_r1i1p1f1_gn_060101-100012.nc -> ../files/d20191214/intpp_Omon_ACCESS-ESM1-5_piControl_r1i1p1f1_gn_060101-100012.nc\n",
    "lrwxrwxrwx 1 fo3_esgfpub fs38 82 Apr 26  2021 intpp_Omon_ACCESS-ESM1-5_piControl_r1i1p1f1_gn_010101-060012.nc -> ../files/d20191112/intpp_Omon_ACCESS-ESM1-5_piControl_r1i1p1f1_gn_010101-060012.nc\n",
    "lrwxrwxrwx 1 fo3_esgfpub fs38 82 Apr 26  2021 intpp_Omon_ACCESS-ESM1-5_piControl_r1i1p1f1_gn_100101-110012.nc -> ../files/d20210316/intpp_Omon_ACCESS-ESM1-5_piControl_r1i1p1f1_gn_100101-110012.nc\n",
    "```\n",
    "### In this case `'file_type': 'f'` yeilds the correct result"
   ]
  },
  {
   "cell_type": "code",
   "execution_count": 7,
   "id": "dfa31c87-4dc0-4d01-870e-67e309329d98",
   "metadata": {},
   "outputs": [
    {
     "data": {
      "text/html": [
       "<p><strong>cmip6-fs38 catalog with 3 dataset(s) from 6 asset(s)</strong>:</p> <div>\n",
       "<style scoped>\n",
       "    .dataframe tbody tr th:only-of-type {\n",
       "        vertical-align: middle;\n",
       "    }\n",
       "\n",
       "    .dataframe tbody tr th {\n",
       "        vertical-align: top;\n",
       "    }\n",
       "\n",
       "    .dataframe thead th {\n",
       "        text-align: right;\n",
       "    }\n",
       "</style>\n",
       "<table border=\"1\" class=\"dataframe\">\n",
       "  <thead>\n",
       "    <tr style=\"text-align: right;\">\n",
       "      <th></th>\n",
       "      <th>unique</th>\n",
       "    </tr>\n",
       "  </thead>\n",
       "  <tbody>\n",
       "    <tr>\n",
       "      <th>path</th>\n",
       "      <td>6</td>\n",
       "    </tr>\n",
       "    <tr>\n",
       "      <th>file_type</th>\n",
       "      <td>1</td>\n",
       "    </tr>\n",
       "    <tr>\n",
       "      <th>realm</th>\n",
       "      <td>1</td>\n",
       "    </tr>\n",
       "    <tr>\n",
       "      <th>frequency</th>\n",
       "      <td>1</td>\n",
       "    </tr>\n",
       "    <tr>\n",
       "      <th>table_id</th>\n",
       "      <td>1</td>\n",
       "    </tr>\n",
       "    <tr>\n",
       "      <th>project_id</th>\n",
       "      <td>1</td>\n",
       "    </tr>\n",
       "    <tr>\n",
       "      <th>institution_id</th>\n",
       "      <td>1</td>\n",
       "    </tr>\n",
       "    <tr>\n",
       "      <th>source_id</th>\n",
       "      <td>1</td>\n",
       "    </tr>\n",
       "    <tr>\n",
       "      <th>experiment_id</th>\n",
       "      <td>1</td>\n",
       "    </tr>\n",
       "    <tr>\n",
       "      <th>member_id</th>\n",
       "      <td>1</td>\n",
       "    </tr>\n",
       "    <tr>\n",
       "      <th>variable_id</th>\n",
       "      <td>1</td>\n",
       "    </tr>\n",
       "    <tr>\n",
       "      <th>grid_label</th>\n",
       "      <td>1</td>\n",
       "    </tr>\n",
       "    <tr>\n",
       "      <th>version</th>\n",
       "      <td>3</td>\n",
       "    </tr>\n",
       "    <tr>\n",
       "      <th>time_range</th>\n",
       "      <td>3</td>\n",
       "    </tr>\n",
       "    <tr>\n",
       "      <th>derived_variable_id</th>\n",
       "      <td>0</td>\n",
       "    </tr>\n",
       "  </tbody>\n",
       "</table>\n",
       "</div>"
      ],
      "text/plain": [
       "<IPython.core.display.HTML object>"
      ]
     },
     "metadata": {},
     "output_type": "display_data"
    }
   ],
   "source": [
    "cmip6_fs38_datastore = nri_catalog.search(name='cmip6_fs38').to_source()\n",
    "search_dict = {'experiment_id': ['piControl'],\n",
    "      'source_id': 'ACCESS-ESM1-5',\n",
    "      'variable_id': ['intpp'],\n",
    "      'frequency': 'mon',\n",
    "      'file_type': 'l'}\n",
    "piControl_intpp_catalog_l = cmip6_fs38_datastore.search(**search_dict)\n",
    "piControl_intpp_catalog_l"
   ]
  },
  {
   "cell_type": "code",
   "execution_count": 8,
   "id": "97dd2c76-0363-4aee-9107-869f0e9b2b92",
   "metadata": {},
   "outputs": [
    {
     "data": {
      "text/plain": [
       "['/g/data/fs38/publications/CMIP6/CMIP/CSIRO/ACCESS-ESM1-5/piControl/r1i1p1f1/Omon/intpp/gn/v20210316/intpp_Omon_ACCESS-ESM1-5_piControl_r1i1p1f1_gn_100101-110012.nc',\n",
       " '/g/data/fs38/publications/CMIP6/CMIP/CSIRO/ACCESS-ESM1-5/piControl/r1i1p1f1/Omon/intpp/gn/v20191214/intpp_Omon_ACCESS-ESM1-5_piControl_r1i1p1f1_gn_060101-100012.nc',\n",
       " '/g/data/fs38/publications/CMIP6/CMIP/CSIRO/ACCESS-ESM1-5/piControl/r1i1p1f1/Omon/intpp/gn/v20210316/intpp_Omon_ACCESS-ESM1-5_piControl_r1i1p1f1_gn_060101-100012.nc',\n",
       " '/g/data/fs38/publications/CMIP6/CMIP/CSIRO/ACCESS-ESM1-5/piControl/r1i1p1f1/Omon/intpp/gn/v20191214/intpp_Omon_ACCESS-ESM1-5_piControl_r1i1p1f1_gn_010101-060012.nc',\n",
       " '/g/data/fs38/publications/CMIP6/CMIP/CSIRO/ACCESS-ESM1-5/piControl/r1i1p1f1/Omon/intpp/gn/v20191112/intpp_Omon_ACCESS-ESM1-5_piControl_r1i1p1f1_gn_010101-060012.nc',\n",
       " '/g/data/fs38/publications/CMIP6/CMIP/CSIRO/ACCESS-ESM1-5/piControl/r1i1p1f1/Omon/intpp/gn/v20210316/intpp_Omon_ACCESS-ESM1-5_piControl_r1i1p1f1_gn_010101-060012.nc']"
      ]
     },
     "execution_count": 8,
     "metadata": {},
     "output_type": "execute_result"
    }
   ],
   "source": [
    "piControl_intpp_catalog_l.unique().path"
   ]
  },
  {
   "cell_type": "markdown",
   "id": "3a9f97ce-5c89-46a6-95df-f4d7a1b391b0",
   "metadata": {},
   "source": [
    "## In this case `l` yields multiple file versions for the `010101-060012` and `060101-100012` timeframes"
   ]
  },
  {
   "cell_type": "markdown",
   "id": "f8206539-a1e1-495d-8e51-1ebc97feca05",
   "metadata": {},
   "source": [
    "# Try `pr` variable in `historical`"
   ]
  },
  {
   "cell_type": "code",
   "execution_count": 9,
   "id": "f0b05e40-c648-42d2-b3cd-40699583a469",
   "metadata": {},
   "outputs": [
    {
     "data": {
      "text/html": [
       "<p><strong>cmip6-fs38 catalog with 40 dataset(s) from 40 asset(s)</strong>:</p> <div>\n",
       "<style scoped>\n",
       "    .dataframe tbody tr th:only-of-type {\n",
       "        vertical-align: middle;\n",
       "    }\n",
       "\n",
       "    .dataframe tbody tr th {\n",
       "        vertical-align: top;\n",
       "    }\n",
       "\n",
       "    .dataframe thead th {\n",
       "        text-align: right;\n",
       "    }\n",
       "</style>\n",
       "<table border=\"1\" class=\"dataframe\">\n",
       "  <thead>\n",
       "    <tr style=\"text-align: right;\">\n",
       "      <th></th>\n",
       "      <th>unique</th>\n",
       "    </tr>\n",
       "  </thead>\n",
       "  <tbody>\n",
       "    <tr>\n",
       "      <th>path</th>\n",
       "      <td>40</td>\n",
       "    </tr>\n",
       "    <tr>\n",
       "      <th>file_type</th>\n",
       "      <td>1</td>\n",
       "    </tr>\n",
       "    <tr>\n",
       "      <th>realm</th>\n",
       "      <td>1</td>\n",
       "    </tr>\n",
       "    <tr>\n",
       "      <th>frequency</th>\n",
       "      <td>1</td>\n",
       "    </tr>\n",
       "    <tr>\n",
       "      <th>table_id</th>\n",
       "      <td>1</td>\n",
       "    </tr>\n",
       "    <tr>\n",
       "      <th>project_id</th>\n",
       "      <td>1</td>\n",
       "    </tr>\n",
       "    <tr>\n",
       "      <th>institution_id</th>\n",
       "      <td>1</td>\n",
       "    </tr>\n",
       "    <tr>\n",
       "      <th>source_id</th>\n",
       "      <td>1</td>\n",
       "    </tr>\n",
       "    <tr>\n",
       "      <th>experiment_id</th>\n",
       "      <td>1</td>\n",
       "    </tr>\n",
       "    <tr>\n",
       "      <th>member_id</th>\n",
       "      <td>40</td>\n",
       "    </tr>\n",
       "    <tr>\n",
       "      <th>variable_id</th>\n",
       "      <td>1</td>\n",
       "    </tr>\n",
       "    <tr>\n",
       "      <th>grid_label</th>\n",
       "      <td>1</td>\n",
       "    </tr>\n",
       "    <tr>\n",
       "      <th>version</th>\n",
       "      <td>9</td>\n",
       "    </tr>\n",
       "    <tr>\n",
       "      <th>time_range</th>\n",
       "      <td>1</td>\n",
       "    </tr>\n",
       "    <tr>\n",
       "      <th>derived_variable_id</th>\n",
       "      <td>0</td>\n",
       "    </tr>\n",
       "  </tbody>\n",
       "</table>\n",
       "</div>"
      ],
      "text/plain": [
       "<IPython.core.display.HTML object>"
      ]
     },
     "metadata": {},
     "output_type": "display_data"
    }
   ],
   "source": [
    "cmip6_fs38_datastore = nri_catalog.search(name='cmip6_fs38').to_source()\n",
    "search_dict = {'experiment_id': ['historical'],\n",
    "      'source_id': 'ACCESS-ESM1-5',\n",
    "      'variable_id': ['pr'],\n",
    "      'frequency': 'mon',\n",
    "      'file_type': 'l'}\n",
    "historical_pr_catalog_l = cmip6_fs38_datastore.search(**search_dict)\n",
    "historical_pr_catalog_l"
   ]
  },
  {
   "cell_type": "markdown",
   "id": "a4032ca9-ad75-49eb-a87a-06cd0ef87cf7",
   "metadata": {},
   "source": [
    "# In this case above (`pr` & `historical` & `l`) 40 paths (for 40 members) are returned"
   ]
  },
  {
   "cell_type": "code",
   "execution_count": 10,
   "id": "cec2e360-ce4b-4b2e-b466-b2211e3525c7",
   "metadata": {},
   "outputs": [
    {
     "data": {
      "text/html": [
       "<p><strong>cmip6-fs38 catalog with 40 dataset(s) from 40 asset(s)</strong>:</p> <div>\n",
       "<style scoped>\n",
       "    .dataframe tbody tr th:only-of-type {\n",
       "        vertical-align: middle;\n",
       "    }\n",
       "\n",
       "    .dataframe tbody tr th {\n",
       "        vertical-align: top;\n",
       "    }\n",
       "\n",
       "    .dataframe thead th {\n",
       "        text-align: right;\n",
       "    }\n",
       "</style>\n",
       "<table border=\"1\" class=\"dataframe\">\n",
       "  <thead>\n",
       "    <tr style=\"text-align: right;\">\n",
       "      <th></th>\n",
       "      <th>unique</th>\n",
       "    </tr>\n",
       "  </thead>\n",
       "  <tbody>\n",
       "    <tr>\n",
       "      <th>path</th>\n",
       "      <td>40</td>\n",
       "    </tr>\n",
       "    <tr>\n",
       "      <th>file_type</th>\n",
       "      <td>1</td>\n",
       "    </tr>\n",
       "    <tr>\n",
       "      <th>realm</th>\n",
       "      <td>1</td>\n",
       "    </tr>\n",
       "    <tr>\n",
       "      <th>frequency</th>\n",
       "      <td>1</td>\n",
       "    </tr>\n",
       "    <tr>\n",
       "      <th>table_id</th>\n",
       "      <td>1</td>\n",
       "    </tr>\n",
       "    <tr>\n",
       "      <th>project_id</th>\n",
       "      <td>1</td>\n",
       "    </tr>\n",
       "    <tr>\n",
       "      <th>institution_id</th>\n",
       "      <td>1</td>\n",
       "    </tr>\n",
       "    <tr>\n",
       "      <th>source_id</th>\n",
       "      <td>1</td>\n",
       "    </tr>\n",
       "    <tr>\n",
       "      <th>experiment_id</th>\n",
       "      <td>1</td>\n",
       "    </tr>\n",
       "    <tr>\n",
       "      <th>member_id</th>\n",
       "      <td>40</td>\n",
       "    </tr>\n",
       "    <tr>\n",
       "      <th>variable_id</th>\n",
       "      <td>1</td>\n",
       "    </tr>\n",
       "    <tr>\n",
       "      <th>grid_label</th>\n",
       "      <td>1</td>\n",
       "    </tr>\n",
       "    <tr>\n",
       "      <th>version</th>\n",
       "      <td>9</td>\n",
       "    </tr>\n",
       "    <tr>\n",
       "      <th>time_range</th>\n",
       "      <td>1</td>\n",
       "    </tr>\n",
       "    <tr>\n",
       "      <th>derived_variable_id</th>\n",
       "      <td>0</td>\n",
       "    </tr>\n",
       "  </tbody>\n",
       "</table>\n",
       "</div>"
      ],
      "text/plain": [
       "<IPython.core.display.HTML object>"
      ]
     },
     "metadata": {},
     "output_type": "display_data"
    }
   ],
   "source": [
    "cmip6_fs38_datastore = nri_catalog.search(name='cmip6_fs38').to_source()\n",
    "search_dict = {'experiment_id': ['historical'],\n",
    "      'source_id': 'ACCESS-ESM1-5',\n",
    "      'variable_id': ['pr'],\n",
    "      'frequency': 'mon',\n",
    "      'file_type': 'f'}\n",
    "historical_pr_catalog_f = cmip6_fs38_datastore.search(**search_dict)\n",
    "historical_pr_catalog_f"
   ]
  },
  {
   "cell_type": "markdown",
   "id": "d6c25d2e-fae0-4e4c-82ac-b27fcd762fe5",
   "metadata": {},
   "source": [
    "# In this case above (`pr` & `historical` & `f`) 40 paths (for 40 members) are returned"
   ]
  },
  {
   "cell_type": "markdown",
   "id": "08d06b3a-03f4-4c0b-904e-c03b8d2f0e43",
   "metadata": {},
   "source": [
    "# Are these two path lists the same?"
   ]
  },
  {
   "cell_type": "code",
   "execution_count": 11,
   "id": "710264a2-5737-477b-8e47-e15ccda12f22",
   "metadata": {},
   "outputs": [],
   "source": [
    "path_list_f = historical_pr_catalog_f.unique().path\n",
    "path_list_l = historical_pr_catalog_l.unique().path"
   ]
  },
  {
   "cell_type": "code",
   "execution_count": 12,
   "id": "8e2a9cda-b142-4a59-ac82-61906583e81e",
   "metadata": {},
   "outputs": [
    {
     "name": "stdout",
     "output_type": "stream",
     "text": [
      "The path lists are not equal\n"
     ]
    }
   ],
   "source": [
    "if path_list_l == path_list_f:\n",
    "    print(\"The path lists are exactly equal\")\n",
    "else:\n",
    "    print(\"The path lists are not equal\")"
   ]
  },
  {
   "cell_type": "markdown",
   "id": "c3040185-f79a-4274-8198-de7a1f878648",
   "metadata": {},
   "source": [
    "### is this just a sorting issue? YES it is."
   ]
  },
  {
   "cell_type": "code",
   "execution_count": 13,
   "id": "7a5ddedd-7645-41e8-a8fd-eccdee95bdb9",
   "metadata": {},
   "outputs": [
    {
     "name": "stdout",
     "output_type": "stream",
     "text": [
      "The path lists are exactly equal\n"
     ]
    }
   ],
   "source": [
    "if path_list_l.sort() == path_list_f.sort():\n",
    "    print(\"The path lists are exactly equal\")\n",
    "else:\n",
    "    print(\"The path lists are not equal\")"
   ]
  },
  {
   "cell_type": "markdown",
   "id": "c30db498-3c61-4920-a42f-b2561243379f",
   "metadata": {},
   "source": [
    "# CLEX example\n",
    "https://github.com/coecms/nci-intake-catalogue/blob/main/docs/intake_cmip6_demo.ipynb"
   ]
  },
  {
   "cell_type": "code",
   "execution_count": 14,
   "id": "8d01aada-cdd6-4c17-bbcc-4f7faa382e19",
   "metadata": {},
   "outputs": [
    {
     "data": {
      "text/plain": [
       "['era5', 'era5_land', 'ecmwf', 'esgf', 'cosima', 'erai']"
      ]
     },
     "execution_count": 14,
     "metadata": {},
     "output_type": "execute_result"
    }
   ],
   "source": [
    "cat = intake.cat.nci\n",
    "list(cat)"
   ]
  },
  {
   "cell_type": "code",
   "execution_count": 15,
   "id": "16c8cda1-5134-4b94-b485-bc2b2e6c5e27",
   "metadata": {},
   "outputs": [
    {
     "data": {
      "text/html": [
       "<div>\n",
       "<style scoped>\n",
       "    .dataframe tbody tr th:only-of-type {\n",
       "        vertical-align: middle;\n",
       "    }\n",
       "\n",
       "    .dataframe tbody tr th {\n",
       "        vertical-align: top;\n",
       "    }\n",
       "\n",
       "    .dataframe thead th {\n",
       "        text-align: right;\n",
       "    }\n",
       "</style>\n",
       "<table border=\"1\" class=\"dataframe\">\n",
       "  <thead>\n",
       "    <tr style=\"text-align: right;\">\n",
       "      <th></th>\n",
       "      <th>project</th>\n",
       "      <th>activity_id</th>\n",
       "      <th>institution_id</th>\n",
       "      <th>source_id</th>\n",
       "      <th>experiment_id</th>\n",
       "      <th>member_id</th>\n",
       "      <th>table_id</th>\n",
       "      <th>variable_id</th>\n",
       "      <th>grid_label</th>\n",
       "      <th>date_range</th>\n",
       "      <th>path</th>\n",
       "      <th>version</th>\n",
       "    </tr>\n",
       "  </thead>\n",
       "  <tbody>\n",
       "    <tr>\n",
       "      <th>0</th>\n",
       "      <td>CMIP6</td>\n",
       "      <td>AerChemMIP</td>\n",
       "      <td>BCC</td>\n",
       "      <td>BCC-ESM1</td>\n",
       "      <td>histSST</td>\n",
       "      <td>r1i1p1f1</td>\n",
       "      <td>AERmon</td>\n",
       "      <td>o3</td>\n",
       "      <td>gn</td>\n",
       "      <td>185001-201412</td>\n",
       "      <td>/g/data/oi10/replicas/CMIP6/AerChemMIP/BCC/BCC-ESM1/histSST/r1i1p1f1/AERmon/o3/gn/v20190718/o3_AERmon_BCC-ESM1_histSST_r1i1p1f1_gn_185001-201412.nc</td>\n",
       "      <td>v20190718</td>\n",
       "    </tr>\n",
       "    <tr>\n",
       "      <th>1</th>\n",
       "      <td>CMIP6</td>\n",
       "      <td>AerChemMIP</td>\n",
       "      <td>BCC</td>\n",
       "      <td>BCC-ESM1</td>\n",
       "      <td>ssp370</td>\n",
       "      <td>r1i1p1f1</td>\n",
       "      <td>AERmon</td>\n",
       "      <td>ch4</td>\n",
       "      <td>gn</td>\n",
       "      <td>201501-205512</td>\n",
       "      <td>/g/data/oi10/replicas/CMIP6/AerChemMIP/BCC/BCC-ESM1/ssp370/r1i1p1f1/AERmon/ch4/gn/v20190718/ch4_AERmon_BCC-ESM1_ssp370_r1i1p1f1_gn_201501-205512.nc</td>\n",
       "      <td>v20190718</td>\n",
       "    </tr>\n",
       "    <tr>\n",
       "      <th>2</th>\n",
       "      <td>CMIP6</td>\n",
       "      <td>AerChemMIP</td>\n",
       "      <td>BCC</td>\n",
       "      <td>BCC-ESM1</td>\n",
       "      <td>ssp370</td>\n",
       "      <td>r1i1p1f1</td>\n",
       "      <td>AERmon</td>\n",
       "      <td>lossch4</td>\n",
       "      <td>gn</td>\n",
       "      <td>201501-205512</td>\n",
       "      <td>/g/data/oi10/replicas/CMIP6/AerChemMIP/BCC/BCC-ESM1/ssp370/r1i1p1f1/AERmon/lossch4/gn/v20190718/lossch4_AERmon_BCC-ESM1_ssp370_r1i1p1f1_gn_201501-205512.nc</td>\n",
       "      <td>v20190718</td>\n",
       "    </tr>\n",
       "    <tr>\n",
       "      <th>3</th>\n",
       "      <td>CMIP6</td>\n",
       "      <td>AerChemMIP</td>\n",
       "      <td>BCC</td>\n",
       "      <td>BCC-ESM1</td>\n",
       "      <td>ssp370</td>\n",
       "      <td>r1i1p1f1</td>\n",
       "      <td>AERmon</td>\n",
       "      <td>oh</td>\n",
       "      <td>gn</td>\n",
       "      <td>201501-205512</td>\n",
       "      <td>/g/data/oi10/replicas/CMIP6/AerChemMIP/BCC/BCC-ESM1/ssp370/r1i1p1f1/AERmon/oh/gn/v20190718/oh_AERmon_BCC-ESM1_ssp370_r1i1p1f1_gn_201501-205512.nc</td>\n",
       "      <td>v20190718</td>\n",
       "    </tr>\n",
       "    <tr>\n",
       "      <th>4</th>\n",
       "      <td>CMIP6</td>\n",
       "      <td>AerChemMIP</td>\n",
       "      <td>BCC</td>\n",
       "      <td>BCC-ESM1</td>\n",
       "      <td>ssp370</td>\n",
       "      <td>r1i1p1f1</td>\n",
       "      <td>Amon</td>\n",
       "      <td>fco2nat</td>\n",
       "      <td>gn</td>\n",
       "      <td>201501-205512</td>\n",
       "      <td>/g/data/oi10/replicas/CMIP6/AerChemMIP/BCC/BCC-ESM1/ssp370/r1i1p1f1/Amon/fco2nat/gn/v20190624/fco2nat_Amon_BCC-ESM1_ssp370_r1i1p1f1_gn_201501-205512.nc</td>\n",
       "      <td>v20190624</td>\n",
       "    </tr>\n",
       "  </tbody>\n",
       "</table>\n",
       "</div>"
      ],
      "text/plain": [
       "  project activity_id institution_id source_id experiment_id member_id  \\\n",
       "0   CMIP6  AerChemMIP            BCC  BCC-ESM1       histSST  r1i1p1f1   \n",
       "1   CMIP6  AerChemMIP            BCC  BCC-ESM1        ssp370  r1i1p1f1   \n",
       "2   CMIP6  AerChemMIP            BCC  BCC-ESM1        ssp370  r1i1p1f1   \n",
       "3   CMIP6  AerChemMIP            BCC  BCC-ESM1        ssp370  r1i1p1f1   \n",
       "4   CMIP6  AerChemMIP            BCC  BCC-ESM1        ssp370  r1i1p1f1   \n",
       "\n",
       "  table_id variable_id grid_label     date_range  \\\n",
       "0   AERmon          o3         gn  185001-201412   \n",
       "1   AERmon         ch4         gn  201501-205512   \n",
       "2   AERmon     lossch4         gn  201501-205512   \n",
       "3   AERmon          oh         gn  201501-205512   \n",
       "4     Amon     fco2nat         gn  201501-205512   \n",
       "\n",
       "                                                                                                                                                          path  \\\n",
       "0          /g/data/oi10/replicas/CMIP6/AerChemMIP/BCC/BCC-ESM1/histSST/r1i1p1f1/AERmon/o3/gn/v20190718/o3_AERmon_BCC-ESM1_histSST_r1i1p1f1_gn_185001-201412.nc   \n",
       "1          /g/data/oi10/replicas/CMIP6/AerChemMIP/BCC/BCC-ESM1/ssp370/r1i1p1f1/AERmon/ch4/gn/v20190718/ch4_AERmon_BCC-ESM1_ssp370_r1i1p1f1_gn_201501-205512.nc   \n",
       "2  /g/data/oi10/replicas/CMIP6/AerChemMIP/BCC/BCC-ESM1/ssp370/r1i1p1f1/AERmon/lossch4/gn/v20190718/lossch4_AERmon_BCC-ESM1_ssp370_r1i1p1f1_gn_201501-205512.nc   \n",
       "3            /g/data/oi10/replicas/CMIP6/AerChemMIP/BCC/BCC-ESM1/ssp370/r1i1p1f1/AERmon/oh/gn/v20190718/oh_AERmon_BCC-ESM1_ssp370_r1i1p1f1_gn_201501-205512.nc   \n",
       "4      /g/data/oi10/replicas/CMIP6/AerChemMIP/BCC/BCC-ESM1/ssp370/r1i1p1f1/Amon/fco2nat/gn/v20190624/fco2nat_Amon_BCC-ESM1_ssp370_r1i1p1f1_gn_201501-205512.nc   \n",
       "\n",
       "     version  \n",
       "0  v20190718  \n",
       "1  v20190718  \n",
       "2  v20190718  \n",
       "3  v20190718  \n",
       "4  v20190624  "
      ]
     },
     "execution_count": 15,
     "metadata": {},
     "output_type": "execute_result"
    }
   ],
   "source": [
    "cmip6 = cat['esgf'].cmip6\n",
    "cmip6.df.head()"
   ]
  },
  {
   "cell_type": "code",
   "execution_count": 16,
   "id": "2e035244-af53-4003-8d04-95261e5e56d4",
   "metadata": {},
   "outputs": [
    {
     "data": {
      "text/plain": [
       "\"CMIP6 (Latest Versions)\\n\\nDatasets on Gadi, both publised and replicated. Only the latest available file versions are in the listing, see catalogue 'cmip6_all' for all available versions\\n\\nCatalogue columns match those used by ESGF search (esgf.nci.org.au). intake-esm dict keys are in the form '{esgf instance_id}'.\\n\\nProject: oi10, fs38\\nMaintained By: NCI\\nContact: help@nci.org.au\\nReferences:\\n    - https://pcmdi.llnl.gov/CMIP6/\\n\""
      ]
     },
     "execution_count": 16,
     "metadata": {},
     "output_type": "execute_result"
    }
   ],
   "source": [
    "cmip6.description"
   ]
  },
  {
   "cell_type": "code",
   "execution_count": 17,
   "id": "b5870871-f245-4cb3-b5ea-28f6a3e320eb",
   "metadata": {},
   "outputs": [
    {
     "data": {
      "text/html": [
       "<p><strong>cmip6 catalog with 1 dataset(s) from 3 asset(s)</strong>:</p> <div>\n",
       "<style scoped>\n",
       "    .dataframe tbody tr th:only-of-type {\n",
       "        vertical-align: middle;\n",
       "    }\n",
       "\n",
       "    .dataframe tbody tr th {\n",
       "        vertical-align: top;\n",
       "    }\n",
       "\n",
       "    .dataframe thead th {\n",
       "        text-align: right;\n",
       "    }\n",
       "</style>\n",
       "<table border=\"1\" class=\"dataframe\">\n",
       "  <thead>\n",
       "    <tr style=\"text-align: right;\">\n",
       "      <th></th>\n",
       "      <th>unique</th>\n",
       "    </tr>\n",
       "  </thead>\n",
       "  <tbody>\n",
       "    <tr>\n",
       "      <th>project</th>\n",
       "      <td>1</td>\n",
       "    </tr>\n",
       "    <tr>\n",
       "      <th>activity_id</th>\n",
       "      <td>1</td>\n",
       "    </tr>\n",
       "    <tr>\n",
       "      <th>institution_id</th>\n",
       "      <td>1</td>\n",
       "    </tr>\n",
       "    <tr>\n",
       "      <th>source_id</th>\n",
       "      <td>1</td>\n",
       "    </tr>\n",
       "    <tr>\n",
       "      <th>experiment_id</th>\n",
       "      <td>1</td>\n",
       "    </tr>\n",
       "    <tr>\n",
       "      <th>member_id</th>\n",
       "      <td>1</td>\n",
       "    </tr>\n",
       "    <tr>\n",
       "      <th>table_id</th>\n",
       "      <td>1</td>\n",
       "    </tr>\n",
       "    <tr>\n",
       "      <th>variable_id</th>\n",
       "      <td>1</td>\n",
       "    </tr>\n",
       "    <tr>\n",
       "      <th>grid_label</th>\n",
       "      <td>1</td>\n",
       "    </tr>\n",
       "    <tr>\n",
       "      <th>date_range</th>\n",
       "      <td>3</td>\n",
       "    </tr>\n",
       "    <tr>\n",
       "      <th>path</th>\n",
       "      <td>3</td>\n",
       "    </tr>\n",
       "    <tr>\n",
       "      <th>version</th>\n",
       "      <td>1</td>\n",
       "    </tr>\n",
       "    <tr>\n",
       "      <th>derived_variable_id</th>\n",
       "      <td>0</td>\n",
       "    </tr>\n",
       "  </tbody>\n",
       "</table>\n",
       "</div>"
      ],
      "text/plain": [
       "<IPython.core.display.HTML object>"
      ]
     },
     "metadata": {},
     "output_type": "display_data"
    }
   ],
   "source": [
    "search_dict = {'experiment_id': ['piControl'],\n",
    "      'source_id': 'ACCESS-ESM1-5',\n",
    "      'variable_id': ['intpp']}\n",
    "piControl_intpp_catalog_clex = cmip6.search(**search_dict)\n",
    "piControl_intpp_catalog_clex"
   ]
  },
  {
   "cell_type": "code",
   "execution_count": 18,
   "id": "025ace6b-c6d5-4fde-ae13-af36c5be6ad4",
   "metadata": {},
   "outputs": [
    {
     "data": {
      "text/plain": [
       "['/g/data/fs38/publications/CMIP6/CMIP/CSIRO/ACCESS-ESM1-5/piControl/r1i1p1f1/Omon/intpp/gn/v20210316/intpp_Omon_ACCESS-ESM1-5_piControl_r1i1p1f1_gn_010101-060012.nc',\n",
       " '/g/data/fs38/publications/CMIP6/CMIP/CSIRO/ACCESS-ESM1-5/piControl/r1i1p1f1/Omon/intpp/gn/v20210316/intpp_Omon_ACCESS-ESM1-5_piControl_r1i1p1f1_gn_060101-100012.nc',\n",
       " '/g/data/fs38/publications/CMIP6/CMIP/CSIRO/ACCESS-ESM1-5/piControl/r1i1p1f1/Omon/intpp/gn/v20210316/intpp_Omon_ACCESS-ESM1-5_piControl_r1i1p1f1_gn_100101-110012.nc']"
      ]
     },
     "execution_count": 18,
     "metadata": {},
     "output_type": "execute_result"
    }
   ],
   "source": [
    "piControl_intpp_catalog_clex.unique()['path']"
   ]
  },
  {
   "cell_type": "code",
   "execution_count": 19,
   "id": "c23fe121-d66f-445e-8031-141de82f2c7e",
   "metadata": {},
   "outputs": [
    {
     "data": {
      "text/html": [
       "<p><strong>cmip6 catalog with 40 dataset(s) from 40 asset(s)</strong>:</p> <div>\n",
       "<style scoped>\n",
       "    .dataframe tbody tr th:only-of-type {\n",
       "        vertical-align: middle;\n",
       "    }\n",
       "\n",
       "    .dataframe tbody tr th {\n",
       "        vertical-align: top;\n",
       "    }\n",
       "\n",
       "    .dataframe thead th {\n",
       "        text-align: right;\n",
       "    }\n",
       "</style>\n",
       "<table border=\"1\" class=\"dataframe\">\n",
       "  <thead>\n",
       "    <tr style=\"text-align: right;\">\n",
       "      <th></th>\n",
       "      <th>unique</th>\n",
       "    </tr>\n",
       "  </thead>\n",
       "  <tbody>\n",
       "    <tr>\n",
       "      <th>project</th>\n",
       "      <td>1</td>\n",
       "    </tr>\n",
       "    <tr>\n",
       "      <th>activity_id</th>\n",
       "      <td>1</td>\n",
       "    </tr>\n",
       "    <tr>\n",
       "      <th>institution_id</th>\n",
       "      <td>1</td>\n",
       "    </tr>\n",
       "    <tr>\n",
       "      <th>source_id</th>\n",
       "      <td>1</td>\n",
       "    </tr>\n",
       "    <tr>\n",
       "      <th>experiment_id</th>\n",
       "      <td>1</td>\n",
       "    </tr>\n",
       "    <tr>\n",
       "      <th>member_id</th>\n",
       "      <td>40</td>\n",
       "    </tr>\n",
       "    <tr>\n",
       "      <th>table_id</th>\n",
       "      <td>1</td>\n",
       "    </tr>\n",
       "    <tr>\n",
       "      <th>variable_id</th>\n",
       "      <td>1</td>\n",
       "    </tr>\n",
       "    <tr>\n",
       "      <th>grid_label</th>\n",
       "      <td>1</td>\n",
       "    </tr>\n",
       "    <tr>\n",
       "      <th>date_range</th>\n",
       "      <td>1</td>\n",
       "    </tr>\n",
       "    <tr>\n",
       "      <th>path</th>\n",
       "      <td>40</td>\n",
       "    </tr>\n",
       "    <tr>\n",
       "      <th>version</th>\n",
       "      <td>9</td>\n",
       "    </tr>\n",
       "    <tr>\n",
       "      <th>derived_variable_id</th>\n",
       "      <td>0</td>\n",
       "    </tr>\n",
       "  </tbody>\n",
       "</table>\n",
       "</div>"
      ],
      "text/plain": [
       "<IPython.core.display.HTML object>"
      ]
     },
     "metadata": {},
     "output_type": "display_data"
    }
   ],
   "source": [
    "search_dict = {'experiment_id': ['historical'],\n",
    "      'source_id': 'ACCESS-ESM1-5',\n",
    "      'variable_id': ['intpp']}\n",
    "historical_intpp_catalog_clex = cmip6.search(**search_dict)\n",
    "historical_intpp_catalog_clex"
   ]
  },
  {
   "cell_type": "code",
   "execution_count": 20,
   "id": "067d5869-bd2a-4a89-bbfd-9200de814f36",
   "metadata": {},
   "outputs": [
    {
     "data": {
      "text/plain": [
       "['/g/data/fs38/publications/CMIP6/CMIP/CSIRO/ACCESS-ESM1-5/historical/r10i1p1f1/Omon/intpp/gn/v20200605/intpp_Omon_ACCESS-ESM1-5_historical_r10i1p1f1_gn_185001-201412.nc',\n",
       " '/g/data/fs38/publications/CMIP6/CMIP/CSIRO/ACCESS-ESM1-5/historical/r11i1p1f1/Omon/intpp/gn/v20200803/intpp_Omon_ACCESS-ESM1-5_historical_r11i1p1f1_gn_185001-201412.nc',\n",
       " '/g/data/fs38/publications/CMIP6/CMIP/CSIRO/ACCESS-ESM1-5/historical/r12i1p1f1/Omon/intpp/gn/v20200803/intpp_Omon_ACCESS-ESM1-5_historical_r12i1p1f1_gn_185001-201412.nc',\n",
       " '/g/data/fs38/publications/CMIP6/CMIP/CSIRO/ACCESS-ESM1-5/historical/r13i1p1f1/Omon/intpp/gn/v20200803/intpp_Omon_ACCESS-ESM1-5_historical_r13i1p1f1_gn_185001-201412.nc',\n",
       " '/g/data/fs38/publications/CMIP6/CMIP/CSIRO/ACCESS-ESM1-5/historical/r14i1p1f1/Omon/intpp/gn/v20200803/intpp_Omon_ACCESS-ESM1-5_historical_r14i1p1f1_gn_185001-201412.nc',\n",
       " '/g/data/fs38/publications/CMIP6/CMIP/CSIRO/ACCESS-ESM1-5/historical/r15i1p1f1/Omon/intpp/gn/v20200803/intpp_Omon_ACCESS-ESM1-5_historical_r15i1p1f1_gn_185001-201412.nc',\n",
       " '/g/data/fs38/publications/CMIP6/CMIP/CSIRO/ACCESS-ESM1-5/historical/r16i1p1f1/Omon/intpp/gn/v20200803/intpp_Omon_ACCESS-ESM1-5_historical_r16i1p1f1_gn_185001-201412.nc',\n",
       " '/g/data/fs38/publications/CMIP6/CMIP/CSIRO/ACCESS-ESM1-5/historical/r17i1p1f1/Omon/intpp/gn/v20200803/intpp_Omon_ACCESS-ESM1-5_historical_r17i1p1f1_gn_185001-201412.nc',\n",
       " '/g/data/fs38/publications/CMIP6/CMIP/CSIRO/ACCESS-ESM1-5/historical/r18i1p1f1/Omon/intpp/gn/v20200803/intpp_Omon_ACCESS-ESM1-5_historical_r18i1p1f1_gn_185001-201412.nc',\n",
       " '/g/data/fs38/publications/CMIP6/CMIP/CSIRO/ACCESS-ESM1-5/historical/r19i1p1f1/Omon/intpp/gn/v20200803/intpp_Omon_ACCESS-ESM1-5_historical_r19i1p1f1_gn_185001-201412.nc',\n",
       " '/g/data/fs38/publications/CMIP6/CMIP/CSIRO/ACCESS-ESM1-5/historical/r1i1p1f1/Omon/intpp/gn/v20191115/intpp_Omon_ACCESS-ESM1-5_historical_r1i1p1f1_gn_185001-201412.nc',\n",
       " '/g/data/fs38/publications/CMIP6/CMIP/CSIRO/ACCESS-ESM1-5/historical/r20i1p1f1/Omon/intpp/gn/v20200803/intpp_Omon_ACCESS-ESM1-5_historical_r20i1p1f1_gn_185001-201412.nc',\n",
       " '/g/data/fs38/publications/CMIP6/CMIP/CSIRO/ACCESS-ESM1-5/historical/r21i1p1f1/Omon/intpp/gn/v20200922/intpp_Omon_ACCESS-ESM1-5_historical_r21i1p1f1_gn_185001-201412.nc',\n",
       " '/g/data/fs38/publications/CMIP6/CMIP/CSIRO/ACCESS-ESM1-5/historical/r22i1p1f1/Omon/intpp/gn/v20200922/intpp_Omon_ACCESS-ESM1-5_historical_r22i1p1f1_gn_185001-201412.nc',\n",
       " '/g/data/fs38/publications/CMIP6/CMIP/CSIRO/ACCESS-ESM1-5/historical/r23i1p1f1/Omon/intpp/gn/v20200922/intpp_Omon_ACCESS-ESM1-5_historical_r23i1p1f1_gn_185001-201412.nc',\n",
       " '/g/data/fs38/publications/CMIP6/CMIP/CSIRO/ACCESS-ESM1-5/historical/r24i1p1f1/Omon/intpp/gn/v20200922/intpp_Omon_ACCESS-ESM1-5_historical_r24i1p1f1_gn_185001-201412.nc',\n",
       " '/g/data/fs38/publications/CMIP6/CMIP/CSIRO/ACCESS-ESM1-5/historical/r25i1p1f1/Omon/intpp/gn/v20200922/intpp_Omon_ACCESS-ESM1-5_historical_r25i1p1f1_gn_185001-201412.nc',\n",
       " '/g/data/fs38/publications/CMIP6/CMIP/CSIRO/ACCESS-ESM1-5/historical/r26i1p1f1/Omon/intpp/gn/v20200922/intpp_Omon_ACCESS-ESM1-5_historical_r26i1p1f1_gn_185001-201412.nc',\n",
       " '/g/data/fs38/publications/CMIP6/CMIP/CSIRO/ACCESS-ESM1-5/historical/r27i1p1f1/Omon/intpp/gn/v20200922/intpp_Omon_ACCESS-ESM1-5_historical_r27i1p1f1_gn_185001-201412.nc',\n",
       " '/g/data/fs38/publications/CMIP6/CMIP/CSIRO/ACCESS-ESM1-5/historical/r28i1p1f1/Omon/intpp/gn/v20200922/intpp_Omon_ACCESS-ESM1-5_historical_r28i1p1f1_gn_185001-201412.nc',\n",
       " '/g/data/fs38/publications/CMIP6/CMIP/CSIRO/ACCESS-ESM1-5/historical/r29i1p1f1/Omon/intpp/gn/v20200922/intpp_Omon_ACCESS-ESM1-5_historical_r29i1p1f1_gn_185001-201412.nc',\n",
       " '/g/data/fs38/publications/CMIP6/CMIP/CSIRO/ACCESS-ESM1-5/historical/r2i1p1f1/Omon/intpp/gn/v20191128/intpp_Omon_ACCESS-ESM1-5_historical_r2i1p1f1_gn_185001-201412.nc',\n",
       " '/g/data/fs38/publications/CMIP6/CMIP/CSIRO/ACCESS-ESM1-5/historical/r30i1p1f1/Omon/intpp/gn/v20200922/intpp_Omon_ACCESS-ESM1-5_historical_r30i1p1f1_gn_185001-201412.nc',\n",
       " '/g/data/fs38/publications/CMIP6/CMIP/CSIRO/ACCESS-ESM1-5/historical/r31i1p1f1/Omon/intpp/gn/v20210525/intpp_Omon_ACCESS-ESM1-5_historical_r31i1p1f1_gn_185001-201412.nc',\n",
       " '/g/data/fs38/publications/CMIP6/CMIP/CSIRO/ACCESS-ESM1-5/historical/r32i1p1f1/Omon/intpp/gn/v20210525/intpp_Omon_ACCESS-ESM1-5_historical_r32i1p1f1_gn_185001-201412.nc',\n",
       " '/g/data/fs38/publications/CMIP6/CMIP/CSIRO/ACCESS-ESM1-5/historical/r33i1p1f1/Omon/intpp/gn/v20210525/intpp_Omon_ACCESS-ESM1-5_historical_r33i1p1f1_gn_185001-201412.nc',\n",
       " '/g/data/fs38/publications/CMIP6/CMIP/CSIRO/ACCESS-ESM1-5/historical/r34i1p1f1/Omon/intpp/gn/v20210525/intpp_Omon_ACCESS-ESM1-5_historical_r34i1p1f1_gn_185001-201412.nc',\n",
       " '/g/data/fs38/publications/CMIP6/CMIP/CSIRO/ACCESS-ESM1-5/historical/r35i1p1f1/Omon/intpp/gn/v20210525/intpp_Omon_ACCESS-ESM1-5_historical_r35i1p1f1_gn_185001-201412.nc',\n",
       " '/g/data/fs38/publications/CMIP6/CMIP/CSIRO/ACCESS-ESM1-5/historical/r36i1p1f1/Omon/intpp/gn/v20210525/intpp_Omon_ACCESS-ESM1-5_historical_r36i1p1f1_gn_185001-201412.nc',\n",
       " '/g/data/fs38/publications/CMIP6/CMIP/CSIRO/ACCESS-ESM1-5/historical/r37i1p1f1/Omon/intpp/gn/v20210525/intpp_Omon_ACCESS-ESM1-5_historical_r37i1p1f1_gn_185001-201412.nc',\n",
       " '/g/data/fs38/publications/CMIP6/CMIP/CSIRO/ACCESS-ESM1-5/historical/r38i1p1f1/Omon/intpp/gn/v20210525/intpp_Omon_ACCESS-ESM1-5_historical_r38i1p1f1_gn_185001-201412.nc',\n",
       " '/g/data/fs38/publications/CMIP6/CMIP/CSIRO/ACCESS-ESM1-5/historical/r39i1p1f1/Omon/intpp/gn/v20210525/intpp_Omon_ACCESS-ESM1-5_historical_r39i1p1f1_gn_185001-201412.nc',\n",
       " '/g/data/fs38/publications/CMIP6/CMIP/CSIRO/ACCESS-ESM1-5/historical/r3i1p1f1/Omon/intpp/gn/v20191203/intpp_Omon_ACCESS-ESM1-5_historical_r3i1p1f1_gn_185001-201412.nc',\n",
       " '/g/data/fs38/publications/CMIP6/CMIP/CSIRO/ACCESS-ESM1-5/historical/r40i1p1f1/Omon/intpp/gn/v20210525/intpp_Omon_ACCESS-ESM1-5_historical_r40i1p1f1_gn_185001-201412.nc',\n",
       " '/g/data/fs38/publications/CMIP6/CMIP/CSIRO/ACCESS-ESM1-5/historical/r4i1p1f1/Omon/intpp/gn/v20200529/intpp_Omon_ACCESS-ESM1-5_historical_r4i1p1f1_gn_185001-201412.nc',\n",
       " '/g/data/fs38/publications/CMIP6/CMIP/CSIRO/ACCESS-ESM1-5/historical/r5i1p1f1/Omon/intpp/gn/v20200601/intpp_Omon_ACCESS-ESM1-5_historical_r5i1p1f1_gn_185001-201412.nc',\n",
       " '/g/data/fs38/publications/CMIP6/CMIP/CSIRO/ACCESS-ESM1-5/historical/r6i1p1f1/Omon/intpp/gn/v20200529/intpp_Omon_ACCESS-ESM1-5_historical_r6i1p1f1_gn_185001-201412.nc',\n",
       " '/g/data/fs38/publications/CMIP6/CMIP/CSIRO/ACCESS-ESM1-5/historical/r7i1p1f1/Omon/intpp/gn/v20200529/intpp_Omon_ACCESS-ESM1-5_historical_r7i1p1f1_gn_185001-201412.nc',\n",
       " '/g/data/fs38/publications/CMIP6/CMIP/CSIRO/ACCESS-ESM1-5/historical/r8i1p1f1/Omon/intpp/gn/v20200529/intpp_Omon_ACCESS-ESM1-5_historical_r8i1p1f1_gn_185001-201412.nc',\n",
       " '/g/data/fs38/publications/CMIP6/CMIP/CSIRO/ACCESS-ESM1-5/historical/r9i1p1f1/Omon/intpp/gn/v20200529/intpp_Omon_ACCESS-ESM1-5_historical_r9i1p1f1_gn_185001-201412.nc']"
      ]
     },
     "execution_count": 20,
     "metadata": {},
     "output_type": "execute_result"
    }
   ],
   "source": [
    "historical_intpp_catalog_clex.unique()['path']"
   ]
  },
  {
   "cell_type": "markdown",
   "id": "1dd72535-293e-47d8-9d76-044ec9d4fed7",
   "metadata": {},
   "source": [
    "# Comparison"
   ]
  },
  {
   "cell_type": "code",
   "execution_count": 21,
   "id": "5d4cc8d8-6909-4467-9b03-942a4545b001",
   "metadata": {},
   "outputs": [
    {
     "data": {
      "text/plain": [
       "['/g/data/fs38/publications/CMIP6/CMIP/CSIRO/ACCESS-ESM1-5/piControl/r1i1p1f1/Omon/intpp/gn/files/d20191112/intpp_Omon_ACCESS-ESM1-5_piControl_r1i1p1f1_gn_010101-060012.nc',\n",
       " '/g/data/fs38/publications/CMIP6/CMIP/CSIRO/ACCESS-ESM1-5/piControl/r1i1p1f1/Omon/intpp/gn/files/d20210316/intpp_Omon_ACCESS-ESM1-5_piControl_r1i1p1f1_gn_100101-110012.nc',\n",
       " '/g/data/fs38/publications/CMIP6/CMIP/CSIRO/ACCESS-ESM1-5/piControl/r1i1p1f1/Omon/intpp/gn/files/d20191214/intpp_Omon_ACCESS-ESM1-5_piControl_r1i1p1f1_gn_060101-100012.nc']"
      ]
     },
     "execution_count": 21,
     "metadata": {},
     "output_type": "execute_result"
    }
   ],
   "source": [
    "piControl_intpp_catalog_f.unique().path"
   ]
  },
  {
   "cell_type": "code",
   "execution_count": 22,
   "id": "47ba888c-b225-4513-9d4f-95327e27b066",
   "metadata": {},
   "outputs": [
    {
     "data": {
      "text/plain": [
       "['/g/data/fs38/publications/CMIP6/CMIP/CSIRO/ACCESS-ESM1-5/piControl/r1i1p1f1/Omon/intpp/gn/v20210316/intpp_Omon_ACCESS-ESM1-5_piControl_r1i1p1f1_gn_010101-060012.nc',\n",
       " '/g/data/fs38/publications/CMIP6/CMIP/CSIRO/ACCESS-ESM1-5/piControl/r1i1p1f1/Omon/intpp/gn/v20210316/intpp_Omon_ACCESS-ESM1-5_piControl_r1i1p1f1_gn_060101-100012.nc',\n",
       " '/g/data/fs38/publications/CMIP6/CMIP/CSIRO/ACCESS-ESM1-5/piControl/r1i1p1f1/Omon/intpp/gn/v20210316/intpp_Omon_ACCESS-ESM1-5_piControl_r1i1p1f1_gn_100101-110012.nc']"
      ]
     },
     "execution_count": 22,
     "metadata": {},
     "output_type": "execute_result"
    }
   ],
   "source": [
    "piControl_intpp_catalog_clex.unique().path"
   ]
  },
  {
   "cell_type": "code",
   "execution_count": 23,
   "id": "41be4c6e-4ce2-47af-b592-cecde89113c0",
   "metadata": {},
   "outputs": [
    {
     "name": "stdout",
     "output_type": "stream",
     "text": [
      "/g/data/fs38/publications/CMIP6/CMIP/CSIRO/ACCESS-ESM1-5/piControl/r1i1p1f1/Omon/intpp/gn/files/d20191112/intpp_Omon_ACCESS-ESM1-5_piControl_r1i1p1f1_gn_010101-060012.nc\n"
     ]
    }
   ],
   "source": [
    "!readlink -f /g/data/fs38/publications/CMIP6/CMIP/CSIRO/ACCESS-ESM1-5/piControl/r1i1p1f1/Omon/intpp/gn/v20210316/intpp_Omon_ACCESS-ESM1-5_piControl_r1i1p1f1_gn_010101-060012.nc"
   ]
  },
  {
   "cell_type": "code",
   "execution_count": 24,
   "id": "36397621-8998-40b9-ad13-46b7a8f6f773",
   "metadata": {},
   "outputs": [],
   "source": [
    "import os\n",
    "\n",
    "def resolve_symlinks(paths):\n",
    "    \"\"\"\n",
    "    Given a list of paths, this function returns a list of resolved actual paths.\n",
    "    \n",
    "    Parameters:\n",
    "    - paths (list of str): A list of symbolic link paths to be resolved.\n",
    "    \n",
    "    Returns:\n",
    "    - list of str: A list of resolved actual paths.\n",
    "    \"\"\"\n",
    "    return [os.path.realpath(path) for path in paths]"
   ]
  },
  {
   "cell_type": "code",
   "execution_count": 25,
   "id": "0a5cc2d3-dc22-44e1-ac60-0272cbaa2fb2",
   "metadata": {},
   "outputs": [
    {
     "data": {
      "text/plain": [
       "['/g/data/fs38/publications/CMIP6/CMIP/CSIRO/ACCESS-ESM1-5/piControl/r1i1p1f1/Omon/intpp/gn/files/d20191112/intpp_Omon_ACCESS-ESM1-5_piControl_r1i1p1f1_gn_010101-060012.nc',\n",
       " '/g/data/fs38/publications/CMIP6/CMIP/CSIRO/ACCESS-ESM1-5/piControl/r1i1p1f1/Omon/intpp/gn/files/d20191214/intpp_Omon_ACCESS-ESM1-5_piControl_r1i1p1f1_gn_060101-100012.nc',\n",
       " '/g/data/fs38/publications/CMIP6/CMIP/CSIRO/ACCESS-ESM1-5/piControl/r1i1p1f1/Omon/intpp/gn/files/d20210316/intpp_Omon_ACCESS-ESM1-5_piControl_r1i1p1f1_gn_100101-110012.nc']"
      ]
     },
     "execution_count": 25,
     "metadata": {},
     "output_type": "execute_result"
    }
   ],
   "source": [
    "resolve_symlinks(piControl_intpp_catalog_clex.unique().path)"
   ]
  },
  {
   "cell_type": "code",
   "execution_count": 26,
   "id": "aa06e3dc-fd5f-44a3-9b1e-8d3fe6fb1bfb",
   "metadata": {},
   "outputs": [
    {
     "name": "stdout",
     "output_type": "stream",
     "text": [
      "The path lists are exactly equal\n"
     ]
    }
   ],
   "source": [
    "if resolve_symlinks(piControl_intpp_catalog_clex.unique().path).sort() == piControl_intpp_catalog_f.unique().path.sort():\n",
    "    print(\"The path lists are exactly equal\")\n",
    "else:\n",
    "    print(\"The path lists are not equal\")"
   ]
  },
  {
   "cell_type": "code",
   "execution_count": 27,
   "id": "51c22394-2a85-4846-b674-bd63847140cd",
   "metadata": {},
   "outputs": [
    {
     "data": {
      "text/html": [
       "<p><strong>cmip6-fs38 catalog with 40 dataset(s) from 40 asset(s)</strong>:</p> <div>\n",
       "<style scoped>\n",
       "    .dataframe tbody tr th:only-of-type {\n",
       "        vertical-align: middle;\n",
       "    }\n",
       "\n",
       "    .dataframe tbody tr th {\n",
       "        vertical-align: top;\n",
       "    }\n",
       "\n",
       "    .dataframe thead th {\n",
       "        text-align: right;\n",
       "    }\n",
       "</style>\n",
       "<table border=\"1\" class=\"dataframe\">\n",
       "  <thead>\n",
       "    <tr style=\"text-align: right;\">\n",
       "      <th></th>\n",
       "      <th>unique</th>\n",
       "    </tr>\n",
       "  </thead>\n",
       "  <tbody>\n",
       "    <tr>\n",
       "      <th>path</th>\n",
       "      <td>40</td>\n",
       "    </tr>\n",
       "    <tr>\n",
       "      <th>file_type</th>\n",
       "      <td>1</td>\n",
       "    </tr>\n",
       "    <tr>\n",
       "      <th>realm</th>\n",
       "      <td>1</td>\n",
       "    </tr>\n",
       "    <tr>\n",
       "      <th>frequency</th>\n",
       "      <td>1</td>\n",
       "    </tr>\n",
       "    <tr>\n",
       "      <th>table_id</th>\n",
       "      <td>1</td>\n",
       "    </tr>\n",
       "    <tr>\n",
       "      <th>project_id</th>\n",
       "      <td>1</td>\n",
       "    </tr>\n",
       "    <tr>\n",
       "      <th>institution_id</th>\n",
       "      <td>1</td>\n",
       "    </tr>\n",
       "    <tr>\n",
       "      <th>source_id</th>\n",
       "      <td>1</td>\n",
       "    </tr>\n",
       "    <tr>\n",
       "      <th>experiment_id</th>\n",
       "      <td>1</td>\n",
       "    </tr>\n",
       "    <tr>\n",
       "      <th>member_id</th>\n",
       "      <td>40</td>\n",
       "    </tr>\n",
       "    <tr>\n",
       "      <th>variable_id</th>\n",
       "      <td>1</td>\n",
       "    </tr>\n",
       "    <tr>\n",
       "      <th>grid_label</th>\n",
       "      <td>1</td>\n",
       "    </tr>\n",
       "    <tr>\n",
       "      <th>version</th>\n",
       "      <td>9</td>\n",
       "    </tr>\n",
       "    <tr>\n",
       "      <th>time_range</th>\n",
       "      <td>1</td>\n",
       "    </tr>\n",
       "    <tr>\n",
       "      <th>derived_variable_id</th>\n",
       "      <td>0</td>\n",
       "    </tr>\n",
       "  </tbody>\n",
       "</table>\n",
       "</div>"
      ],
      "text/plain": [
       "<IPython.core.display.HTML object>"
      ]
     },
     "metadata": {},
     "output_type": "display_data"
    }
   ],
   "source": [
    "cmip6_fs38_datastore = nri_catalog.search(name='cmip6_fs38').to_source()\n",
    "search_dict = {'experiment_id': ['historical'],\n",
    "      'source_id': 'ACCESS-ESM1-5',\n",
    "      'variable_id': ['intpp'],\n",
    "      'frequency': 'mon',\n",
    "      'file_type': 'f'}\n",
    "historical_intpp_catalog_f = cmip6_fs38_datastore.search(**search_dict)\n",
    "historical_intpp_catalog_f"
   ]
  },
  {
   "cell_type": "code",
   "execution_count": 28,
   "id": "35a3d0e4-eb61-4580-a5ac-d0bf7b6bf10e",
   "metadata": {},
   "outputs": [
    {
     "data": {
      "text/html": [
       "<p><strong>cmip6-fs38 catalog with 40 dataset(s) from 40 asset(s)</strong>:</p> <div>\n",
       "<style scoped>\n",
       "    .dataframe tbody tr th:only-of-type {\n",
       "        vertical-align: middle;\n",
       "    }\n",
       "\n",
       "    .dataframe tbody tr th {\n",
       "        vertical-align: top;\n",
       "    }\n",
       "\n",
       "    .dataframe thead th {\n",
       "        text-align: right;\n",
       "    }\n",
       "</style>\n",
       "<table border=\"1\" class=\"dataframe\">\n",
       "  <thead>\n",
       "    <tr style=\"text-align: right;\">\n",
       "      <th></th>\n",
       "      <th>unique</th>\n",
       "    </tr>\n",
       "  </thead>\n",
       "  <tbody>\n",
       "    <tr>\n",
       "      <th>path</th>\n",
       "      <td>40</td>\n",
       "    </tr>\n",
       "    <tr>\n",
       "      <th>file_type</th>\n",
       "      <td>1</td>\n",
       "    </tr>\n",
       "    <tr>\n",
       "      <th>realm</th>\n",
       "      <td>1</td>\n",
       "    </tr>\n",
       "    <tr>\n",
       "      <th>frequency</th>\n",
       "      <td>1</td>\n",
       "    </tr>\n",
       "    <tr>\n",
       "      <th>table_id</th>\n",
       "      <td>1</td>\n",
       "    </tr>\n",
       "    <tr>\n",
       "      <th>project_id</th>\n",
       "      <td>1</td>\n",
       "    </tr>\n",
       "    <tr>\n",
       "      <th>institution_id</th>\n",
       "      <td>1</td>\n",
       "    </tr>\n",
       "    <tr>\n",
       "      <th>source_id</th>\n",
       "      <td>1</td>\n",
       "    </tr>\n",
       "    <tr>\n",
       "      <th>experiment_id</th>\n",
       "      <td>1</td>\n",
       "    </tr>\n",
       "    <tr>\n",
       "      <th>member_id</th>\n",
       "      <td>40</td>\n",
       "    </tr>\n",
       "    <tr>\n",
       "      <th>variable_id</th>\n",
       "      <td>1</td>\n",
       "    </tr>\n",
       "    <tr>\n",
       "      <th>grid_label</th>\n",
       "      <td>1</td>\n",
       "    </tr>\n",
       "    <tr>\n",
       "      <th>version</th>\n",
       "      <td>9</td>\n",
       "    </tr>\n",
       "    <tr>\n",
       "      <th>time_range</th>\n",
       "      <td>1</td>\n",
       "    </tr>\n",
       "    <tr>\n",
       "      <th>derived_variable_id</th>\n",
       "      <td>0</td>\n",
       "    </tr>\n",
       "  </tbody>\n",
       "</table>\n",
       "</div>"
      ],
      "text/plain": [
       "<IPython.core.display.HTML object>"
      ]
     },
     "metadata": {},
     "output_type": "display_data"
    }
   ],
   "source": [
    "cmip6_fs38_datastore = nri_catalog.search(name='cmip6_fs38').to_source()\n",
    "search_dict = {'experiment_id': ['historical'],\n",
    "      'source_id': 'ACCESS-ESM1-5',\n",
    "      'variable_id': ['intpp'],\n",
    "      'frequency': 'mon',\n",
    "      'file_type': 'l'}\n",
    "historical_intpp_catalog_l = cmip6_fs38_datastore.search(**search_dict)\n",
    "historical_intpp_catalog_l"
   ]
  },
  {
   "cell_type": "code",
   "execution_count": 29,
   "id": "14d17fbb-e6a9-456c-b160-00e00d1390dd",
   "metadata": {},
   "outputs": [
    {
     "name": "stdout",
     "output_type": "stream",
     "text": [
      "The path lists are exactly equal\n"
     ]
    }
   ],
   "source": [
    "if resolve_symlinks(historical_intpp_catalog_clex.unique().path).sort() == historical_intpp_catalog_f.unique().path.sort():\n",
    "    print(\"The path lists are exactly equal\")\n",
    "else:\n",
    "    print(\"The path lists are not equal\")"
   ]
  },
  {
   "cell_type": "code",
   "execution_count": 30,
   "id": "0f106659-5226-47e0-bf30-2ab0fbe2c513",
   "metadata": {},
   "outputs": [
    {
     "name": "stdout",
     "output_type": "stream",
     "text": [
      "The path lists are exactly equal\n"
     ]
    }
   ],
   "source": [
    "if resolve_symlinks(historical_intpp_catalog_clex.unique().path).sort() == historical_intpp_catalog_l.unique().path.sort():\n",
    "    print(\"The path lists are exactly equal\")\n",
    "else:\n",
    "    print(\"The path lists are not equal\")"
   ]
  },
  {
   "cell_type": "markdown",
   "id": "a3ea1423-7465-467f-b32a-94e00ed071c1",
   "metadata": {},
   "source": [
    "# Rui's email from \"[NCI] (HELP-198258) Meaning of file_type for CMIP6 intake catalog\" "
   ]
  },
  {
   "cell_type": "code",
   "execution_count": 32,
   "id": "32a46e5b-bf99-42a5-ad68-c3bf0c81ef45",
   "metadata": {},
   "outputs": [],
   "source": [
    "cmip6 = intake.open_esm_datastore(\"/g/data/dk92/catalog/v2/esm/cmip6-fs38/catalog.json\")\n",
    "search_dict = {'experiment_id': ['piControl'],\n",
    "      'source_id': 'ACCESS-ESM1-5',\n",
    "      'variable_id': ['intpp'],\n",
    "      'frequency': 'mon',}\n",
    "subset=cmip6.search(**search_dict)"
   ]
  },
  {
   "cell_type": "code",
   "execution_count": 33,
   "id": "09d3df89-3bac-4f83-acb1-6f05da8fa68f",
   "metadata": {},
   "outputs": [
    {
     "data": {
      "text/plain": [
       "['f.CMIP.CSIRO.ACCESS-ESM1-5.piControl.r1i1p1f1.mon.ocnBgchem.Omon.intpp.gn.d20191112',\n",
       " 'f.CMIP.CSIRO.ACCESS-ESM1-5.piControl.r1i1p1f1.mon.ocnBgchem.Omon.intpp.gn.d20191214',\n",
       " 'f.CMIP.CSIRO.ACCESS-ESM1-5.piControl.r1i1p1f1.mon.ocnBgchem.Omon.intpp.gn.d20210316',\n",
       " 'l.CMIP.CSIRO.ACCESS-ESM1-5.piControl.r1i1p1f1.mon.ocnBgchem.Omon.intpp.gn.v20191112',\n",
       " 'l.CMIP.CSIRO.ACCESS-ESM1-5.piControl.r1i1p1f1.mon.ocnBgchem.Omon.intpp.gn.v20191214',\n",
       " 'l.CMIP.CSIRO.ACCESS-ESM1-5.piControl.r1i1p1f1.mon.ocnBgchem.Omon.intpp.gn.v20210316']"
      ]
     },
     "execution_count": 33,
     "metadata": {},
     "output_type": "execute_result"
    }
   ],
   "source": [
    "subset.keys()"
   ]
  },
  {
   "cell_type": "code",
   "execution_count": 34,
   "id": "5c7173d9-25e8-4a2f-af9a-1509e172f0bc",
   "metadata": {},
   "outputs": [
    {
     "name": "stdout",
     "output_type": "stream",
     "text": [
      "f.CMIP.CSIRO.ACCESS-ESM1-5.piControl.r1i1p1f1.mon.ocnBgchem.Omon.intpp.gn.d20191112\n",
      "      time_range    version file_type\n",
      "0  010101-060012  d20191112         f\n",
      "f.CMIP.CSIRO.ACCESS-ESM1-5.piControl.r1i1p1f1.mon.ocnBgchem.Omon.intpp.gn.d20191214\n",
      "      time_range    version file_type\n",
      "0  060101-100012  d20191214         f\n",
      "f.CMIP.CSIRO.ACCESS-ESM1-5.piControl.r1i1p1f1.mon.ocnBgchem.Omon.intpp.gn.d20210316\n",
      "      time_range    version file_type\n",
      "0  100101-110012  d20210316         f\n",
      "l.CMIP.CSIRO.ACCESS-ESM1-5.piControl.r1i1p1f1.mon.ocnBgchem.Omon.intpp.gn.v20191112\n",
      "      time_range    version file_type\n",
      "0  010101-060012  v20191112         l\n",
      "l.CMIP.CSIRO.ACCESS-ESM1-5.piControl.r1i1p1f1.mon.ocnBgchem.Omon.intpp.gn.v20191214\n",
      "      time_range    version file_type\n",
      "0  060101-100012  v20191214         l\n",
      "1  010101-060012  v20191214         l\n",
      "l.CMIP.CSIRO.ACCESS-ESM1-5.piControl.r1i1p1f1.mon.ocnBgchem.Omon.intpp.gn.v20210316\n",
      "      time_range    version file_type\n",
      "0  100101-110012  v20210316         l\n",
      "1  060101-100012  v20210316         l\n",
      "2  010101-060012  v20210316         l\n"
     ]
    }
   ],
   "source": [
    "for key in subset.keys():\n",
    "    print(key)\n",
    "    print(subset[key].df[['time_range','version','file_type']])"
   ]
  },
  {
   "cell_type": "markdown",
   "id": "3f4bfc32-3239-4bb3-a6f9-5524f8e3e0d3",
   "metadata": {},
   "source": [
    "# suggested approach for 02 Dec 2024 ACCESS-ESM1.5"
   ]
  },
  {
   "cell_type": "code",
   "execution_count": 36,
   "id": "376709ba-a89b-402d-b5ed-c5f586bf124e",
   "metadata": {},
   "outputs": [
    {
     "data": {
      "text/plain": [
       "['cmip5',\n",
       " 'cmip5_all',\n",
       " 'cmip5_gr1p5',\n",
       " 'cmip6',\n",
       " 'cmip6_all',\n",
       " 'cmip6_gr1p5',\n",
       " 'cordex',\n",
       " 'cordex_all']"
      ]
     },
     "execution_count": 36,
     "metadata": {},
     "output_type": "execute_result"
    }
   ],
   "source": [
    "clex_esgf_cat = intake.cat.nci['esgf']\n",
    "list(clex_esgf_cat)"
   ]
  },
  {
   "cell_type": "code",
   "execution_count": 40,
   "id": "130493e7-a8d7-4982-9b15-c63c42f9aaf4",
   "metadata": {},
   "outputs": [
    {
     "data": {
      "text/plain": [
       "{'cmip5': name: cmip5\n",
       " container: xarray\n",
       " plugin: ['esm_datastore']\n",
       " driver: ['esm_datastore']\n",
       " description: CMIP5 (Latest Versions)\n",
       " \n",
       " Datasets on Gadi, both publised and replicated. Only the latest available file versions are in the listing, see catalogue 'cmip5_all' for all available versions\n",
       " \n",
       " Catalogue columns match those used by ESGF search (esgf.nci.org.au). intake-esm dict keys are in the form '{esgf instance_id}.{variable}'. Columns 'model_id' and 'institution_id' mirror the non-'_id' columns, with minor formatting differences needed to create the 'instance_id'.\n",
       " \n",
       " Project: al33, rr3\n",
       " Maintained By: NCI\n",
       " Contact: help@nci.org.au\n",
       " References:\n",
       "     - https://pcmdi.llnl.gov/mips/cmip5/\n",
       " \n",
       " direct_access: forbid\n",
       " user_parameters: []\n",
       " metadata: \n",
       " args: \n",
       "   obj: {{CATALOG_DIR}}/cmip5/catalogue_latest.json,\n",
       " 'cmip5_all': name: cmip5_all\n",
       " container: xarray\n",
       " plugin: ['esm_datastore']\n",
       " driver: ['esm_datastore']\n",
       " description: CMIP5 (All Versions)\n",
       " \n",
       " Datasets on Gadi, both publised and replicated. All file versions present are in the listing, see catalogue 'cmip5' for only the latest versions\n",
       " \n",
       " Catalogue columns match those used by ESGF search (esgf.nci.org.au). intake-esm dict keys are in the form '{esgf instance_id}.{variable}'. Columns 'model_id' and 'institution_id' mirror the non-'_id' columns, with minor formatting differences needed to create the 'instance_id'.\n",
       " \n",
       " Project: al33, rr3\n",
       " Maintained By: NCI\n",
       " Contact: help@nci.org.au\n",
       " References:\n",
       "     - https://pcmdi.llnl.gov/mips/cmip5/\n",
       " \n",
       " direct_access: forbid\n",
       " user_parameters: []\n",
       " metadata: \n",
       " args: \n",
       "   obj: {{CATALOG_DIR}}/cmip5/catalogue.json,\n",
       " 'cmip5_gr1p5': name: cmip5_gr1p5\n",
       " container: xarray\n",
       " plugin: ['esm_datastore']\n",
       " driver: ['esm_datastore']\n",
       " description: CMIP5 (Regridded)\n",
       " \n",
       " Post-processed CMIP5 files regridded to a common grid.\n",
       " \n",
       " Project: lp01\n",
       " \n",
       " direct_access: forbid\n",
       " user_parameters: []\n",
       " metadata: \n",
       " args: \n",
       "   obj: /home/548/pfd548/intake-esm-datastore/catalogs/nci-gr1.5-cmip5.json,\n",
       " 'cmip6': name: cmip6\n",
       " container: xarray\n",
       " plugin: ['esm_datastore']\n",
       " driver: ['esm_datastore']\n",
       " description: CMIP6 (Latest Versions)\n",
       " \n",
       " Datasets on Gadi, both publised and replicated. Only the latest available file versions are in the listing, see catalogue 'cmip6_all' for all available versions\n",
       " \n",
       " Catalogue columns match those used by ESGF search (esgf.nci.org.au). intake-esm dict keys are in the form '{esgf instance_id}'.\n",
       " \n",
       " Project: oi10, fs38\n",
       " Maintained By: NCI\n",
       " Contact: help@nci.org.au\n",
       " References:\n",
       "     - https://pcmdi.llnl.gov/CMIP6/\n",
       " \n",
       " direct_access: forbid\n",
       " user_parameters: []\n",
       " metadata: \n",
       " args: \n",
       "   obj: {{CATALOG_DIR}}/cmip6/catalogue_latest.json,\n",
       " 'cmip6_all': name: cmip6_all\n",
       " container: xarray\n",
       " plugin: ['esm_datastore']\n",
       " driver: ['esm_datastore']\n",
       " description: CMIP6 (All Versions)\n",
       " \n",
       " Datasets on Gadi, both publised and replicated. All file versions present are in the listing, see catalogue 'cmip6' for only the latest versions\n",
       " \n",
       " Catalogue columns match those used by ESGF search (esgf.nci.org.au). intake-esm dict keys are in the form '{esgf instance_id}'.\n",
       " \n",
       " Project: oi10, fs38\n",
       " Maintained By: NCI\n",
       " Contact: help@nci.org.au\n",
       " References:\n",
       "     - https://pcmdi.llnl.gov/CMIP6/\n",
       " \n",
       " direct_access: forbid\n",
       " user_parameters: []\n",
       " metadata: \n",
       " args: \n",
       "   obj: {{CATALOG_DIR}}/cmip6/catalogue.json,\n",
       " 'cmip6_gr1p5': name: cmip6_gr1p5\n",
       " container: xarray\n",
       " plugin: ['esm_datastore']\n",
       " driver: ['esm_datastore']\n",
       " description: CMIP6 (Regridded)\n",
       " \n",
       " Post-processed CMIP6 files regridded to a common grid.\n",
       " \n",
       " Project: lp01\n",
       " \n",
       " direct_access: forbid\n",
       " user_parameters: []\n",
       " metadata: \n",
       " args: \n",
       "   obj: /home/548/pfd548/intake-esm-datastore/catalogs/nci-gr1.5-cmip6.json,\n",
       " 'cordex': name: cordex\n",
       " container: xarray\n",
       " plugin: ['esm_datastore']\n",
       " driver: ['esm_datastore']\n",
       " description: CORDEX (Latest Versions)\n",
       " \n",
       " Datasets on Gadi, both publised and replicated. Only the latest available file versions are in the listing, see catalogue 'cordex_all' for all available versions\n",
       " \n",
       " Catalogue columns match those used by ESGF search (esgf.nci.org.au). intake-esm dict keys are in the form '{esgf instance_id}'. Column 'rcm_model_id' mirrors the non-'_id' column, with minor formatting differences needed to create the 'instance_id'.\n",
       " \n",
       " Project: al33, rr3\n",
       " Maintained By: NCI\n",
       " Contact: help@nci.org.au\n",
       " References:\n",
       "     - https://cordex.org/\n",
       " \n",
       " direct_access: forbid\n",
       " user_parameters: []\n",
       " metadata: \n",
       " args: \n",
       "   obj: {{CATALOG_DIR}}/cordex/catalogue_latest.json,\n",
       " 'cordex_all': name: cordex_all\n",
       " container: xarray\n",
       " plugin: ['esm_datastore']\n",
       " driver: ['esm_datastore']\n",
       " description: CORDEX (All Versions)\n",
       " \n",
       " Datasets on Gadi, both publised and replicated. All file versions present are in the listing, see catalogue 'cordex' for only the latest versions\n",
       " \n",
       " Catalogue columns match those used by ESGF search (esgf.nci.org.au). intake-esm dict keys are in the form '{esgf instance_id}'. Column 'rcm_model_id' mirrors the non-'_id' column, with minor formatting differences needed to create the 'instance_id'.\n",
       " \n",
       " Project: al33, rr3\n",
       " Maintained By: NCI\n",
       " Contact: help@nci.org.au\n",
       " References:\n",
       "     - https://cordex.org/\n",
       " \n",
       " direct_access: forbid\n",
       " user_parameters: []\n",
       " metadata: \n",
       " args: \n",
       "   obj: {{CATALOG_DIR}}/cordex/catalogue.json}"
      ]
     },
     "execution_count": 40,
     "metadata": {},
     "output_type": "execute_result"
    }
   ],
   "source": [
    "clex_esgf_cat._entries"
   ]
  },
  {
   "cell_type": "code",
   "execution_count": 41,
   "id": "d235ed6e-622c-4dd4-910f-8a3f38d19e6e",
   "metadata": {},
   "outputs": [],
   "source": [
    "clex_cmip6_cat = clex_esgf_cat['cmip6']"
   ]
  },
  {
   "cell_type": "code",
   "execution_count": 45,
   "id": "1dc06dc2-9cb9-4140-b8bc-7510562e0eb2",
   "metadata": {},
   "outputs": [
    {
     "data": {
      "text/html": [
       "<div>\n",
       "<style scoped>\n",
       "    .dataframe tbody tr th:only-of-type {\n",
       "        vertical-align: middle;\n",
       "    }\n",
       "\n",
       "    .dataframe tbody tr th {\n",
       "        vertical-align: top;\n",
       "    }\n",
       "\n",
       "    .dataframe thead th {\n",
       "        text-align: right;\n",
       "    }\n",
       "</style>\n",
       "<table border=\"1\" class=\"dataframe\">\n",
       "  <thead>\n",
       "    <tr style=\"text-align: right;\">\n",
       "      <th></th>\n",
       "      <th>project</th>\n",
       "      <th>activity_id</th>\n",
       "      <th>institution_id</th>\n",
       "      <th>source_id</th>\n",
       "      <th>experiment_id</th>\n",
       "      <th>member_id</th>\n",
       "      <th>table_id</th>\n",
       "      <th>variable_id</th>\n",
       "      <th>grid_label</th>\n",
       "      <th>date_range</th>\n",
       "      <th>path</th>\n",
       "      <th>version</th>\n",
       "    </tr>\n",
       "  </thead>\n",
       "  <tbody>\n",
       "    <tr>\n",
       "      <th>0</th>\n",
       "      <td>CMIP6</td>\n",
       "      <td>AerChemMIP</td>\n",
       "      <td>BCC</td>\n",
       "      <td>BCC-ESM1</td>\n",
       "      <td>histSST</td>\n",
       "      <td>r1i1p1f1</td>\n",
       "      <td>AERmon</td>\n",
       "      <td>o3</td>\n",
       "      <td>gn</td>\n",
       "      <td>185001-201412</td>\n",
       "      <td>/g/data/oi10/replicas/CMIP6/AerChemMIP/BCC/BCC-ESM1/histSST/r1i1p1f1/AERmon/o3/gn/v20190718/o3_AERmon_BCC-ESM1_histSST_r1i1p1f1_gn_185001-201412.nc</td>\n",
       "      <td>v20190718</td>\n",
       "    </tr>\n",
       "    <tr>\n",
       "      <th>1</th>\n",
       "      <td>CMIP6</td>\n",
       "      <td>AerChemMIP</td>\n",
       "      <td>BCC</td>\n",
       "      <td>BCC-ESM1</td>\n",
       "      <td>ssp370</td>\n",
       "      <td>r1i1p1f1</td>\n",
       "      <td>AERmon</td>\n",
       "      <td>ch4</td>\n",
       "      <td>gn</td>\n",
       "      <td>201501-205512</td>\n",
       "      <td>/g/data/oi10/replicas/CMIP6/AerChemMIP/BCC/BCC-ESM1/ssp370/r1i1p1f1/AERmon/ch4/gn/v20190718/ch4_AERmon_BCC-ESM1_ssp370_r1i1p1f1_gn_201501-205512.nc</td>\n",
       "      <td>v20190718</td>\n",
       "    </tr>\n",
       "    <tr>\n",
       "      <th>2</th>\n",
       "      <td>CMIP6</td>\n",
       "      <td>AerChemMIP</td>\n",
       "      <td>BCC</td>\n",
       "      <td>BCC-ESM1</td>\n",
       "      <td>ssp370</td>\n",
       "      <td>r1i1p1f1</td>\n",
       "      <td>AERmon</td>\n",
       "      <td>lossch4</td>\n",
       "      <td>gn</td>\n",
       "      <td>201501-205512</td>\n",
       "      <td>/g/data/oi10/replicas/CMIP6/AerChemMIP/BCC/BCC-ESM1/ssp370/r1i1p1f1/AERmon/lossch4/gn/v20190718/lossch4_AERmon_BCC-ESM1_ssp370_r1i1p1f1_gn_201501-205512.nc</td>\n",
       "      <td>v20190718</td>\n",
       "    </tr>\n",
       "    <tr>\n",
       "      <th>3</th>\n",
       "      <td>CMIP6</td>\n",
       "      <td>AerChemMIP</td>\n",
       "      <td>BCC</td>\n",
       "      <td>BCC-ESM1</td>\n",
       "      <td>ssp370</td>\n",
       "      <td>r1i1p1f1</td>\n",
       "      <td>AERmon</td>\n",
       "      <td>oh</td>\n",
       "      <td>gn</td>\n",
       "      <td>201501-205512</td>\n",
       "      <td>/g/data/oi10/replicas/CMIP6/AerChemMIP/BCC/BCC-ESM1/ssp370/r1i1p1f1/AERmon/oh/gn/v20190718/oh_AERmon_BCC-ESM1_ssp370_r1i1p1f1_gn_201501-205512.nc</td>\n",
       "      <td>v20190718</td>\n",
       "    </tr>\n",
       "    <tr>\n",
       "      <th>4</th>\n",
       "      <td>CMIP6</td>\n",
       "      <td>AerChemMIP</td>\n",
       "      <td>BCC</td>\n",
       "      <td>BCC-ESM1</td>\n",
       "      <td>ssp370</td>\n",
       "      <td>r1i1p1f1</td>\n",
       "      <td>Amon</td>\n",
       "      <td>fco2nat</td>\n",
       "      <td>gn</td>\n",
       "      <td>201501-205512</td>\n",
       "      <td>/g/data/oi10/replicas/CMIP6/AerChemMIP/BCC/BCC-ESM1/ssp370/r1i1p1f1/Amon/fco2nat/gn/v20190624/fco2nat_Amon_BCC-ESM1_ssp370_r1i1p1f1_gn_201501-205512.nc</td>\n",
       "      <td>v20190624</td>\n",
       "    </tr>\n",
       "  </tbody>\n",
       "</table>\n",
       "</div>"
      ],
      "text/plain": [
       "  project activity_id institution_id source_id experiment_id member_id  \\\n",
       "0   CMIP6  AerChemMIP            BCC  BCC-ESM1       histSST  r1i1p1f1   \n",
       "1   CMIP6  AerChemMIP            BCC  BCC-ESM1        ssp370  r1i1p1f1   \n",
       "2   CMIP6  AerChemMIP            BCC  BCC-ESM1        ssp370  r1i1p1f1   \n",
       "3   CMIP6  AerChemMIP            BCC  BCC-ESM1        ssp370  r1i1p1f1   \n",
       "4   CMIP6  AerChemMIP            BCC  BCC-ESM1        ssp370  r1i1p1f1   \n",
       "\n",
       "  table_id variable_id grid_label     date_range  \\\n",
       "0   AERmon          o3         gn  185001-201412   \n",
       "1   AERmon         ch4         gn  201501-205512   \n",
       "2   AERmon     lossch4         gn  201501-205512   \n",
       "3   AERmon          oh         gn  201501-205512   \n",
       "4     Amon     fco2nat         gn  201501-205512   \n",
       "\n",
       "                                                                                                                                                          path  \\\n",
       "0          /g/data/oi10/replicas/CMIP6/AerChemMIP/BCC/BCC-ESM1/histSST/r1i1p1f1/AERmon/o3/gn/v20190718/o3_AERmon_BCC-ESM1_histSST_r1i1p1f1_gn_185001-201412.nc   \n",
       "1          /g/data/oi10/replicas/CMIP6/AerChemMIP/BCC/BCC-ESM1/ssp370/r1i1p1f1/AERmon/ch4/gn/v20190718/ch4_AERmon_BCC-ESM1_ssp370_r1i1p1f1_gn_201501-205512.nc   \n",
       "2  /g/data/oi10/replicas/CMIP6/AerChemMIP/BCC/BCC-ESM1/ssp370/r1i1p1f1/AERmon/lossch4/gn/v20190718/lossch4_AERmon_BCC-ESM1_ssp370_r1i1p1f1_gn_201501-205512.nc   \n",
       "3            /g/data/oi10/replicas/CMIP6/AerChemMIP/BCC/BCC-ESM1/ssp370/r1i1p1f1/AERmon/oh/gn/v20190718/oh_AERmon_BCC-ESM1_ssp370_r1i1p1f1_gn_201501-205512.nc   \n",
       "4      /g/data/oi10/replicas/CMIP6/AerChemMIP/BCC/BCC-ESM1/ssp370/r1i1p1f1/Amon/fco2nat/gn/v20190624/fco2nat_Amon_BCC-ESM1_ssp370_r1i1p1f1_gn_201501-205512.nc   \n",
       "\n",
       "     version  \n",
       "0  v20190718  \n",
       "1  v20190718  \n",
       "2  v20190718  \n",
       "3  v20190718  \n",
       "4  v20190624  "
      ]
     },
     "execution_count": 45,
     "metadata": {},
     "output_type": "execute_result"
    }
   ],
   "source": [
    "clex_cmip6_cat.df.head()"
   ]
  },
  {
   "cell_type": "code",
   "execution_count": 47,
   "id": "662b25b2-0c4b-484a-96d6-31c7b682bc09",
   "metadata": {},
   "outputs": [],
   "source": [
    "search_dict = {'experiment_id': ['piControl'],\n",
    "      'source_id': 'ACCESS-ESM1-5',\n",
    "      'variable_id': ['intpp']}\n",
    "search = clex_cmip6_cat.search(**search_dict)"
   ]
  },
  {
   "cell_type": "code",
   "execution_count": 48,
   "id": "3da8deb6-34dc-42f7-b715-9c2c69d285f0",
   "metadata": {},
   "outputs": [
    {
     "data": {
      "text/html": [
       "<div>\n",
       "<style scoped>\n",
       "    .dataframe tbody tr th:only-of-type {\n",
       "        vertical-align: middle;\n",
       "    }\n",
       "\n",
       "    .dataframe tbody tr th {\n",
       "        vertical-align: top;\n",
       "    }\n",
       "\n",
       "    .dataframe thead th {\n",
       "        text-align: right;\n",
       "    }\n",
       "</style>\n",
       "<table border=\"1\" class=\"dataframe\">\n",
       "  <thead>\n",
       "    <tr style=\"text-align: right;\">\n",
       "      <th></th>\n",
       "      <th>project</th>\n",
       "      <th>activity_id</th>\n",
       "      <th>institution_id</th>\n",
       "      <th>source_id</th>\n",
       "      <th>experiment_id</th>\n",
       "      <th>member_id</th>\n",
       "      <th>table_id</th>\n",
       "      <th>variable_id</th>\n",
       "      <th>grid_label</th>\n",
       "      <th>date_range</th>\n",
       "      <th>path</th>\n",
       "      <th>version</th>\n",
       "    </tr>\n",
       "  </thead>\n",
       "  <tbody>\n",
       "    <tr>\n",
       "      <th>0</th>\n",
       "      <td>CMIP6</td>\n",
       "      <td>CMIP</td>\n",
       "      <td>CSIRO</td>\n",
       "      <td>ACCESS-ESM1-5</td>\n",
       "      <td>piControl</td>\n",
       "      <td>r1i1p1f1</td>\n",
       "      <td>Omon</td>\n",
       "      <td>intpp</td>\n",
       "      <td>gn</td>\n",
       "      <td>010101-060012</td>\n",
       "      <td>/g/data/fs38/publications/CMIP6/CMIP/CSIRO/ACCESS-ESM1-5/piControl/r1i1p1f1/Omon/intpp/gn/v20210316/intpp_Omon_ACCESS-ESM1-5_piControl_r1i1p1f1_gn_010101-060012.nc</td>\n",
       "      <td>v20210316</td>\n",
       "    </tr>\n",
       "    <tr>\n",
       "      <th>1</th>\n",
       "      <td>CMIP6</td>\n",
       "      <td>CMIP</td>\n",
       "      <td>CSIRO</td>\n",
       "      <td>ACCESS-ESM1-5</td>\n",
       "      <td>piControl</td>\n",
       "      <td>r1i1p1f1</td>\n",
       "      <td>Omon</td>\n",
       "      <td>intpp</td>\n",
       "      <td>gn</td>\n",
       "      <td>060101-100012</td>\n",
       "      <td>/g/data/fs38/publications/CMIP6/CMIP/CSIRO/ACCESS-ESM1-5/piControl/r1i1p1f1/Omon/intpp/gn/v20210316/intpp_Omon_ACCESS-ESM1-5_piControl_r1i1p1f1_gn_060101-100012.nc</td>\n",
       "      <td>v20210316</td>\n",
       "    </tr>\n",
       "    <tr>\n",
       "      <th>2</th>\n",
       "      <td>CMIP6</td>\n",
       "      <td>CMIP</td>\n",
       "      <td>CSIRO</td>\n",
       "      <td>ACCESS-ESM1-5</td>\n",
       "      <td>piControl</td>\n",
       "      <td>r1i1p1f1</td>\n",
       "      <td>Omon</td>\n",
       "      <td>intpp</td>\n",
       "      <td>gn</td>\n",
       "      <td>100101-110012</td>\n",
       "      <td>/g/data/fs38/publications/CMIP6/CMIP/CSIRO/ACCESS-ESM1-5/piControl/r1i1p1f1/Omon/intpp/gn/v20210316/intpp_Omon_ACCESS-ESM1-5_piControl_r1i1p1f1_gn_100101-110012.nc</td>\n",
       "      <td>v20210316</td>\n",
       "    </tr>\n",
       "  </tbody>\n",
       "</table>\n",
       "</div>"
      ],
      "text/plain": [
       "  project activity_id institution_id      source_id experiment_id member_id  \\\n",
       "0   CMIP6        CMIP          CSIRO  ACCESS-ESM1-5     piControl  r1i1p1f1   \n",
       "1   CMIP6        CMIP          CSIRO  ACCESS-ESM1-5     piControl  r1i1p1f1   \n",
       "2   CMIP6        CMIP          CSIRO  ACCESS-ESM1-5     piControl  r1i1p1f1   \n",
       "\n",
       "  table_id variable_id grid_label     date_range  \\\n",
       "0     Omon       intpp         gn  010101-060012   \n",
       "1     Omon       intpp         gn  060101-100012   \n",
       "2     Omon       intpp         gn  100101-110012   \n",
       "\n",
       "                                                                                                                                                                  path  \\\n",
       "0  /g/data/fs38/publications/CMIP6/CMIP/CSIRO/ACCESS-ESM1-5/piControl/r1i1p1f1/Omon/intpp/gn/v20210316/intpp_Omon_ACCESS-ESM1-5_piControl_r1i1p1f1_gn_010101-060012.nc   \n",
       "1  /g/data/fs38/publications/CMIP6/CMIP/CSIRO/ACCESS-ESM1-5/piControl/r1i1p1f1/Omon/intpp/gn/v20210316/intpp_Omon_ACCESS-ESM1-5_piControl_r1i1p1f1_gn_060101-100012.nc   \n",
       "2  /g/data/fs38/publications/CMIP6/CMIP/CSIRO/ACCESS-ESM1-5/piControl/r1i1p1f1/Omon/intpp/gn/v20210316/intpp_Omon_ACCESS-ESM1-5_piControl_r1i1p1f1_gn_100101-110012.nc   \n",
       "\n",
       "     version  \n",
       "0  v20210316  \n",
       "1  v20210316  \n",
       "2  v20210316  "
      ]
     },
     "execution_count": 48,
     "metadata": {},
     "output_type": "execute_result"
    }
   ],
   "source": [
    "search.df.head()"
   ]
  },
  {
   "cell_type": "code",
   "execution_count": null,
   "id": "2c8af0dc-971c-45d1-ae77-b65618adb087",
   "metadata": {},
   "outputs": [],
   "source": []
  },
  {
   "cell_type": "markdown",
   "id": "5b29cb65-cc6a-464a-8ec3-f18db798b3d8",
   "metadata": {},
   "source": [
    "# $THE$ $END$"
   ]
  },
  {
   "cell_type": "code",
   "execution_count": null,
   "id": "2d274613-676d-4903-b768-9c2680b55f4f",
   "metadata": {},
   "outputs": [],
   "source": []
  },
  {
   "cell_type": "code",
   "execution_count": null,
   "id": "bc61e76b-45f2-4a6d-ade3-63d73ad6bd96",
   "metadata": {},
   "outputs": [],
   "source": []
  }
 ],
 "metadata": {
  "kernelspec": {
   "display_name": "Python [conda env:analysis3]",
   "language": "python",
   "name": "conda-env-analysis3-py"
  },
  "language_info": {
   "codemirror_mode": {
    "name": "ipython",
    "version": 3
   },
   "file_extension": ".py",
   "mimetype": "text/x-python",
   "name": "python",
   "nbconvert_exporter": "python",
   "pygments_lexer": "ipython3",
   "version": "3.10.14"
  }
 },
 "nbformat": 4,
 "nbformat_minor": 5
}
