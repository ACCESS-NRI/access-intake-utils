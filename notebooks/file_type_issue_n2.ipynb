{
 "cells": [
  {
   "cell_type": "markdown",
   "id": "2bbcce82-88b9-4dc3-81f7-305710b84adf",
   "metadata": {},
   "source": [
    "# [NCI fs38 catalog] what does `file_type = f` vs `l` mean and which is the correct one to use?"
   ]
  },
  {
   "cell_type": "markdown",
   "id": "7e50d03b-d0bb-495e-b7fa-961cac06a947",
   "metadata": {},
   "source": [
    "#### https://github.com/Thomas-Moore-Creative/ACDtools/issues/2"
   ]
  },
  {
   "cell_type": "markdown",
   "id": "444db49f-f4c2-4d6c-a5bf-83576d2f5c9a",
   "metadata": {},
   "source": [
    "#### Date: 28 October, 2024"
   ]
  },
  {
   "cell_type": "markdown",
   "id": "a0158574-20a2-4c25-bf47-f384dbb80648",
   "metadata": {},
   "source": [
    "Author = {\"name\": \"Thomas Moore\", \"affiliation\": \"CSIRO\", \"email\": \"thomas.moore@csiro.au\", \"orcid\": \"0000-0003-3930-1946\"}"
   ]
  },
  {
   "cell_type": "markdown",
   "id": "c94d2934-9f8a-4495-b32a-46c1ac293870",
   "metadata": {},
   "source": [
    "### filter warnings"
   ]
  },
  {
   "cell_type": "code",
   "execution_count": 1,
   "id": "c774b769-3308-49e6-8c1d-90b7e5645ad3",
   "metadata": {},
   "outputs": [],
   "source": [
    "import warnings\n",
    "warnings.filterwarnings(\"ignore\") # Suppress warnings"
   ]
  },
  {
   "cell_type": "markdown",
   "id": "7fcad830-ea7e-4ecd-a64b-b5f9edeb305a",
   "metadata": {},
   "source": [
    "# Dask cluster"
   ]
  },
  {
   "cell_type": "code",
   "execution_count": 2,
   "id": "6935fbd8-fcb1-4784-912b-7dea47c469b0",
   "metadata": {},
   "outputs": [
    {
     "name": "stdout",
     "output_type": "stream",
     "text": [
      "Cluster started with 28 workers.\n",
      "Dashboard available at: /proxy/8787/status\n"
     ]
    }
   ],
   "source": [
    "from dask.distributed import Client, LocalCluster\n",
    "dask_settings = {'threads_per_worker': 1} # threads per worker set to deal with https://forum.access-hive.org.au/t/netcdf-not-a-valid-id-errors/389\n",
    "# Start the Dask cluster with the settings by unpacking the dictionary using **\n",
    "cluster = LocalCluster(**dask_settings) \n",
    "# Connect a client to the cluster\n",
    "client = Client(cluster)\n",
    "# Show some basic information about the cluster\n",
    "print(f\"Cluster started with {len(cluster.workers)} workers.\")\n",
    "print(f\"Dashboard available at: {cluster.dashboard_link}\")"
   ]
  },
  {
   "cell_type": "markdown",
   "id": "453d3b34-0f7f-499c-838e-f9d713ee82bc",
   "metadata": {},
   "source": [
    "# Issue: [NCI fs38 catalog] what does `file_type = f` vs `l` mean and which is the correct one to use?\n",
    "- https://github.com/Thomas-Moore-Creative/ACDtools/issues/2"
   ]
  },
  {
   "cell_type": "markdown",
   "id": "6a82586a-8ca1-47b9-9794-ddfad8cccd43",
   "metadata": {},
   "source": [
    "##### Information on climate data catalogs across Australian HPC\n",
    "\n",
    "**ACCESS-NRI** https://access-nri-intake-catalog.readthedocs.io/en/latest/usage/how.html <br>\n",
    "**NCI** https://opus.nci.org.au/pages/viewpage.action?pageId=213713098\n"
   ]
  },
  {
   "cell_type": "markdown",
   "id": "f13e29a8-ca33-4e22-9755-252be78c1800",
   "metadata": {},
   "source": [
    "## import packages"
   ]
  },
  {
   "cell_type": "code",
   "execution_count": 3,
   "id": "0b6b05c0-eb4c-4095-b55f-e70b077a10b4",
   "metadata": {},
   "outputs": [],
   "source": [
    "import intake\n",
    "import xarray as xr\n",
    "import numpy as np"
   ]
  },
  {
   "cell_type": "markdown",
   "id": "d7658e34-4789-4e9c-a087-64f4e10c504c",
   "metadata": {},
   "source": [
    "### import the ACCESS-NRI catalog"
   ]
  },
  {
   "cell_type": "code",
   "execution_count": 4,
   "id": "36899205-6bf0-47c1-8e4a-555bac3a2b9d",
   "metadata": {},
   "outputs": [],
   "source": [
    "catalog = intake.cat.access_nri"
   ]
  },
  {
   "cell_type": "markdown",
   "id": "57a06300-a24d-45cb-b377-197481c0184a",
   "metadata": {},
   "source": [
    "## get catalog for `fs38` and apply search dictionaries for `piControl` & `intpp` examples"
   ]
  },
  {
   "cell_type": "code",
   "execution_count": 5,
   "id": "80263b34-9f75-4d92-b5e4-193b42b5b53a",
   "metadata": {},
   "outputs": [],
   "source": [
    "nri_catalog = intake.cat.access_nri"
   ]
  },
  {
   "cell_type": "code",
   "execution_count": 6,
   "id": "b681416a-c37a-4059-8c6c-6daecebaac71",
   "metadata": {},
   "outputs": [
    {
     "data": {
      "text/html": [
       "<p><strong>cmip6-fs38 catalog with 3 dataset(s) from 3 asset(s)</strong>:</p> <div>\n",
       "<style scoped>\n",
       "    .dataframe tbody tr th:only-of-type {\n",
       "        vertical-align: middle;\n",
       "    }\n",
       "\n",
       "    .dataframe tbody tr th {\n",
       "        vertical-align: top;\n",
       "    }\n",
       "\n",
       "    .dataframe thead th {\n",
       "        text-align: right;\n",
       "    }\n",
       "</style>\n",
       "<table border=\"1\" class=\"dataframe\">\n",
       "  <thead>\n",
       "    <tr style=\"text-align: right;\">\n",
       "      <th></th>\n",
       "      <th>unique</th>\n",
       "    </tr>\n",
       "  </thead>\n",
       "  <tbody>\n",
       "    <tr>\n",
       "      <th>path</th>\n",
       "      <td>3</td>\n",
       "    </tr>\n",
       "    <tr>\n",
       "      <th>file_type</th>\n",
       "      <td>1</td>\n",
       "    </tr>\n",
       "    <tr>\n",
       "      <th>realm</th>\n",
       "      <td>1</td>\n",
       "    </tr>\n",
       "    <tr>\n",
       "      <th>frequency</th>\n",
       "      <td>1</td>\n",
       "    </tr>\n",
       "    <tr>\n",
       "      <th>table_id</th>\n",
       "      <td>1</td>\n",
       "    </tr>\n",
       "    <tr>\n",
       "      <th>project_id</th>\n",
       "      <td>1</td>\n",
       "    </tr>\n",
       "    <tr>\n",
       "      <th>institution_id</th>\n",
       "      <td>1</td>\n",
       "    </tr>\n",
       "    <tr>\n",
       "      <th>source_id</th>\n",
       "      <td>1</td>\n",
       "    </tr>\n",
       "    <tr>\n",
       "      <th>experiment_id</th>\n",
       "      <td>1</td>\n",
       "    </tr>\n",
       "    <tr>\n",
       "      <th>member_id</th>\n",
       "      <td>1</td>\n",
       "    </tr>\n",
       "    <tr>\n",
       "      <th>variable_id</th>\n",
       "      <td>1</td>\n",
       "    </tr>\n",
       "    <tr>\n",
       "      <th>grid_label</th>\n",
       "      <td>1</td>\n",
       "    </tr>\n",
       "    <tr>\n",
       "      <th>version</th>\n",
       "      <td>3</td>\n",
       "    </tr>\n",
       "    <tr>\n",
       "      <th>time_range</th>\n",
       "      <td>3</td>\n",
       "    </tr>\n",
       "    <tr>\n",
       "      <th>derived_variable_id</th>\n",
       "      <td>0</td>\n",
       "    </tr>\n",
       "  </tbody>\n",
       "</table>\n",
       "</div>"
      ],
      "text/plain": [
       "<IPython.core.display.HTML object>"
      ]
     },
     "metadata": {},
     "output_type": "display_data"
    }
   ],
   "source": [
    "cmip6_fs38_datastore = nri_catalog.search(name='cmip6_fs38').to_source()\n",
    "search_dict = {'experiment_id': ['piControl'],\n",
    "      'source_id': 'ACCESS-ESM1-5',\n",
    "      'variable_id': ['intpp'],\n",
    "      'frequency': 'mon',\n",
    "      'file_type': 'f'}\n",
    "piControl_intpp_catalog_f = cmip6_fs38_datastore.search(**search_dict)\n",
    "piControl_intpp_catalog_f"
   ]
  },
  {
   "cell_type": "code",
   "execution_count": 7,
   "id": "9d630ed8-99bf-48ef-a501-deabcbc52861",
   "metadata": {},
   "outputs": [
    {
     "data": {
      "text/plain": [
       "['/g/data/fs38/publications/CMIP6/CMIP/CSIRO/ACCESS-ESM1-5/piControl/r1i1p1f1/Omon/intpp/gn/files/d20191112/intpp_Omon_ACCESS-ESM1-5_piControl_r1i1p1f1_gn_010101-060012.nc',\n",
       " '/g/data/fs38/publications/CMIP6/CMIP/CSIRO/ACCESS-ESM1-5/piControl/r1i1p1f1/Omon/intpp/gn/files/d20210316/intpp_Omon_ACCESS-ESM1-5_piControl_r1i1p1f1_gn_100101-110012.nc',\n",
       " '/g/data/fs38/publications/CMIP6/CMIP/CSIRO/ACCESS-ESM1-5/piControl/r1i1p1f1/Omon/intpp/gn/files/d20191214/intpp_Omon_ACCESS-ESM1-5_piControl_r1i1p1f1_gn_060101-100012.nc']"
      ]
     },
     "execution_count": 7,
     "metadata": {},
     "output_type": "execute_result"
    }
   ],
   "source": [
    "piControl_intpp_catalog_f.unique().path"
   ]
  },
  {
   "cell_type": "markdown",
   "id": "ca6ac3af-df9e-4269-9713-0d9d199c940b",
   "metadata": {},
   "source": [
    "## compare to ls of `/g/data/fs38/publications/CMIP6/CMIP/CSIRO/ACCESS-ESM1-5/piControl/r1i1p1f1/Omon/intpp/gn/latest` \n",
    "```\n",
    "(base) tm4888@gadi-login-03 /g/data/fs38/publications/CMIP6/CMIP/CSIRO/ACCESS-ESM1-5/piControl/r1i1p1f1/Omon/intpp/gn/latest ls -ltrh\n",
    "total 38K\n",
    "lrwxrwxrwx 1 fo3_esgfpub fs38 82 Apr 26  2021 intpp_Omon_ACCESS-ESM1-5_piControl_r1i1p1f1_gn_060101-100012.nc -> ../files/d20191214/intpp_Omon_ACCESS-ESM1-5_piControl_r1i1p1f1_gn_060101-100012.nc\n",
    "lrwxrwxrwx 1 fo3_esgfpub fs38 82 Apr 26  2021 intpp_Omon_ACCESS-ESM1-5_piControl_r1i1p1f1_gn_010101-060012.nc -> ../files/d20191112/intpp_Omon_ACCESS-ESM1-5_piControl_r1i1p1f1_gn_010101-060012.nc\n",
    "lrwxrwxrwx 1 fo3_esgfpub fs38 82 Apr 26  2021 intpp_Omon_ACCESS-ESM1-5_piControl_r1i1p1f1_gn_100101-110012.nc -> ../files/d20210316/intpp_Omon_ACCESS-ESM1-5_piControl_r1i1p1f1_gn_100101-110012.nc\n",
    "```\n",
    "### In this case `'file_type': 'f'` yeilds the correct result"
   ]
  },
  {
   "cell_type": "code",
   "execution_count": 8,
   "id": "dfa31c87-4dc0-4d01-870e-67e309329d98",
   "metadata": {},
   "outputs": [
    {
     "data": {
      "text/html": [
       "<p><strong>cmip6-fs38 catalog with 3 dataset(s) from 6 asset(s)</strong>:</p> <div>\n",
       "<style scoped>\n",
       "    .dataframe tbody tr th:only-of-type {\n",
       "        vertical-align: middle;\n",
       "    }\n",
       "\n",
       "    .dataframe tbody tr th {\n",
       "        vertical-align: top;\n",
       "    }\n",
       "\n",
       "    .dataframe thead th {\n",
       "        text-align: right;\n",
       "    }\n",
       "</style>\n",
       "<table border=\"1\" class=\"dataframe\">\n",
       "  <thead>\n",
       "    <tr style=\"text-align: right;\">\n",
       "      <th></th>\n",
       "      <th>unique</th>\n",
       "    </tr>\n",
       "  </thead>\n",
       "  <tbody>\n",
       "    <tr>\n",
       "      <th>path</th>\n",
       "      <td>6</td>\n",
       "    </tr>\n",
       "    <tr>\n",
       "      <th>file_type</th>\n",
       "      <td>1</td>\n",
       "    </tr>\n",
       "    <tr>\n",
       "      <th>realm</th>\n",
       "      <td>1</td>\n",
       "    </tr>\n",
       "    <tr>\n",
       "      <th>frequency</th>\n",
       "      <td>1</td>\n",
       "    </tr>\n",
       "    <tr>\n",
       "      <th>table_id</th>\n",
       "      <td>1</td>\n",
       "    </tr>\n",
       "    <tr>\n",
       "      <th>project_id</th>\n",
       "      <td>1</td>\n",
       "    </tr>\n",
       "    <tr>\n",
       "      <th>institution_id</th>\n",
       "      <td>1</td>\n",
       "    </tr>\n",
       "    <tr>\n",
       "      <th>source_id</th>\n",
       "      <td>1</td>\n",
       "    </tr>\n",
       "    <tr>\n",
       "      <th>experiment_id</th>\n",
       "      <td>1</td>\n",
       "    </tr>\n",
       "    <tr>\n",
       "      <th>member_id</th>\n",
       "      <td>1</td>\n",
       "    </tr>\n",
       "    <tr>\n",
       "      <th>variable_id</th>\n",
       "      <td>1</td>\n",
       "    </tr>\n",
       "    <tr>\n",
       "      <th>grid_label</th>\n",
       "      <td>1</td>\n",
       "    </tr>\n",
       "    <tr>\n",
       "      <th>version</th>\n",
       "      <td>3</td>\n",
       "    </tr>\n",
       "    <tr>\n",
       "      <th>time_range</th>\n",
       "      <td>3</td>\n",
       "    </tr>\n",
       "    <tr>\n",
       "      <th>derived_variable_id</th>\n",
       "      <td>0</td>\n",
       "    </tr>\n",
       "  </tbody>\n",
       "</table>\n",
       "</div>"
      ],
      "text/plain": [
       "<IPython.core.display.HTML object>"
      ]
     },
     "metadata": {},
     "output_type": "display_data"
    }
   ],
   "source": [
    "cmip6_fs38_datastore = nri_catalog.search(name='cmip6_fs38').to_source()\n",
    "search_dict = {'experiment_id': ['piControl'],\n",
    "      'source_id': 'ACCESS-ESM1-5',\n",
    "      'variable_id': ['intpp'],\n",
    "      'frequency': 'mon',\n",
    "      'file_type': 'l'}\n",
    "piControl_intpp_catalog_l = cmip6_fs38_datastore.search(**search_dict)\n",
    "piControl_intpp_catalog_l"
   ]
  },
  {
   "cell_type": "code",
   "execution_count": 9,
   "id": "97dd2c76-0363-4aee-9107-869f0e9b2b92",
   "metadata": {},
   "outputs": [
    {
     "data": {
      "text/plain": [
       "['/g/data/fs38/publications/CMIP6/CMIP/CSIRO/ACCESS-ESM1-5/piControl/r1i1p1f1/Omon/intpp/gn/v20210316/intpp_Omon_ACCESS-ESM1-5_piControl_r1i1p1f1_gn_100101-110012.nc',\n",
       " '/g/data/fs38/publications/CMIP6/CMIP/CSIRO/ACCESS-ESM1-5/piControl/r1i1p1f1/Omon/intpp/gn/v20191214/intpp_Omon_ACCESS-ESM1-5_piControl_r1i1p1f1_gn_060101-100012.nc',\n",
       " '/g/data/fs38/publications/CMIP6/CMIP/CSIRO/ACCESS-ESM1-5/piControl/r1i1p1f1/Omon/intpp/gn/v20210316/intpp_Omon_ACCESS-ESM1-5_piControl_r1i1p1f1_gn_060101-100012.nc',\n",
       " '/g/data/fs38/publications/CMIP6/CMIP/CSIRO/ACCESS-ESM1-5/piControl/r1i1p1f1/Omon/intpp/gn/v20191214/intpp_Omon_ACCESS-ESM1-5_piControl_r1i1p1f1_gn_010101-060012.nc',\n",
       " '/g/data/fs38/publications/CMIP6/CMIP/CSIRO/ACCESS-ESM1-5/piControl/r1i1p1f1/Omon/intpp/gn/v20191112/intpp_Omon_ACCESS-ESM1-5_piControl_r1i1p1f1_gn_010101-060012.nc',\n",
       " '/g/data/fs38/publications/CMIP6/CMIP/CSIRO/ACCESS-ESM1-5/piControl/r1i1p1f1/Omon/intpp/gn/v20210316/intpp_Omon_ACCESS-ESM1-5_piControl_r1i1p1f1_gn_010101-060012.nc']"
      ]
     },
     "execution_count": 9,
     "metadata": {},
     "output_type": "execute_result"
    }
   ],
   "source": [
    "piControl_intpp_catalog_l.unique().path"
   ]
  },
  {
   "cell_type": "markdown",
   "id": "3a9f97ce-5c89-46a6-95df-f4d7a1b391b0",
   "metadata": {},
   "source": [
    "## In this case `l` yields multiple file versions for the `010101-060012` and `060101-100012` timeframes"
   ]
  },
  {
   "cell_type": "markdown",
   "id": "f8206539-a1e1-495d-8e51-1ebc97feca05",
   "metadata": {},
   "source": [
    "# Try `pr` variable in `historical`"
   ]
  },
  {
   "cell_type": "code",
   "execution_count": 10,
   "id": "f0b05e40-c648-42d2-b3cd-40699583a469",
   "metadata": {},
   "outputs": [
    {
     "data": {
      "text/html": [
       "<p><strong>cmip6-fs38 catalog with 40 dataset(s) from 40 asset(s)</strong>:</p> <div>\n",
       "<style scoped>\n",
       "    .dataframe tbody tr th:only-of-type {\n",
       "        vertical-align: middle;\n",
       "    }\n",
       "\n",
       "    .dataframe tbody tr th {\n",
       "        vertical-align: top;\n",
       "    }\n",
       "\n",
       "    .dataframe thead th {\n",
       "        text-align: right;\n",
       "    }\n",
       "</style>\n",
       "<table border=\"1\" class=\"dataframe\">\n",
       "  <thead>\n",
       "    <tr style=\"text-align: right;\">\n",
       "      <th></th>\n",
       "      <th>unique</th>\n",
       "    </tr>\n",
       "  </thead>\n",
       "  <tbody>\n",
       "    <tr>\n",
       "      <th>path</th>\n",
       "      <td>40</td>\n",
       "    </tr>\n",
       "    <tr>\n",
       "      <th>file_type</th>\n",
       "      <td>1</td>\n",
       "    </tr>\n",
       "    <tr>\n",
       "      <th>realm</th>\n",
       "      <td>1</td>\n",
       "    </tr>\n",
       "    <tr>\n",
       "      <th>frequency</th>\n",
       "      <td>1</td>\n",
       "    </tr>\n",
       "    <tr>\n",
       "      <th>table_id</th>\n",
       "      <td>1</td>\n",
       "    </tr>\n",
       "    <tr>\n",
       "      <th>project_id</th>\n",
       "      <td>1</td>\n",
       "    </tr>\n",
       "    <tr>\n",
       "      <th>institution_id</th>\n",
       "      <td>1</td>\n",
       "    </tr>\n",
       "    <tr>\n",
       "      <th>source_id</th>\n",
       "      <td>1</td>\n",
       "    </tr>\n",
       "    <tr>\n",
       "      <th>experiment_id</th>\n",
       "      <td>1</td>\n",
       "    </tr>\n",
       "    <tr>\n",
       "      <th>member_id</th>\n",
       "      <td>40</td>\n",
       "    </tr>\n",
       "    <tr>\n",
       "      <th>variable_id</th>\n",
       "      <td>1</td>\n",
       "    </tr>\n",
       "    <tr>\n",
       "      <th>grid_label</th>\n",
       "      <td>1</td>\n",
       "    </tr>\n",
       "    <tr>\n",
       "      <th>version</th>\n",
       "      <td>9</td>\n",
       "    </tr>\n",
       "    <tr>\n",
       "      <th>time_range</th>\n",
       "      <td>1</td>\n",
       "    </tr>\n",
       "    <tr>\n",
       "      <th>derived_variable_id</th>\n",
       "      <td>0</td>\n",
       "    </tr>\n",
       "  </tbody>\n",
       "</table>\n",
       "</div>"
      ],
      "text/plain": [
       "<IPython.core.display.HTML object>"
      ]
     },
     "metadata": {},
     "output_type": "display_data"
    }
   ],
   "source": [
    "cmip6_fs38_datastore = nri_catalog.search(name='cmip6_fs38').to_source()\n",
    "search_dict = {'experiment_id': ['historical'],\n",
    "      'source_id': 'ACCESS-ESM1-5',\n",
    "      'variable_id': ['pr'],\n",
    "      'frequency': 'mon',\n",
    "      'file_type': 'l'}\n",
    "historical_pr_catalog_l = cmip6_fs38_datastore.search(**search_dict)\n",
    "historical_pr_catalog_l"
   ]
  },
  {
   "cell_type": "markdown",
   "id": "a4032ca9-ad75-49eb-a87a-06cd0ef87cf7",
   "metadata": {},
   "source": [
    "# In this case above (`pr` & `historical` & `l`) 40 paths (for 40 members) are returned"
   ]
  },
  {
   "cell_type": "code",
   "execution_count": 11,
   "id": "cec2e360-ce4b-4b2e-b466-b2211e3525c7",
   "metadata": {},
   "outputs": [
    {
     "data": {
      "text/html": [
       "<p><strong>cmip6-fs38 catalog with 40 dataset(s) from 40 asset(s)</strong>:</p> <div>\n",
       "<style scoped>\n",
       "    .dataframe tbody tr th:only-of-type {\n",
       "        vertical-align: middle;\n",
       "    }\n",
       "\n",
       "    .dataframe tbody tr th {\n",
       "        vertical-align: top;\n",
       "    }\n",
       "\n",
       "    .dataframe thead th {\n",
       "        text-align: right;\n",
       "    }\n",
       "</style>\n",
       "<table border=\"1\" class=\"dataframe\">\n",
       "  <thead>\n",
       "    <tr style=\"text-align: right;\">\n",
       "      <th></th>\n",
       "      <th>unique</th>\n",
       "    </tr>\n",
       "  </thead>\n",
       "  <tbody>\n",
       "    <tr>\n",
       "      <th>path</th>\n",
       "      <td>40</td>\n",
       "    </tr>\n",
       "    <tr>\n",
       "      <th>file_type</th>\n",
       "      <td>1</td>\n",
       "    </tr>\n",
       "    <tr>\n",
       "      <th>realm</th>\n",
       "      <td>1</td>\n",
       "    </tr>\n",
       "    <tr>\n",
       "      <th>frequency</th>\n",
       "      <td>1</td>\n",
       "    </tr>\n",
       "    <tr>\n",
       "      <th>table_id</th>\n",
       "      <td>1</td>\n",
       "    </tr>\n",
       "    <tr>\n",
       "      <th>project_id</th>\n",
       "      <td>1</td>\n",
       "    </tr>\n",
       "    <tr>\n",
       "      <th>institution_id</th>\n",
       "      <td>1</td>\n",
       "    </tr>\n",
       "    <tr>\n",
       "      <th>source_id</th>\n",
       "      <td>1</td>\n",
       "    </tr>\n",
       "    <tr>\n",
       "      <th>experiment_id</th>\n",
       "      <td>1</td>\n",
       "    </tr>\n",
       "    <tr>\n",
       "      <th>member_id</th>\n",
       "      <td>40</td>\n",
       "    </tr>\n",
       "    <tr>\n",
       "      <th>variable_id</th>\n",
       "      <td>1</td>\n",
       "    </tr>\n",
       "    <tr>\n",
       "      <th>grid_label</th>\n",
       "      <td>1</td>\n",
       "    </tr>\n",
       "    <tr>\n",
       "      <th>version</th>\n",
       "      <td>9</td>\n",
       "    </tr>\n",
       "    <tr>\n",
       "      <th>time_range</th>\n",
       "      <td>1</td>\n",
       "    </tr>\n",
       "    <tr>\n",
       "      <th>derived_variable_id</th>\n",
       "      <td>0</td>\n",
       "    </tr>\n",
       "  </tbody>\n",
       "</table>\n",
       "</div>"
      ],
      "text/plain": [
       "<IPython.core.display.HTML object>"
      ]
     },
     "metadata": {},
     "output_type": "display_data"
    }
   ],
   "source": [
    "cmip6_fs38_datastore = nri_catalog.search(name='cmip6_fs38').to_source()\n",
    "search_dict = {'experiment_id': ['historical'],\n",
    "      'source_id': 'ACCESS-ESM1-5',\n",
    "      'variable_id': ['pr'],\n",
    "      'frequency': 'mon',\n",
    "      'file_type': 'f'}\n",
    "historical_pr_catalog_f = cmip6_fs38_datastore.search(**search_dict)\n",
    "historical_pr_catalog_f"
   ]
  },
  {
   "cell_type": "markdown",
   "id": "d6c25d2e-fae0-4e4c-82ac-b27fcd762fe5",
   "metadata": {},
   "source": [
    "# In this case above (`pr` & `historical` & `f`) 40 paths (for 40 members) are returned"
   ]
  },
  {
   "cell_type": "markdown",
   "id": "08d06b3a-03f4-4c0b-904e-c03b8d2f0e43",
   "metadata": {},
   "source": [
    "# Are these two path lists the same?"
   ]
  },
  {
   "cell_type": "code",
   "execution_count": 12,
   "id": "710264a2-5737-477b-8e47-e15ccda12f22",
   "metadata": {},
   "outputs": [],
   "source": [
    "path_list_f = historical_pr_catalog_f.unique().path\n",
    "path_list_l = historical_pr_catalog_l.unique().path"
   ]
  },
  {
   "cell_type": "code",
   "execution_count": 13,
   "id": "8e2a9cda-b142-4a59-ac82-61906583e81e",
   "metadata": {},
   "outputs": [
    {
     "name": "stdout",
     "output_type": "stream",
     "text": [
      "The path lists are not equal\n"
     ]
    }
   ],
   "source": [
    "if path_list_l == path_list_f:\n",
    "    print(\"The path lists are exactly equal\")\n",
    "else:\n",
    "    print(\"The path lists are not equal\")"
   ]
  },
  {
   "cell_type": "markdown",
   "id": "c3040185-f79a-4274-8198-de7a1f878648",
   "metadata": {},
   "source": [
    "### is this just a sorting issue? YES it is."
   ]
  },
  {
   "cell_type": "code",
   "execution_count": 14,
   "id": "7a5ddedd-7645-41e8-a8fd-eccdee95bdb9",
   "metadata": {},
   "outputs": [
    {
     "name": "stdout",
     "output_type": "stream",
     "text": [
      "The path lists are exactly equal\n"
     ]
    }
   ],
   "source": [
    "if path_list_l.sort() == path_list_f.sort():\n",
    "    print(\"The path lists are exactly equal\")\n",
    "else:\n",
    "    print(\"The path lists are not equal\")"
   ]
  },
  {
   "cell_type": "markdown",
   "id": "c30db498-3c61-4920-a42f-b2561243379f",
   "metadata": {},
   "source": [
    "# CLEX example\n",
    "https://github.com/coecms/nci-intake-catalogue/blob/main/docs/intake_cmip6_demo.ipynb"
   ]
  },
  {
   "cell_type": "code",
   "execution_count": 15,
   "id": "8d01aada-cdd6-4c17-bbcc-4f7faa382e19",
   "metadata": {},
   "outputs": [
    {
     "data": {
      "text/plain": [
       "['era5', 'era5_land', 'ecmwf', 'esgf', 'cosima', 'erai']"
      ]
     },
     "execution_count": 15,
     "metadata": {},
     "output_type": "execute_result"
    }
   ],
   "source": [
    "cat = intake.cat.nci\n",
    "list(cat)"
   ]
  },
  {
   "cell_type": "code",
   "execution_count": 17,
   "id": "16c8cda1-5134-4b94-b485-bc2b2e6c5e27",
   "metadata": {},
   "outputs": [
    {
     "data": {
      "text/html": [
       "<div>\n",
       "<style scoped>\n",
       "    .dataframe tbody tr th:only-of-type {\n",
       "        vertical-align: middle;\n",
       "    }\n",
       "\n",
       "    .dataframe tbody tr th {\n",
       "        vertical-align: top;\n",
       "    }\n",
       "\n",
       "    .dataframe thead th {\n",
       "        text-align: right;\n",
       "    }\n",
       "</style>\n",
       "<table border=\"1\" class=\"dataframe\">\n",
       "  <thead>\n",
       "    <tr style=\"text-align: right;\">\n",
       "      <th></th>\n",
       "      <th>project</th>\n",
       "      <th>activity_id</th>\n",
       "      <th>institution_id</th>\n",
       "      <th>source_id</th>\n",
       "      <th>experiment_id</th>\n",
       "      <th>member_id</th>\n",
       "      <th>table_id</th>\n",
       "      <th>variable_id</th>\n",
       "      <th>grid_label</th>\n",
       "      <th>date_range</th>\n",
       "      <th>path</th>\n",
       "      <th>version</th>\n",
       "    </tr>\n",
       "  </thead>\n",
       "  <tbody>\n",
       "    <tr>\n",
       "      <th>0</th>\n",
       "      <td>CMIP6</td>\n",
       "      <td>AerChemMIP</td>\n",
       "      <td>BCC</td>\n",
       "      <td>BCC-ESM1</td>\n",
       "      <td>histSST</td>\n",
       "      <td>r1i1p1f1</td>\n",
       "      <td>AERmon</td>\n",
       "      <td>o3</td>\n",
       "      <td>gn</td>\n",
       "      <td>185001-201412</td>\n",
       "      <td>/g/data/oi10/replicas/CMIP6/AerChemMIP/BCC/BCC-ESM1/histSST/r1i1p1f1/AERmon/o3/gn/v20190718/o3_AERmon_BCC-ESM1_histSST_r1i1p1f1_gn_185001-201412.nc</td>\n",
       "      <td>v20190718</td>\n",
       "    </tr>\n",
       "    <tr>\n",
       "      <th>1</th>\n",
       "      <td>CMIP6</td>\n",
       "      <td>AerChemMIP</td>\n",
       "      <td>BCC</td>\n",
       "      <td>BCC-ESM1</td>\n",
       "      <td>ssp370</td>\n",
       "      <td>r1i1p1f1</td>\n",
       "      <td>AERmon</td>\n",
       "      <td>ch4</td>\n",
       "      <td>gn</td>\n",
       "      <td>201501-205512</td>\n",
       "      <td>/g/data/oi10/replicas/CMIP6/AerChemMIP/BCC/BCC-ESM1/ssp370/r1i1p1f1/AERmon/ch4/gn/v20190718/ch4_AERmon_BCC-ESM1_ssp370_r1i1p1f1_gn_201501-205512.nc</td>\n",
       "      <td>v20190718</td>\n",
       "    </tr>\n",
       "    <tr>\n",
       "      <th>2</th>\n",
       "      <td>CMIP6</td>\n",
       "      <td>AerChemMIP</td>\n",
       "      <td>BCC</td>\n",
       "      <td>BCC-ESM1</td>\n",
       "      <td>ssp370</td>\n",
       "      <td>r1i1p1f1</td>\n",
       "      <td>AERmon</td>\n",
       "      <td>lossch4</td>\n",
       "      <td>gn</td>\n",
       "      <td>201501-205512</td>\n",
       "      <td>/g/data/oi10/replicas/CMIP6/AerChemMIP/BCC/BCC-ESM1/ssp370/r1i1p1f1/AERmon/lossch4/gn/v20190718/lossch4_AERmon_BCC-ESM1_ssp370_r1i1p1f1_gn_201501-205512.nc</td>\n",
       "      <td>v20190718</td>\n",
       "    </tr>\n",
       "    <tr>\n",
       "      <th>3</th>\n",
       "      <td>CMIP6</td>\n",
       "      <td>AerChemMIP</td>\n",
       "      <td>BCC</td>\n",
       "      <td>BCC-ESM1</td>\n",
       "      <td>ssp370</td>\n",
       "      <td>r1i1p1f1</td>\n",
       "      <td>AERmon</td>\n",
       "      <td>oh</td>\n",
       "      <td>gn</td>\n",
       "      <td>201501-205512</td>\n",
       "      <td>/g/data/oi10/replicas/CMIP6/AerChemMIP/BCC/BCC-ESM1/ssp370/r1i1p1f1/AERmon/oh/gn/v20190718/oh_AERmon_BCC-ESM1_ssp370_r1i1p1f1_gn_201501-205512.nc</td>\n",
       "      <td>v20190718</td>\n",
       "    </tr>\n",
       "    <tr>\n",
       "      <th>4</th>\n",
       "      <td>CMIP6</td>\n",
       "      <td>AerChemMIP</td>\n",
       "      <td>BCC</td>\n",
       "      <td>BCC-ESM1</td>\n",
       "      <td>ssp370</td>\n",
       "      <td>r1i1p1f1</td>\n",
       "      <td>Amon</td>\n",
       "      <td>fco2nat</td>\n",
       "      <td>gn</td>\n",
       "      <td>201501-205512</td>\n",
       "      <td>/g/data/oi10/replicas/CMIP6/AerChemMIP/BCC/BCC-ESM1/ssp370/r1i1p1f1/Amon/fco2nat/gn/v20190624/fco2nat_Amon_BCC-ESM1_ssp370_r1i1p1f1_gn_201501-205512.nc</td>\n",
       "      <td>v20190624</td>\n",
       "    </tr>\n",
       "  </tbody>\n",
       "</table>\n",
       "</div>"
      ],
      "text/plain": [
       "  project activity_id institution_id source_id experiment_id member_id  \\\n",
       "0   CMIP6  AerChemMIP            BCC  BCC-ESM1       histSST  r1i1p1f1   \n",
       "1   CMIP6  AerChemMIP            BCC  BCC-ESM1        ssp370  r1i1p1f1   \n",
       "2   CMIP6  AerChemMIP            BCC  BCC-ESM1        ssp370  r1i1p1f1   \n",
       "3   CMIP6  AerChemMIP            BCC  BCC-ESM1        ssp370  r1i1p1f1   \n",
       "4   CMIP6  AerChemMIP            BCC  BCC-ESM1        ssp370  r1i1p1f1   \n",
       "\n",
       "  table_id variable_id grid_label     date_range  \\\n",
       "0   AERmon          o3         gn  185001-201412   \n",
       "1   AERmon         ch4         gn  201501-205512   \n",
       "2   AERmon     lossch4         gn  201501-205512   \n",
       "3   AERmon          oh         gn  201501-205512   \n",
       "4     Amon     fco2nat         gn  201501-205512   \n",
       "\n",
       "                                                                                                                                                          path  \\\n",
       "0          /g/data/oi10/replicas/CMIP6/AerChemMIP/BCC/BCC-ESM1/histSST/r1i1p1f1/AERmon/o3/gn/v20190718/o3_AERmon_BCC-ESM1_histSST_r1i1p1f1_gn_185001-201412.nc   \n",
       "1          /g/data/oi10/replicas/CMIP6/AerChemMIP/BCC/BCC-ESM1/ssp370/r1i1p1f1/AERmon/ch4/gn/v20190718/ch4_AERmon_BCC-ESM1_ssp370_r1i1p1f1_gn_201501-205512.nc   \n",
       "2  /g/data/oi10/replicas/CMIP6/AerChemMIP/BCC/BCC-ESM1/ssp370/r1i1p1f1/AERmon/lossch4/gn/v20190718/lossch4_AERmon_BCC-ESM1_ssp370_r1i1p1f1_gn_201501-205512.nc   \n",
       "3            /g/data/oi10/replicas/CMIP6/AerChemMIP/BCC/BCC-ESM1/ssp370/r1i1p1f1/AERmon/oh/gn/v20190718/oh_AERmon_BCC-ESM1_ssp370_r1i1p1f1_gn_201501-205512.nc   \n",
       "4      /g/data/oi10/replicas/CMIP6/AerChemMIP/BCC/BCC-ESM1/ssp370/r1i1p1f1/Amon/fco2nat/gn/v20190624/fco2nat_Amon_BCC-ESM1_ssp370_r1i1p1f1_gn_201501-205512.nc   \n",
       "\n",
       "     version  \n",
       "0  v20190718  \n",
       "1  v20190718  \n",
       "2  v20190718  \n",
       "3  v20190718  \n",
       "4  v20190624  "
      ]
     },
     "execution_count": 17,
     "metadata": {},
     "output_type": "execute_result"
    }
   ],
   "source": [
    "cmip6 = cat['esgf'].cmip6\n",
    "cmip6.df.head()"
   ]
  },
  {
   "cell_type": "code",
   "execution_count": 19,
   "id": "2e035244-af53-4003-8d04-95261e5e56d4",
   "metadata": {},
   "outputs": [
    {
     "data": {
      "text/plain": [
       "\"CMIP6 (Latest Versions)\\n\\nDatasets on Gadi, both publised and replicated. Only the latest available file versions are in the listing, see catalogue 'cmip6_all' for all available versions\\n\\nCatalogue columns match those used by ESGF search (esgf.nci.org.au). intake-esm dict keys are in the form '{esgf instance_id}'.\\n\\nProject: oi10, fs38\\nMaintained By: NCI\\nContact: help@nci.org.au\\nReferences:\\n    - https://pcmdi.llnl.gov/CMIP6/\\n\""
      ]
     },
     "execution_count": 19,
     "metadata": {},
     "output_type": "execute_result"
    }
   ],
   "source": [
    "cmip6.description"
   ]
  },
  {
   "cell_type": "code",
   "execution_count": 29,
   "id": "b5870871-f245-4cb3-b5ea-28f6a3e320eb",
   "metadata": {},
   "outputs": [
    {
     "data": {
      "text/html": [
       "<p><strong>cmip6 catalog with 1 dataset(s) from 3 asset(s)</strong>:</p> <div>\n",
       "<style scoped>\n",
       "    .dataframe tbody tr th:only-of-type {\n",
       "        vertical-align: middle;\n",
       "    }\n",
       "\n",
       "    .dataframe tbody tr th {\n",
       "        vertical-align: top;\n",
       "    }\n",
       "\n",
       "    .dataframe thead th {\n",
       "        text-align: right;\n",
       "    }\n",
       "</style>\n",
       "<table border=\"1\" class=\"dataframe\">\n",
       "  <thead>\n",
       "    <tr style=\"text-align: right;\">\n",
       "      <th></th>\n",
       "      <th>unique</th>\n",
       "    </tr>\n",
       "  </thead>\n",
       "  <tbody>\n",
       "    <tr>\n",
       "      <th>project</th>\n",
       "      <td>1</td>\n",
       "    </tr>\n",
       "    <tr>\n",
       "      <th>activity_id</th>\n",
       "      <td>1</td>\n",
       "    </tr>\n",
       "    <tr>\n",
       "      <th>institution_id</th>\n",
       "      <td>1</td>\n",
       "    </tr>\n",
       "    <tr>\n",
       "      <th>source_id</th>\n",
       "      <td>1</td>\n",
       "    </tr>\n",
       "    <tr>\n",
       "      <th>experiment_id</th>\n",
       "      <td>1</td>\n",
       "    </tr>\n",
       "    <tr>\n",
       "      <th>member_id</th>\n",
       "      <td>1</td>\n",
       "    </tr>\n",
       "    <tr>\n",
       "      <th>table_id</th>\n",
       "      <td>1</td>\n",
       "    </tr>\n",
       "    <tr>\n",
       "      <th>variable_id</th>\n",
       "      <td>1</td>\n",
       "    </tr>\n",
       "    <tr>\n",
       "      <th>grid_label</th>\n",
       "      <td>1</td>\n",
       "    </tr>\n",
       "    <tr>\n",
       "      <th>date_range</th>\n",
       "      <td>3</td>\n",
       "    </tr>\n",
       "    <tr>\n",
       "      <th>path</th>\n",
       "      <td>3</td>\n",
       "    </tr>\n",
       "    <tr>\n",
       "      <th>version</th>\n",
       "      <td>1</td>\n",
       "    </tr>\n",
       "    <tr>\n",
       "      <th>derived_variable_id</th>\n",
       "      <td>0</td>\n",
       "    </tr>\n",
       "  </tbody>\n",
       "</table>\n",
       "</div>"
      ],
      "text/plain": [
       "<IPython.core.display.HTML object>"
      ]
     },
     "metadata": {},
     "output_type": "display_data"
    }
   ],
   "source": [
    "search_dict = {'experiment_id': ['piControl'],\n",
    "      'source_id': 'ACCESS-ESM1-5',\n",
    "      'variable_id': ['intpp']}\n",
    "piControl_intpp_catalog_clex = cmip6.search(**search_dict)\n",
    "piControl_intpp_catalog_clex"
   ]
  },
  {
   "cell_type": "code",
   "execution_count": 30,
   "id": "025ace6b-c6d5-4fde-ae13-af36c5be6ad4",
   "metadata": {},
   "outputs": [
    {
     "data": {
      "text/plain": [
       "['/g/data/fs38/publications/CMIP6/CMIP/CSIRO/ACCESS-ESM1-5/piControl/r1i1p1f1/Omon/intpp/gn/v20210316/intpp_Omon_ACCESS-ESM1-5_piControl_r1i1p1f1_gn_010101-060012.nc',\n",
       " '/g/data/fs38/publications/CMIP6/CMIP/CSIRO/ACCESS-ESM1-5/piControl/r1i1p1f1/Omon/intpp/gn/v20210316/intpp_Omon_ACCESS-ESM1-5_piControl_r1i1p1f1_gn_060101-100012.nc',\n",
       " '/g/data/fs38/publications/CMIP6/CMIP/CSIRO/ACCESS-ESM1-5/piControl/r1i1p1f1/Omon/intpp/gn/v20210316/intpp_Omon_ACCESS-ESM1-5_piControl_r1i1p1f1_gn_100101-110012.nc']"
      ]
     },
     "execution_count": 30,
     "metadata": {},
     "output_type": "execute_result"
    }
   ],
   "source": [
    "piControl_intpp_catalog_clex.unique()['path']"
   ]
  },
  {
   "cell_type": "code",
   "execution_count": 31,
   "id": "c23fe121-d66f-445e-8031-141de82f2c7e",
   "metadata": {},
   "outputs": [
    {
     "data": {
      "text/html": [
       "<p><strong>cmip6 catalog with 40 dataset(s) from 40 asset(s)</strong>:</p> <div>\n",
       "<style scoped>\n",
       "    .dataframe tbody tr th:only-of-type {\n",
       "        vertical-align: middle;\n",
       "    }\n",
       "\n",
       "    .dataframe tbody tr th {\n",
       "        vertical-align: top;\n",
       "    }\n",
       "\n",
       "    .dataframe thead th {\n",
       "        text-align: right;\n",
       "    }\n",
       "</style>\n",
       "<table border=\"1\" class=\"dataframe\">\n",
       "  <thead>\n",
       "    <tr style=\"text-align: right;\">\n",
       "      <th></th>\n",
       "      <th>unique</th>\n",
       "    </tr>\n",
       "  </thead>\n",
       "  <tbody>\n",
       "    <tr>\n",
       "      <th>project</th>\n",
       "      <td>1</td>\n",
       "    </tr>\n",
       "    <tr>\n",
       "      <th>activity_id</th>\n",
       "      <td>1</td>\n",
       "    </tr>\n",
       "    <tr>\n",
       "      <th>institution_id</th>\n",
       "      <td>1</td>\n",
       "    </tr>\n",
       "    <tr>\n",
       "      <th>source_id</th>\n",
       "      <td>1</td>\n",
       "    </tr>\n",
       "    <tr>\n",
       "      <th>experiment_id</th>\n",
       "      <td>1</td>\n",
       "    </tr>\n",
       "    <tr>\n",
       "      <th>member_id</th>\n",
       "      <td>40</td>\n",
       "    </tr>\n",
       "    <tr>\n",
       "      <th>table_id</th>\n",
       "      <td>1</td>\n",
       "    </tr>\n",
       "    <tr>\n",
       "      <th>variable_id</th>\n",
       "      <td>1</td>\n",
       "    </tr>\n",
       "    <tr>\n",
       "      <th>grid_label</th>\n",
       "      <td>1</td>\n",
       "    </tr>\n",
       "    <tr>\n",
       "      <th>date_range</th>\n",
       "      <td>1</td>\n",
       "    </tr>\n",
       "    <tr>\n",
       "      <th>path</th>\n",
       "      <td>40</td>\n",
       "    </tr>\n",
       "    <tr>\n",
       "      <th>version</th>\n",
       "      <td>9</td>\n",
       "    </tr>\n",
       "    <tr>\n",
       "      <th>derived_variable_id</th>\n",
       "      <td>0</td>\n",
       "    </tr>\n",
       "  </tbody>\n",
       "</table>\n",
       "</div>"
      ],
      "text/plain": [
       "<IPython.core.display.HTML object>"
      ]
     },
     "metadata": {},
     "output_type": "display_data"
    }
   ],
   "source": [
    "search_dict = {'experiment_id': ['historical'],\n",
    "      'source_id': 'ACCESS-ESM1-5',\n",
    "      'variable_id': ['intpp']}\n",
    "historical_intpp_catalog_clex = cmip6.search(**search_dict)\n",
    "historical_intpp_catalog_clex"
   ]
  },
  {
   "cell_type": "code",
   "execution_count": 32,
   "id": "067d5869-bd2a-4a89-bbfd-9200de814f36",
   "metadata": {},
   "outputs": [
    {
     "data": {
      "text/plain": [
       "['/g/data/fs38/publications/CMIP6/CMIP/CSIRO/ACCESS-ESM1-5/historical/r10i1p1f1/Omon/intpp/gn/v20200605/intpp_Omon_ACCESS-ESM1-5_historical_r10i1p1f1_gn_185001-201412.nc',\n",
       " '/g/data/fs38/publications/CMIP6/CMIP/CSIRO/ACCESS-ESM1-5/historical/r11i1p1f1/Omon/intpp/gn/v20200803/intpp_Omon_ACCESS-ESM1-5_historical_r11i1p1f1_gn_185001-201412.nc',\n",
       " '/g/data/fs38/publications/CMIP6/CMIP/CSIRO/ACCESS-ESM1-5/historical/r12i1p1f1/Omon/intpp/gn/v20200803/intpp_Omon_ACCESS-ESM1-5_historical_r12i1p1f1_gn_185001-201412.nc',\n",
       " '/g/data/fs38/publications/CMIP6/CMIP/CSIRO/ACCESS-ESM1-5/historical/r13i1p1f1/Omon/intpp/gn/v20200803/intpp_Omon_ACCESS-ESM1-5_historical_r13i1p1f1_gn_185001-201412.nc',\n",
       " '/g/data/fs38/publications/CMIP6/CMIP/CSIRO/ACCESS-ESM1-5/historical/r14i1p1f1/Omon/intpp/gn/v20200803/intpp_Omon_ACCESS-ESM1-5_historical_r14i1p1f1_gn_185001-201412.nc',\n",
       " '/g/data/fs38/publications/CMIP6/CMIP/CSIRO/ACCESS-ESM1-5/historical/r15i1p1f1/Omon/intpp/gn/v20200803/intpp_Omon_ACCESS-ESM1-5_historical_r15i1p1f1_gn_185001-201412.nc',\n",
       " '/g/data/fs38/publications/CMIP6/CMIP/CSIRO/ACCESS-ESM1-5/historical/r16i1p1f1/Omon/intpp/gn/v20200803/intpp_Omon_ACCESS-ESM1-5_historical_r16i1p1f1_gn_185001-201412.nc',\n",
       " '/g/data/fs38/publications/CMIP6/CMIP/CSIRO/ACCESS-ESM1-5/historical/r17i1p1f1/Omon/intpp/gn/v20200803/intpp_Omon_ACCESS-ESM1-5_historical_r17i1p1f1_gn_185001-201412.nc',\n",
       " '/g/data/fs38/publications/CMIP6/CMIP/CSIRO/ACCESS-ESM1-5/historical/r18i1p1f1/Omon/intpp/gn/v20200803/intpp_Omon_ACCESS-ESM1-5_historical_r18i1p1f1_gn_185001-201412.nc',\n",
       " '/g/data/fs38/publications/CMIP6/CMIP/CSIRO/ACCESS-ESM1-5/historical/r19i1p1f1/Omon/intpp/gn/v20200803/intpp_Omon_ACCESS-ESM1-5_historical_r19i1p1f1_gn_185001-201412.nc',\n",
       " '/g/data/fs38/publications/CMIP6/CMIP/CSIRO/ACCESS-ESM1-5/historical/r1i1p1f1/Omon/intpp/gn/v20191115/intpp_Omon_ACCESS-ESM1-5_historical_r1i1p1f1_gn_185001-201412.nc',\n",
       " '/g/data/fs38/publications/CMIP6/CMIP/CSIRO/ACCESS-ESM1-5/historical/r20i1p1f1/Omon/intpp/gn/v20200803/intpp_Omon_ACCESS-ESM1-5_historical_r20i1p1f1_gn_185001-201412.nc',\n",
       " '/g/data/fs38/publications/CMIP6/CMIP/CSIRO/ACCESS-ESM1-5/historical/r21i1p1f1/Omon/intpp/gn/v20200922/intpp_Omon_ACCESS-ESM1-5_historical_r21i1p1f1_gn_185001-201412.nc',\n",
       " '/g/data/fs38/publications/CMIP6/CMIP/CSIRO/ACCESS-ESM1-5/historical/r22i1p1f1/Omon/intpp/gn/v20200922/intpp_Omon_ACCESS-ESM1-5_historical_r22i1p1f1_gn_185001-201412.nc',\n",
       " '/g/data/fs38/publications/CMIP6/CMIP/CSIRO/ACCESS-ESM1-5/historical/r23i1p1f1/Omon/intpp/gn/v20200922/intpp_Omon_ACCESS-ESM1-5_historical_r23i1p1f1_gn_185001-201412.nc',\n",
       " '/g/data/fs38/publications/CMIP6/CMIP/CSIRO/ACCESS-ESM1-5/historical/r24i1p1f1/Omon/intpp/gn/v20200922/intpp_Omon_ACCESS-ESM1-5_historical_r24i1p1f1_gn_185001-201412.nc',\n",
       " '/g/data/fs38/publications/CMIP6/CMIP/CSIRO/ACCESS-ESM1-5/historical/r25i1p1f1/Omon/intpp/gn/v20200922/intpp_Omon_ACCESS-ESM1-5_historical_r25i1p1f1_gn_185001-201412.nc',\n",
       " '/g/data/fs38/publications/CMIP6/CMIP/CSIRO/ACCESS-ESM1-5/historical/r26i1p1f1/Omon/intpp/gn/v20200922/intpp_Omon_ACCESS-ESM1-5_historical_r26i1p1f1_gn_185001-201412.nc',\n",
       " '/g/data/fs38/publications/CMIP6/CMIP/CSIRO/ACCESS-ESM1-5/historical/r27i1p1f1/Omon/intpp/gn/v20200922/intpp_Omon_ACCESS-ESM1-5_historical_r27i1p1f1_gn_185001-201412.nc',\n",
       " '/g/data/fs38/publications/CMIP6/CMIP/CSIRO/ACCESS-ESM1-5/historical/r28i1p1f1/Omon/intpp/gn/v20200922/intpp_Omon_ACCESS-ESM1-5_historical_r28i1p1f1_gn_185001-201412.nc',\n",
       " '/g/data/fs38/publications/CMIP6/CMIP/CSIRO/ACCESS-ESM1-5/historical/r29i1p1f1/Omon/intpp/gn/v20200922/intpp_Omon_ACCESS-ESM1-5_historical_r29i1p1f1_gn_185001-201412.nc',\n",
       " '/g/data/fs38/publications/CMIP6/CMIP/CSIRO/ACCESS-ESM1-5/historical/r2i1p1f1/Omon/intpp/gn/v20191128/intpp_Omon_ACCESS-ESM1-5_historical_r2i1p1f1_gn_185001-201412.nc',\n",
       " '/g/data/fs38/publications/CMIP6/CMIP/CSIRO/ACCESS-ESM1-5/historical/r30i1p1f1/Omon/intpp/gn/v20200922/intpp_Omon_ACCESS-ESM1-5_historical_r30i1p1f1_gn_185001-201412.nc',\n",
       " '/g/data/fs38/publications/CMIP6/CMIP/CSIRO/ACCESS-ESM1-5/historical/r31i1p1f1/Omon/intpp/gn/v20210525/intpp_Omon_ACCESS-ESM1-5_historical_r31i1p1f1_gn_185001-201412.nc',\n",
       " '/g/data/fs38/publications/CMIP6/CMIP/CSIRO/ACCESS-ESM1-5/historical/r32i1p1f1/Omon/intpp/gn/v20210525/intpp_Omon_ACCESS-ESM1-5_historical_r32i1p1f1_gn_185001-201412.nc',\n",
       " '/g/data/fs38/publications/CMIP6/CMIP/CSIRO/ACCESS-ESM1-5/historical/r33i1p1f1/Omon/intpp/gn/v20210525/intpp_Omon_ACCESS-ESM1-5_historical_r33i1p1f1_gn_185001-201412.nc',\n",
       " '/g/data/fs38/publications/CMIP6/CMIP/CSIRO/ACCESS-ESM1-5/historical/r34i1p1f1/Omon/intpp/gn/v20210525/intpp_Omon_ACCESS-ESM1-5_historical_r34i1p1f1_gn_185001-201412.nc',\n",
       " '/g/data/fs38/publications/CMIP6/CMIP/CSIRO/ACCESS-ESM1-5/historical/r35i1p1f1/Omon/intpp/gn/v20210525/intpp_Omon_ACCESS-ESM1-5_historical_r35i1p1f1_gn_185001-201412.nc',\n",
       " '/g/data/fs38/publications/CMIP6/CMIP/CSIRO/ACCESS-ESM1-5/historical/r36i1p1f1/Omon/intpp/gn/v20210525/intpp_Omon_ACCESS-ESM1-5_historical_r36i1p1f1_gn_185001-201412.nc',\n",
       " '/g/data/fs38/publications/CMIP6/CMIP/CSIRO/ACCESS-ESM1-5/historical/r37i1p1f1/Omon/intpp/gn/v20210525/intpp_Omon_ACCESS-ESM1-5_historical_r37i1p1f1_gn_185001-201412.nc',\n",
       " '/g/data/fs38/publications/CMIP6/CMIP/CSIRO/ACCESS-ESM1-5/historical/r38i1p1f1/Omon/intpp/gn/v20210525/intpp_Omon_ACCESS-ESM1-5_historical_r38i1p1f1_gn_185001-201412.nc',\n",
       " '/g/data/fs38/publications/CMIP6/CMIP/CSIRO/ACCESS-ESM1-5/historical/r39i1p1f1/Omon/intpp/gn/v20210525/intpp_Omon_ACCESS-ESM1-5_historical_r39i1p1f1_gn_185001-201412.nc',\n",
       " '/g/data/fs38/publications/CMIP6/CMIP/CSIRO/ACCESS-ESM1-5/historical/r3i1p1f1/Omon/intpp/gn/v20191203/intpp_Omon_ACCESS-ESM1-5_historical_r3i1p1f1_gn_185001-201412.nc',\n",
       " '/g/data/fs38/publications/CMIP6/CMIP/CSIRO/ACCESS-ESM1-5/historical/r40i1p1f1/Omon/intpp/gn/v20210525/intpp_Omon_ACCESS-ESM1-5_historical_r40i1p1f1_gn_185001-201412.nc',\n",
       " '/g/data/fs38/publications/CMIP6/CMIP/CSIRO/ACCESS-ESM1-5/historical/r4i1p1f1/Omon/intpp/gn/v20200529/intpp_Omon_ACCESS-ESM1-5_historical_r4i1p1f1_gn_185001-201412.nc',\n",
       " '/g/data/fs38/publications/CMIP6/CMIP/CSIRO/ACCESS-ESM1-5/historical/r5i1p1f1/Omon/intpp/gn/v20200601/intpp_Omon_ACCESS-ESM1-5_historical_r5i1p1f1_gn_185001-201412.nc',\n",
       " '/g/data/fs38/publications/CMIP6/CMIP/CSIRO/ACCESS-ESM1-5/historical/r6i1p1f1/Omon/intpp/gn/v20200529/intpp_Omon_ACCESS-ESM1-5_historical_r6i1p1f1_gn_185001-201412.nc',\n",
       " '/g/data/fs38/publications/CMIP6/CMIP/CSIRO/ACCESS-ESM1-5/historical/r7i1p1f1/Omon/intpp/gn/v20200529/intpp_Omon_ACCESS-ESM1-5_historical_r7i1p1f1_gn_185001-201412.nc',\n",
       " '/g/data/fs38/publications/CMIP6/CMIP/CSIRO/ACCESS-ESM1-5/historical/r8i1p1f1/Omon/intpp/gn/v20200529/intpp_Omon_ACCESS-ESM1-5_historical_r8i1p1f1_gn_185001-201412.nc',\n",
       " '/g/data/fs38/publications/CMIP6/CMIP/CSIRO/ACCESS-ESM1-5/historical/r9i1p1f1/Omon/intpp/gn/v20200529/intpp_Omon_ACCESS-ESM1-5_historical_r9i1p1f1_gn_185001-201412.nc']"
      ]
     },
     "execution_count": 32,
     "metadata": {},
     "output_type": "execute_result"
    }
   ],
   "source": [
    "historical_intpp_catalog_clex.unique()['path']"
   ]
  },
  {
   "cell_type": "markdown",
   "id": "1dd72535-293e-47d8-9d76-044ec9d4fed7",
   "metadata": {},
   "source": [
    "# Comparison"
   ]
  },
  {
   "cell_type": "code",
   "execution_count": 33,
   "id": "5d4cc8d8-6909-4467-9b03-942a4545b001",
   "metadata": {},
   "outputs": [
    {
     "data": {
      "text/plain": [
       "['/g/data/fs38/publications/CMIP6/CMIP/CSIRO/ACCESS-ESM1-5/piControl/r1i1p1f1/Omon/intpp/gn/files/d20191112/intpp_Omon_ACCESS-ESM1-5_piControl_r1i1p1f1_gn_010101-060012.nc',\n",
       " '/g/data/fs38/publications/CMIP6/CMIP/CSIRO/ACCESS-ESM1-5/piControl/r1i1p1f1/Omon/intpp/gn/files/d20210316/intpp_Omon_ACCESS-ESM1-5_piControl_r1i1p1f1_gn_100101-110012.nc',\n",
       " '/g/data/fs38/publications/CMIP6/CMIP/CSIRO/ACCESS-ESM1-5/piControl/r1i1p1f1/Omon/intpp/gn/files/d20191214/intpp_Omon_ACCESS-ESM1-5_piControl_r1i1p1f1_gn_060101-100012.nc']"
      ]
     },
     "execution_count": 33,
     "metadata": {},
     "output_type": "execute_result"
    }
   ],
   "source": [
    "piControl_intpp_catalog_f.unique().path"
   ]
  },
  {
   "cell_type": "code",
   "execution_count": 34,
   "id": "47ba888c-b225-4513-9d4f-95327e27b066",
   "metadata": {},
   "outputs": [
    {
     "data": {
      "text/plain": [
       "['/g/data/fs38/publications/CMIP6/CMIP/CSIRO/ACCESS-ESM1-5/piControl/r1i1p1f1/Omon/intpp/gn/v20210316/intpp_Omon_ACCESS-ESM1-5_piControl_r1i1p1f1_gn_010101-060012.nc',\n",
       " '/g/data/fs38/publications/CMIP6/CMIP/CSIRO/ACCESS-ESM1-5/piControl/r1i1p1f1/Omon/intpp/gn/v20210316/intpp_Omon_ACCESS-ESM1-5_piControl_r1i1p1f1_gn_060101-100012.nc',\n",
       " '/g/data/fs38/publications/CMIP6/CMIP/CSIRO/ACCESS-ESM1-5/piControl/r1i1p1f1/Omon/intpp/gn/v20210316/intpp_Omon_ACCESS-ESM1-5_piControl_r1i1p1f1_gn_100101-110012.nc']"
      ]
     },
     "execution_count": 34,
     "metadata": {},
     "output_type": "execute_result"
    }
   ],
   "source": [
    "piControl_intpp_catalog_clex.unique().path"
   ]
  },
  {
   "cell_type": "code",
   "execution_count": 36,
   "id": "41be4c6e-4ce2-47af-b592-cecde89113c0",
   "metadata": {},
   "outputs": [
    {
     "name": "stdout",
     "output_type": "stream",
     "text": [
      "/g/data/fs38/publications/CMIP6/CMIP/CSIRO/ACCESS-ESM1-5/piControl/r1i1p1f1/Omon/intpp/gn/files/d20191112/intpp_Omon_ACCESS-ESM1-5_piControl_r1i1p1f1_gn_010101-060012.nc\n"
     ]
    }
   ],
   "source": [
    "!readlink -f /g/data/fs38/publications/CMIP6/CMIP/CSIRO/ACCESS-ESM1-5/piControl/r1i1p1f1/Omon/intpp/gn/v20210316/intpp_Omon_ACCESS-ESM1-5_piControl_r1i1p1f1_gn_010101-060012.nc"
   ]
  },
  {
   "cell_type": "code",
   "execution_count": 37,
   "id": "36397621-8998-40b9-ad13-46b7a8f6f773",
   "metadata": {},
   "outputs": [],
   "source": [
    "import os\n",
    "\n",
    "def resolve_symlinks(paths):\n",
    "    \"\"\"\n",
    "    Given a list of paths, this function returns a list of resolved actual paths.\n",
    "    \n",
    "    Parameters:\n",
    "    - paths (list of str): A list of symbolic link paths to be resolved.\n",
    "    \n",
    "    Returns:\n",
    "    - list of str: A list of resolved actual paths.\n",
    "    \"\"\"\n",
    "    return [os.path.realpath(path) for path in paths]"
   ]
  },
  {
   "cell_type": "code",
   "execution_count": 38,
   "id": "0a5cc2d3-dc22-44e1-ac60-0272cbaa2fb2",
   "metadata": {},
   "outputs": [
    {
     "data": {
      "text/plain": [
       "['/g/data/fs38/publications/CMIP6/CMIP/CSIRO/ACCESS-ESM1-5/piControl/r1i1p1f1/Omon/intpp/gn/files/d20191112/intpp_Omon_ACCESS-ESM1-5_piControl_r1i1p1f1_gn_010101-060012.nc',\n",
       " '/g/data/fs38/publications/CMIP6/CMIP/CSIRO/ACCESS-ESM1-5/piControl/r1i1p1f1/Omon/intpp/gn/files/d20191214/intpp_Omon_ACCESS-ESM1-5_piControl_r1i1p1f1_gn_060101-100012.nc',\n",
       " '/g/data/fs38/publications/CMIP6/CMIP/CSIRO/ACCESS-ESM1-5/piControl/r1i1p1f1/Omon/intpp/gn/files/d20210316/intpp_Omon_ACCESS-ESM1-5_piControl_r1i1p1f1_gn_100101-110012.nc']"
      ]
     },
     "execution_count": 38,
     "metadata": {},
     "output_type": "execute_result"
    }
   ],
   "source": [
    "resolve_symlinks(piControl_intpp_catalog_clex.unique().path)"
   ]
  },
  {
   "cell_type": "code",
   "execution_count": 39,
   "id": "aa06e3dc-fd5f-44a3-9b1e-8d3fe6fb1bfb",
   "metadata": {},
   "outputs": [
    {
     "name": "stdout",
     "output_type": "stream",
     "text": [
      "The path lists are exactly equal\n"
     ]
    }
   ],
   "source": [
    "if resolve_symlinks(piControl_intpp_catalog_clex.unique().path).sort() == piControl_intpp_catalog_f.unique().path.sort():\n",
    "    print(\"The path lists are exactly equal\")\n",
    "else:\n",
    "    print(\"The path lists are not equal\")"
   ]
  },
  {
   "cell_type": "code",
   "execution_count": 41,
   "id": "51c22394-2a85-4846-b674-bd63847140cd",
   "metadata": {},
   "outputs": [
    {
     "data": {
      "text/html": [
       "<p><strong>cmip6-fs38 catalog with 40 dataset(s) from 40 asset(s)</strong>:</p> <div>\n",
       "<style scoped>\n",
       "    .dataframe tbody tr th:only-of-type {\n",
       "        vertical-align: middle;\n",
       "    }\n",
       "\n",
       "    .dataframe tbody tr th {\n",
       "        vertical-align: top;\n",
       "    }\n",
       "\n",
       "    .dataframe thead th {\n",
       "        text-align: right;\n",
       "    }\n",
       "</style>\n",
       "<table border=\"1\" class=\"dataframe\">\n",
       "  <thead>\n",
       "    <tr style=\"text-align: right;\">\n",
       "      <th></th>\n",
       "      <th>unique</th>\n",
       "    </tr>\n",
       "  </thead>\n",
       "  <tbody>\n",
       "    <tr>\n",
       "      <th>path</th>\n",
       "      <td>40</td>\n",
       "    </tr>\n",
       "    <tr>\n",
       "      <th>file_type</th>\n",
       "      <td>1</td>\n",
       "    </tr>\n",
       "    <tr>\n",
       "      <th>realm</th>\n",
       "      <td>1</td>\n",
       "    </tr>\n",
       "    <tr>\n",
       "      <th>frequency</th>\n",
       "      <td>1</td>\n",
       "    </tr>\n",
       "    <tr>\n",
       "      <th>table_id</th>\n",
       "      <td>1</td>\n",
       "    </tr>\n",
       "    <tr>\n",
       "      <th>project_id</th>\n",
       "      <td>1</td>\n",
       "    </tr>\n",
       "    <tr>\n",
       "      <th>institution_id</th>\n",
       "      <td>1</td>\n",
       "    </tr>\n",
       "    <tr>\n",
       "      <th>source_id</th>\n",
       "      <td>1</td>\n",
       "    </tr>\n",
       "    <tr>\n",
       "      <th>experiment_id</th>\n",
       "      <td>1</td>\n",
       "    </tr>\n",
       "    <tr>\n",
       "      <th>member_id</th>\n",
       "      <td>40</td>\n",
       "    </tr>\n",
       "    <tr>\n",
       "      <th>variable_id</th>\n",
       "      <td>1</td>\n",
       "    </tr>\n",
       "    <tr>\n",
       "      <th>grid_label</th>\n",
       "      <td>1</td>\n",
       "    </tr>\n",
       "    <tr>\n",
       "      <th>version</th>\n",
       "      <td>9</td>\n",
       "    </tr>\n",
       "    <tr>\n",
       "      <th>time_range</th>\n",
       "      <td>1</td>\n",
       "    </tr>\n",
       "    <tr>\n",
       "      <th>derived_variable_id</th>\n",
       "      <td>0</td>\n",
       "    </tr>\n",
       "  </tbody>\n",
       "</table>\n",
       "</div>"
      ],
      "text/plain": [
       "<IPython.core.display.HTML object>"
      ]
     },
     "metadata": {},
     "output_type": "display_data"
    }
   ],
   "source": [
    "cmip6_fs38_datastore = nri_catalog.search(name='cmip6_fs38').to_source()\n",
    "search_dict = {'experiment_id': ['historical'],\n",
    "      'source_id': 'ACCESS-ESM1-5',\n",
    "      'variable_id': ['intpp'],\n",
    "      'frequency': 'mon',\n",
    "      'file_type': 'f'}\n",
    "historical_intpp_catalog_f = cmip6_fs38_datastore.search(**search_dict)\n",
    "historical_intpp_catalog_f"
   ]
  },
  {
   "cell_type": "code",
   "execution_count": 42,
   "id": "35a3d0e4-eb61-4580-a5ac-d0bf7b6bf10e",
   "metadata": {},
   "outputs": [
    {
     "data": {
      "text/html": [
       "<p><strong>cmip6-fs38 catalog with 40 dataset(s) from 40 asset(s)</strong>:</p> <div>\n",
       "<style scoped>\n",
       "    .dataframe tbody tr th:only-of-type {\n",
       "        vertical-align: middle;\n",
       "    }\n",
       "\n",
       "    .dataframe tbody tr th {\n",
       "        vertical-align: top;\n",
       "    }\n",
       "\n",
       "    .dataframe thead th {\n",
       "        text-align: right;\n",
       "    }\n",
       "</style>\n",
       "<table border=\"1\" class=\"dataframe\">\n",
       "  <thead>\n",
       "    <tr style=\"text-align: right;\">\n",
       "      <th></th>\n",
       "      <th>unique</th>\n",
       "    </tr>\n",
       "  </thead>\n",
       "  <tbody>\n",
       "    <tr>\n",
       "      <th>path</th>\n",
       "      <td>40</td>\n",
       "    </tr>\n",
       "    <tr>\n",
       "      <th>file_type</th>\n",
       "      <td>1</td>\n",
       "    </tr>\n",
       "    <tr>\n",
       "      <th>realm</th>\n",
       "      <td>1</td>\n",
       "    </tr>\n",
       "    <tr>\n",
       "      <th>frequency</th>\n",
       "      <td>1</td>\n",
       "    </tr>\n",
       "    <tr>\n",
       "      <th>table_id</th>\n",
       "      <td>1</td>\n",
       "    </tr>\n",
       "    <tr>\n",
       "      <th>project_id</th>\n",
       "      <td>1</td>\n",
       "    </tr>\n",
       "    <tr>\n",
       "      <th>institution_id</th>\n",
       "      <td>1</td>\n",
       "    </tr>\n",
       "    <tr>\n",
       "      <th>source_id</th>\n",
       "      <td>1</td>\n",
       "    </tr>\n",
       "    <tr>\n",
       "      <th>experiment_id</th>\n",
       "      <td>1</td>\n",
       "    </tr>\n",
       "    <tr>\n",
       "      <th>member_id</th>\n",
       "      <td>40</td>\n",
       "    </tr>\n",
       "    <tr>\n",
       "      <th>variable_id</th>\n",
       "      <td>1</td>\n",
       "    </tr>\n",
       "    <tr>\n",
       "      <th>grid_label</th>\n",
       "      <td>1</td>\n",
       "    </tr>\n",
       "    <tr>\n",
       "      <th>version</th>\n",
       "      <td>9</td>\n",
       "    </tr>\n",
       "    <tr>\n",
       "      <th>time_range</th>\n",
       "      <td>1</td>\n",
       "    </tr>\n",
       "    <tr>\n",
       "      <th>derived_variable_id</th>\n",
       "      <td>0</td>\n",
       "    </tr>\n",
       "  </tbody>\n",
       "</table>\n",
       "</div>"
      ],
      "text/plain": [
       "<IPython.core.display.HTML object>"
      ]
     },
     "metadata": {},
     "output_type": "display_data"
    }
   ],
   "source": [
    "cmip6_fs38_datastore = nri_catalog.search(name='cmip6_fs38').to_source()\n",
    "search_dict = {'experiment_id': ['historical'],\n",
    "      'source_id': 'ACCESS-ESM1-5',\n",
    "      'variable_id': ['intpp'],\n",
    "      'frequency': 'mon',\n",
    "      'file_type': 'l'}\n",
    "historical_intpp_catalog_l = cmip6_fs38_datastore.search(**search_dict)\n",
    "historical_intpp_catalog_l"
   ]
  },
  {
   "cell_type": "code",
   "execution_count": 43,
   "id": "14d17fbb-e6a9-456c-b160-00e00d1390dd",
   "metadata": {},
   "outputs": [
    {
     "name": "stdout",
     "output_type": "stream",
     "text": [
      "The path lists are exactly equal\n"
     ]
    }
   ],
   "source": [
    "if resolve_symlinks(historical_intpp_catalog_clex.unique().path).sort() == historical_intpp_catalog_f.unique().path.sort():\n",
    "    print(\"The path lists are exactly equal\")\n",
    "else:\n",
    "    print(\"The path lists are not equal\")"
   ]
  },
  {
   "cell_type": "code",
   "execution_count": 44,
   "id": "0f106659-5226-47e0-bf30-2ab0fbe2c513",
   "metadata": {},
   "outputs": [
    {
     "name": "stdout",
     "output_type": "stream",
     "text": [
      "The path lists are exactly equal\n"
     ]
    }
   ],
   "source": [
    "if resolve_symlinks(historical_intpp_catalog_clex.unique().path).sort() == historical_intpp_catalog_l.unique().path.sort():\n",
    "    print(\"The path lists are exactly equal\")\n",
    "else:\n",
    "    print(\"The path lists are not equal\")"
   ]
  },
  {
   "cell_type": "code",
   "execution_count": null,
   "id": "a179e5a2-0601-45f4-9533-c96ed1fa5552",
   "metadata": {},
   "outputs": [],
   "source": []
  },
  {
   "cell_type": "code",
   "execution_count": null,
   "id": "32a46e5b-bf99-42a5-ad68-c3bf0c81ef45",
   "metadata": {},
   "outputs": [],
   "source": []
  },
  {
   "cell_type": "markdown",
   "id": "5b29cb65-cc6a-464a-8ec3-f18db798b3d8",
   "metadata": {},
   "source": [
    "# $THE$ $END$"
   ]
  },
  {
   "cell_type": "code",
   "execution_count": null,
   "id": "2d274613-676d-4903-b768-9c2680b55f4f",
   "metadata": {},
   "outputs": [],
   "source": []
  },
  {
   "cell_type": "code",
   "execution_count": null,
   "id": "bc61e76b-45f2-4a6d-ade3-63d73ad6bd96",
   "metadata": {},
   "outputs": [],
   "source": []
  },
  {
   "cell_type": "code",
   "execution_count": null,
   "id": "8ffe2c25-c74e-4232-8447-4e2167d893a7",
   "metadata": {},
   "outputs": [],
   "source": []
  },
  {
   "cell_type": "code",
   "execution_count": null,
   "id": "7bfa04a5-67d6-4b6f-8857-36db0214a374",
   "metadata": {},
   "outputs": [],
   "source": []
  },
  {
   "cell_type": "code",
   "execution_count": null,
   "id": "9ee5bd0f-59c9-44bc-a19c-b571d23f4e6c",
   "metadata": {},
   "outputs": [],
   "source": []
  },
  {
   "cell_type": "code",
   "execution_count": null,
   "id": "76ca9e8b-2d76-4204-a790-67fd5b50c094",
   "metadata": {},
   "outputs": [],
   "source": []
  },
  {
   "cell_type": "code",
   "execution_count": null,
   "id": "70c553ba-5322-4af6-a723-cfb4f542a4ef",
   "metadata": {},
   "outputs": [],
   "source": []
  },
  {
   "cell_type": "code",
   "execution_count": null,
   "id": "2c042db0-d307-41af-8aff-34304149af62",
   "metadata": {},
   "outputs": [],
   "source": []
  },
  {
   "cell_type": "code",
   "execution_count": null,
   "id": "fce60d99-e38d-4fb1-9bd3-7df4f7e5cb81",
   "metadata": {},
   "outputs": [],
   "source": []
  },
  {
   "cell_type": "code",
   "execution_count": null,
   "id": "f84b83d8-c9c6-4420-ba43-b1cfa4a6fba4",
   "metadata": {},
   "outputs": [],
   "source": []
  },
  {
   "cell_type": "code",
   "execution_count": null,
   "id": "fd4e90ff-5e85-4d9f-b415-05c5e20ca73b",
   "metadata": {},
   "outputs": [],
   "source": []
  },
  {
   "cell_type": "code",
   "execution_count": null,
   "id": "8a636a6e-8b7c-4d30-a08e-cfa354d38369",
   "metadata": {},
   "outputs": [],
   "source": []
  },
  {
   "cell_type": "code",
   "execution_count": null,
   "id": "bad220db-ff53-4179-a1ae-4f5d1780801e",
   "metadata": {},
   "outputs": [],
   "source": []
  },
  {
   "cell_type": "code",
   "execution_count": null,
   "id": "064b5f41-6938-4086-897c-5c145c89041c",
   "metadata": {},
   "outputs": [],
   "source": []
  },
  {
   "cell_type": "code",
   "execution_count": null,
   "id": "fff841f0-fcda-4d40-be9f-463447bc5a6a",
   "metadata": {},
   "outputs": [],
   "source": []
  },
  {
   "cell_type": "markdown",
   "id": "2af409ca-3553-4ab3-9804-95005f72ac21",
   "metadata": {},
   "source": [
    "### (1) \"I know I want Australian CMIP6 data - so that's fs38 and I need access to that NCI project\""
   ]
  },
  {
   "cell_type": "code",
   "execution_count": null,
   "id": "94c7b943-6547-4793-9b57-efa835e3a863",
   "metadata": {},
   "outputs": [],
   "source": [
    "cmip6_fs38_datastore = catalog.search(name='cmip6_fs38').to_source()"
   ]
  },
  {
   "cell_type": "markdown",
   "id": "aaba1469-c576-4ca0-96b0-38d1ed9ad465",
   "metadata": {},
   "source": [
    "### (2) \"what are the realms covered by cmip6_fs38?\""
   ]
  },
  {
   "cell_type": "code",
   "execution_count": null,
   "id": "f6b104fc-662a-4f76-8578-b9c7acc26e10",
   "metadata": {},
   "outputs": [],
   "source": [
    "report_esm_unique(cmip6_fs38_datastore,keep_list=['realm'])"
   ]
  },
  {
   "cell_type": "markdown",
   "id": "a144145f-d93c-4a82-bcb3-cdb957b3f6dd",
   "metadata": {},
   "source": [
    "### (3) I want to see what variables, over what frequencies, are available in both the 'ocean' & 'oceanBgchem' realms"
   ]
  },
  {
   "cell_type": "code",
   "execution_count": null,
   "id": "27581c4c-5bf1-4338-ad57-f7f94ba5e0e0",
   "metadata": {},
   "outputs": [],
   "source": [
    "cmip6_fs38_ocean_datastore = cmip6_fs38_datastore.search(realm=['ocean','ocnBgchem'])"
   ]
  },
  {
   "cell_type": "code",
   "execution_count": null,
   "id": "bae92dd2-ec5e-47d8-9062-debc67734100",
   "metadata": {
    "scrolled": true
   },
   "outputs": [],
   "source": [
    "[sorted_unique_dict, table_data] = report_esm_unique(cmip6_fs38_ocean_datastore,return_results=True)"
   ]
  },
  {
   "cell_type": "markdown",
   "id": "f6ec2e28-132d-4233-a22d-fd6e027ab2a8",
   "metadata": {},
   "source": [
    "## what is the long name of a particular variable?"
   ]
  },
  {
   "cell_type": "code",
   "execution_count": null,
   "id": "f9e1f15c-533a-4c33-ba0f-ada8e07b5399",
   "metadata": {
    "scrolled": true
   },
   "outputs": [],
   "source": [
    "var_name_info(cmip6_fs38_ocean_datastore,'intpp')"
   ]
  },
  {
   "cell_type": "markdown",
   "id": "8e941431-ba02-41d4-aad8-6217f0658a0f",
   "metadata": {},
   "source": [
    "## filter catalog for final ACCESS-ESM1.5 dataset"
   ]
  },
  {
   "cell_type": "code",
   "execution_count": null,
   "id": "9cfe8097-494d-4187-8e9e-4e741499bfa6",
   "metadata": {},
   "outputs": [],
   "source": [
    "final_search = cmip6_fs38_ocean_datastore.search(file_type='l',\n",
    "                    variable_id='intpp',source_id='ACCESS-ESM1-5',experiment_id='historical')"
   ]
  },
  {
   "cell_type": "code",
   "execution_count": null,
   "id": "aded047f-d413-4235-bc58-407d143bd4ca",
   "metadata": {},
   "outputs": [],
   "source": [
    "report_esm_unique(final_search)"
   ]
  },
  {
   "cell_type": "markdown",
   "id": "d36a2d20-9cf1-46da-a9b7-38fade30dd64",
   "metadata": {},
   "source": [
    "## what is the chunking of the files in this final_search catalog?"
   ]
  },
  {
   "cell_type": "code",
   "execution_count": null,
   "id": "e3613380-60b7-4ea7-a6f7-cfdfe936c9c9",
   "metadata": {},
   "outputs": [],
   "source": [
    "final_search.df['path'].iloc[0]"
   ]
  },
  {
   "cell_type": "code",
   "execution_count": null,
   "id": "bbe2d392-1f07-41cf-a12d-3d27403e7418",
   "metadata": {},
   "outputs": [],
   "source": [
    "find_chunking_info(final_search,'intpp',return_results=False)"
   ]
  },
  {
   "cell_type": "markdown",
   "id": "5c5498b2-b0b2-4012-9be7-2eae85487bf8",
   "metadata": {},
   "source": [
    "## load without specifying any chunking"
   ]
  },
  {
   "cell_type": "code",
   "execution_count": null,
   "id": "0d946d73-29be-42a7-8f02-6c622f0d4277",
   "metadata": {},
   "outputs": [],
   "source": [
    "%%time\n",
    "ds_ESM15_esorted = load_ACCESS_ESM_ensemble(final_search)"
   ]
  },
  {
   "cell_type": "code",
   "execution_count": null,
   "id": "2e8bf991-5212-438e-a82d-70cfefd873b8",
   "metadata": {},
   "outputs": [],
   "source": [
    "ds_ESM15_esorted"
   ]
  },
  {
   "cell_type": "markdown",
   "id": "da300175-a28a-4090-9992-f53b9e9f3994",
   "metadata": {},
   "source": [
    "#### One still needs to know what dimensions (1, 300, 360 ; ) refers to and something about MB size per chunk to set the time to 220 . . . these rules of thumb should be in the yaml settings file until much more complicated heuristics could be coded"
   ]
  },
  {
   "cell_type": "code",
   "execution_count": null,
   "id": "d7b136e0-30f5-4096-a5f5-d71a3d92b0b3",
   "metadata": {},
   "outputs": [],
   "source": [
    "%%time\n",
    "ds_ESM15_esorted = load_ACCESS_ESM_ensemble(final_search,chunking_settings={'chunks':{'member':1,'time':220,'j':300,'i':360}})"
   ]
  },
  {
   "cell_type": "code",
   "execution_count": null,
   "id": "63ead743-6362-4949-8f26-1f2b81beb451",
   "metadata": {},
   "outputs": [],
   "source": [
    "ds_ESM15_esorted"
   ]
  },
  {
   "cell_type": "code",
   "execution_count": null,
   "id": "11eb1573-f577-409c-ad15-afe1dc7716c2",
   "metadata": {},
   "outputs": [],
   "source": [
    "%%time\n",
    "ds_ESM15_esorted = load_ACCESS_ESM_ensemble(final_search,chunking_key='ACCESS_ESM15_2D')"
   ]
  },
  {
   "cell_type": "code",
   "execution_count": null,
   "id": "13e76dea-0d76-473a-affa-dddc400b0f03",
   "metadata": {},
   "outputs": [],
   "source": [
    "ds_ESM15_esorted"
   ]
  },
  {
   "cell_type": "code",
   "execution_count": null,
   "id": "bfe1f724-a5b6-47b9-8733-541730ea942a",
   "metadata": {},
   "outputs": [],
   "source": [
    "ds_ESM15_esorted.isel(member=0).mean('time').intpp.plot()"
   ]
  },
  {
   "cell_type": "markdown",
   "id": "89da06cc-4075-45a1-a3c3-135256b285b6",
   "metadata": {},
   "source": [
    "## 3D dataset?"
   ]
  },
  {
   "cell_type": "code",
   "execution_count": null,
   "id": "d32c6dec-493b-4e9a-bfd1-4368cbc04efe",
   "metadata": {},
   "outputs": [],
   "source": [
    "thetao_search = cmip6_fs38_ocean_datastore.search(file_type='l',\n",
    "                    variable_id='thetao',source_id='ACCESS-ESM1-5',experiment_id='historical')"
   ]
  },
  {
   "cell_type": "code",
   "execution_count": null,
   "id": "5b71b02d-460e-4843-8eaf-eedca514a488",
   "metadata": {},
   "outputs": [],
   "source": [
    "report_esm_unique(thetao_search)"
   ]
  },
  {
   "cell_type": "code",
   "execution_count": null,
   "id": "deea68a9-1b34-498d-9e98-f5b323f8ec46",
   "metadata": {},
   "outputs": [],
   "source": [
    "find_chunking_info(thetao_search,'thetao',return_results=False)"
   ]
  },
  {
   "cell_type": "code",
   "execution_count": null,
   "id": "61745e7f-ea3a-4780-a295-b7e8b5fa2c6e",
   "metadata": {},
   "outputs": [],
   "source": [
    "find_chunking_info(thetao_search,'thetao',return_results=True)"
   ]
  },
  {
   "cell_type": "code",
   "execution_count": null,
   "id": "cbabe34f-e1d6-4daa-b8de-3e07e7578919",
   "metadata": {},
   "outputs": [],
   "source": [
    "xr.open_mfdataset('/g/data/fs38/publications/CMIP6/CMIP/CSIRO/ACCESS-ESM1-5/historical/r3i1p1f1/Omon/thetao/gn/v20191203/thetao_Omon_ACCESS-ESM1-5_historical_r3i1p1f1_gn_189001-189912.nc')"
   ]
  },
  {
   "cell_type": "code",
   "execution_count": null,
   "id": "6b69d82a-f6f5-4761-8ebb-82136940e04c",
   "metadata": {},
   "outputs": [],
   "source": [
    "%%time\n",
    "ds_ESM15_esorted = load_ACCESS_ESM_ensemble(thetao_search)"
   ]
  },
  {
   "cell_type": "code",
   "execution_count": null,
   "id": "6bced19a-9d0e-4cdc-84cc-3ba6ac30ab44",
   "metadata": {},
   "outputs": [],
   "source": [
    "ds_ESM15_esorted"
   ]
  },
  {
   "cell_type": "code",
   "execution_count": null,
   "id": "1dab745c-8e8b-4609-9846-a62a59df095a",
   "metadata": {},
   "outputs": [],
   "source": [
    "%%time\n",
    "ds_ESM15_esorted = load_ACCESS_ESM_ensemble(thetao_search,chunking_key='ACCESS_ESM15_3D')"
   ]
  },
  {
   "cell_type": "code",
   "execution_count": null,
   "id": "2646a9cd-1abd-490c-b978-bb397dbe13ba",
   "metadata": {},
   "outputs": [],
   "source": [
    "ds_ESM15_esorted"
   ]
  },
  {
   "cell_type": "markdown",
   "id": "8c8d0ff8-d658-42ec-afa0-6be1b60049c2",
   "metadata": {},
   "source": [
    "# let's use the tools as they exist to try to start the workflow"
   ]
  },
  {
   "cell_type": "markdown",
   "id": "5ccb460e-7d6c-4f53-9a90-01868223d7c9",
   "metadata": {},
   "source": [
    "## I want Australian CMIP6 data"
   ]
  },
  {
   "cell_type": "code",
   "execution_count": null,
   "id": "2339501e-5074-4594-95ba-f1b0cd3dfa65",
   "metadata": {},
   "outputs": [],
   "source": [
    "cmip6_fs38_datastore = load_cmip6_fs38_datastore()"
   ]
  },
  {
   "cell_type": "code",
   "execution_count": null,
   "id": "d4328d99-8b76-4d0e-abd3-6af417009ebf",
   "metadata": {},
   "outputs": [],
   "source": [
    "report_esm_unique(cmip6_fs38_datastore.search(**load_config()['catalog_search_query_dict']['ACCESS_ESM15']['CSEPTA']))"
   ]
  },
  {
   "cell_type": "code",
   "execution_count": null,
   "id": "06a01952-f988-4172-a9fc-430f0f772442",
   "metadata": {},
   "outputs": [],
   "source": [
    "CSEPTA_intpp_catalog = cmip6_fs38_datastore.search(**load_config()['catalog_search_query_dict']['ACCESS_ESM15']['CSEPTA'])"
   ]
  },
  {
   "cell_type": "code",
   "execution_count": null,
   "id": "652514aa-dbd4-402f-a027-33f6f6ecbe7c",
   "metadata": {},
   "outputs": [],
   "source": [
    "CSEPTA_intpp_catalog"
   ]
  },
  {
   "cell_type": "code",
   "execution_count": null,
   "id": "2ca2df31-9592-4b16-bd86-dc65351f2db7",
   "metadata": {},
   "outputs": [],
   "source": [
    "show_methods(CSEPTA_intpp_catalog)"
   ]
  },
  {
   "cell_type": "code",
   "execution_count": null,
   "id": "ba979873-b189-48aa-867e-34b3eee5d1df",
   "metadata": {},
   "outputs": [],
   "source": [
    "report_esm_unique(CSEPTA_intpp_catalog)"
   ]
  },
  {
   "cell_type": "code",
   "execution_count": null,
   "id": "c5f7da0e-104f-4be6-ad7e-fe4ba1a0b457",
   "metadata": {},
   "outputs": [],
   "source": [
    "CSEPTA_intpp_catalog.unique()['path']"
   ]
  },
  {
   "cell_type": "code",
   "execution_count": null,
   "id": "4308ec0b-4706-485b-8df3-340245eb031c",
   "metadata": {},
   "outputs": [],
   "source": [
    "search_dict = dict(experiment_id = 'historical',source_id = 'ACCESS-ESM1-5',variable_id = ['intpp'],realm = ['ocnBgchem'], frequency = 'mon',file_type='f')"
   ]
  },
  {
   "cell_type": "code",
   "execution_count": null,
   "id": "d983489b-86f9-4794-99c2-3797dcb5bf2a",
   "metadata": {},
   "outputs": [],
   "source": [
    "search = cmip6_fs38_datastore.search(**search_dict)\n",
    "search"
   ]
  },
  {
   "cell_type": "code",
   "execution_count": null,
   "id": "1418e808-69db-47c8-b44c-ae4cfd946068",
   "metadata": {},
   "outputs": [],
   "source": [
    "search.unique()['path']"
   ]
  },
  {
   "cell_type": "code",
   "execution_count": null,
   "id": "1285621f-e48d-4c4b-a7e9-109fb25c7e8b",
   "metadata": {},
   "outputs": [],
   "source": []
  },
  {
   "cell_type": "code",
   "execution_count": null,
   "id": "07621ee1-4a90-4e76-a0ee-ba4f9c3146ac",
   "metadata": {},
   "outputs": [],
   "source": []
  },
  {
   "cell_type": "code",
   "execution_count": null,
   "id": "1ffcffa7-b292-44e0-9b8d-ffaf8141419e",
   "metadata": {},
   "outputs": [],
   "source": []
  },
  {
   "cell_type": "code",
   "execution_count": null,
   "id": "a14dfaa8-cf48-4208-ab43-672cccea5ba8",
   "metadata": {},
   "outputs": [],
   "source": []
  },
  {
   "cell_type": "code",
   "execution_count": null,
   "id": "3c54f2df-5742-44bb-b8d9-8abb293d74d8",
   "metadata": {},
   "outputs": [],
   "source": []
  },
  {
   "cell_type": "code",
   "execution_count": null,
   "id": "1c27cbca-ad25-4be3-aafb-9c03127fc2be",
   "metadata": {},
   "outputs": [],
   "source": []
  },
  {
   "cell_type": "code",
   "execution_count": null,
   "id": "23cb7356-3205-4c61-88f5-7719809f0b42",
   "metadata": {},
   "outputs": [],
   "source": []
  },
  {
   "cell_type": "code",
   "execution_count": null,
   "id": "a392807f-d73b-42ec-809e-e7ecfc5b322c",
   "metadata": {},
   "outputs": [],
   "source": []
  },
  {
   "cell_type": "code",
   "execution_count": null,
   "id": "5d432e5f-9562-4401-b617-0f414b336774",
   "metadata": {},
   "outputs": [],
   "source": []
  },
  {
   "cell_type": "code",
   "execution_count": null,
   "id": "2541f995-a47b-4aff-9441-45cef192065e",
   "metadata": {},
   "outputs": [],
   "source": []
  },
  {
   "cell_type": "code",
   "execution_count": null,
   "id": "2567cb5a-28b1-4507-862a-2cea226fae41",
   "metadata": {},
   "outputs": [],
   "source": []
  },
  {
   "cell_type": "code",
   "execution_count": null,
   "id": "c9999167-026c-47bd-8d42-f51ac29be25b",
   "metadata": {},
   "outputs": [],
   "source": [
    "CSEPTA_datatree = CSEPTA_intpp_catalog.to_datatree(index=[\"experiment_id\"],progressbar=False)"
   ]
  },
  {
   "cell_type": "code",
   "execution_count": null,
   "id": "d87da801-b255-48d6-b0ed-7cc2c5bfa55e",
   "metadata": {},
   "outputs": [],
   "source": [
    "# Iterate over the experiments in the datatree\n",
    "for experiment_id, node in CSEPTA_datatree.items():\n",
    "    # Access the dataset\n",
    "    ds = node.ds\n",
    "    print(f\"Working with dataset for experiment: {experiment_id}\")\n",
    "    \n",
    "    # Perform operations on the dataset, for example, print variable names\n",
    "    print(ds.variables)"
   ]
  },
  {
   "cell_type": "code",
   "execution_count": null,
   "id": "ddaecc46-7c5d-428a-9269-c5a378c149f3",
   "metadata": {},
   "outputs": [],
   "source": []
  }
 ],
 "metadata": {
  "kernelspec": {
   "display_name": "Python [conda env:analysis3]",
   "language": "python",
   "name": "conda-env-analysis3-py"
  },
  "language_info": {
   "codemirror_mode": {
    "name": "ipython",
    "version": 3
   },
   "file_extension": ".py",
   "mimetype": "text/x-python",
   "name": "python",
   "nbconvert_exporter": "python",
   "pygments_lexer": "ipython3",
   "version": "3.10.14"
  }
 },
 "nbformat": 4,
 "nbformat_minor": 5
}
