{
 "cells": [
  {
   "cell_type": "markdown",
   "id": "2bbcce82-88b9-4dc3-81f7-305710b84adf",
   "metadata": {},
   "source": [
    "# NC2zarr workflow"
   ]
  },
  {
   "cell_type": "markdown",
   "id": "444db49f-f4c2-4d6c-a5bf-83576d2f5c9a",
   "metadata": {},
   "source": [
    "#### Date: 2 December 2024"
   ]
  },
  {
   "cell_type": "markdown",
   "id": "a0158574-20a2-4c25-bf47-f384dbb80648",
   "metadata": {},
   "source": [
    "Author = {\"name\": \"Thomas Moore\", \"affiliation\": \"CSIRO\", \"email\": \"thomas.moore@csiro.au\", \"orcid\": \"0000-0003-3930-1946\"}"
   ]
  },
  {
   "cell_type": "markdown",
   "id": "c2899b25-cc56-44c1-9140-48169824c5bf",
   "metadata": {},
   "source": [
    "# Install ACDtools locally"
   ]
  },
  {
   "cell_type": "code",
   "execution_count": 1,
   "id": "57562294-57e8-4ce7-b129-8ebf86b2fac0",
   "metadata": {},
   "outputs": [
    {
     "name": "stdout",
     "output_type": "stream",
     "text": [
      "Obtaining file:///g/data/es60/users/thomas_moore/code/ACDtools\n",
      "  Installing build dependencies ... \u001b[?25ldone\n",
      "\u001b[?25h  Checking if build backend supports build_editable ... \u001b[?25ldone\n",
      "\u001b[?25h  Getting requirements to build editable ... \u001b[?25ldone\n",
      "\u001b[?25h  Preparing editable metadata (pyproject.toml) ... \u001b[?25ldone\n",
      "\u001b[?25hBuilding wheels for collected packages: ACDtools\n",
      "  Building editable for ACDtools (pyproject.toml) ... \u001b[?25ldone\n",
      "\u001b[?25h  Created wheel for ACDtools: filename=ACDtools-0.1-0.editable-py3-none-any.whl size=3511 sha256=c96a6b799dc9d3799538a3cf418a3d7f19f4a26f2c083b3216c05ea6eaabb155\n",
      "  Stored in directory: /jobfs/130325562.gadi-pbs/pip-ephem-wheel-cache-lgjenytz/wheels/b6/a3/f2/6ce45fbdc116ad50e421d6a11cb060cc796e867501807af446\n",
      "Successfully built ACDtools\n",
      "Installing collected packages: ACDtools\n",
      "  Attempting uninstall: ACDtools\n",
      "    Found existing installation: ACDtools 0.1\n",
      "    Uninstalling ACDtools-0.1:\n",
      "      Successfully uninstalled ACDtools-0.1\n",
      "Successfully installed ACDtools-0.1\n"
     ]
    }
   ],
   "source": [
    "# this needs to be set via a custom edit per user at the moment\n",
    "!pip install --user -e /g/data/es60/users/thomas_moore/code/ACDtools"
   ]
  },
  {
   "cell_type": "code",
   "execution_count": 2,
   "id": "0215fd7c-caad-49fd-8440-03f2426e6791",
   "metadata": {},
   "outputs": [],
   "source": [
    "# Enable autoreload in the notebook\n",
    "%load_ext autoreload\n",
    "%autoreload 1 \n",
    "%aimport ACDtools.util\n",
    "%aimport ACDtools.ard\n",
    "# Importing from your local package util.py\n",
    "from ACDtools.util import test_function\n",
    "from ACDtools.util import detect_compute_platform\n",
    "from ACDtools.util import load_config\n",
    "from ACDtools.util import start_dask_cluster_from_config\n",
    "from ACDtools.util import report_esm_unique\n",
    "from ACDtools.util import var_name_info\n",
    "from ACDtools.util import list_catalog_query_kwargs\n",
    "from ACDtools.util import load_cmip6_fs38_datastore\n",
    "from ACDtools.util import show_methods\n",
    "from ACDtools.util import load_cmip6_CLEX_datastore\n",
    "from ACDtools.util import remove_encoding\n",
    "# ard.py\n",
    "from ACDtools.ard import load_ACCESS_ESM_ensemble\n",
    "from ACDtools.ard import load_ACCESS_ESM\n",
    "from ACDtools.ard import find_chunking_info\n",
    "from ACDtools.ard import save_n_drop_multidim_lat_lon"
   ]
  },
  {
   "cell_type": "markdown",
   "id": "d0e7fffe-1565-4a71-9622-dc4266f555df",
   "metadata": {},
   "source": [
    "# Notebook settings"
   ]
  },
  {
   "cell_type": "markdown",
   "id": "c94d2934-9f8a-4495-b32a-46c1ac293870",
   "metadata": {},
   "source": [
    "### filter warnings"
   ]
  },
  {
   "cell_type": "code",
   "execution_count": 3,
   "id": "c774b769-3308-49e6-8c1d-90b7e5645ad3",
   "metadata": {},
   "outputs": [],
   "source": [
    "import warnings\n",
    "warnings.filterwarnings(\"ignore\") # Suppress warnings"
   ]
  },
  {
   "cell_type": "markdown",
   "id": "7fcad830-ea7e-4ecd-a64b-b5f9edeb305a",
   "metadata": {},
   "source": [
    "# Dask cluster from config\n",
    "`client, cluster = start_dask_cluster_from_config('netcdf_work')`\n",
    "<br>OR<br>\n",
    "`client, cluster = start_dask_cluster_from_config('zarr_work')`"
   ]
  },
  {
   "cell_type": "code",
   "execution_count": 4,
   "id": "6935fbd8-fcb1-4784-912b-7dea47c469b0",
   "metadata": {},
   "outputs": [
    {
     "name": "stdout",
     "output_type": "stream",
     "text": [
      "Cluster started with 8 workers.\n",
      "Dashboard available at: /proxy/8787/status\n"
     ]
    }
   ],
   "source": [
    "client, cluster = start_dask_cluster_from_config('bwmega_work')"
   ]
  },
  {
   "cell_type": "markdown",
   "id": "453d3b34-0f7f-499c-838e-f9d713ee82bc",
   "metadata": {},
   "source": [
    "# Issue: workflow // write ACCESS-ESM1.5 variable as zarr collection\n",
    "- https://github.com/Thomas-Moore-Creative/ACDtools/issues/3"
   ]
  },
  {
   "cell_type": "markdown",
   "id": "13a97a11-5a24-4a06-b0be-c77315fee2d5",
   "metadata": {},
   "source": [
    "### what are the job config settings"
   ]
  },
  {
   "cell_type": "code",
   "execution_count": 5,
   "id": "1007329d-d7df-471a-aac8-e1907d7f460d",
   "metadata": {},
   "outputs": [
    {
     "data": {
      "text/plain": [
       "{'paths': {'write_dir': '/scratch/es60/ard/models/ACCESS-ESM15/ARD/',\n",
       "  'save_coords_dir': '/scratch/es60/ard/models/ACCESS-ESM15/ARD/coords/'},\n",
       " 'dask_cluster': {'netcdf_work': {'n_workers': 'None',\n",
       "   'threads_per_worker': 1,\n",
       "   'memory_limit': 'None'},\n",
       "  'zarr_work': {'n_workers': 'None',\n",
       "   'threads_per_worker': 'None',\n",
       "   'memory_limit': 'None'}},\n",
       " 'catalog_search_query_dict': {'experiment_id': 'ssp370',\n",
       "  'source_id': 'ACCESS-ESM1-5',\n",
       "  'variable_id': 'thetao',\n",
       "  'table_id': 'Omon'},\n",
       " 'chunking_key': 'ACCESS_ESM15_3D',\n",
       " 'chunking': {'ACCESS_ESM15_2D': {'chunks': {'member': 1,\n",
       "    'time': 220,\n",
       "    'i': 360,\n",
       "    'j': 300}},\n",
       "  'ACCESS_ESM15_3D': {'chunks': {'member': 1,\n",
       "    'time': 12,\n",
       "    'lev': -1,\n",
       "    'i': -1,\n",
       "    'j': -1}}}}"
      ]
     },
     "execution_count": 5,
     "metadata": {},
     "output_type": "execute_result"
    }
   ],
   "source": [
    "load_config('job_config.yaml')"
   ]
  },
  {
   "cell_type": "code",
   "execution_count": null,
   "id": "ea2f4e4f-f812-4802-86a8-07ebe46e6260",
   "metadata": {},
   "outputs": [
    {
     "name": "stdout",
     "output_type": "stream",
     "text": [
      "Running chl ssp126\n",
      "Loading the dataset using the chunking settings for 'ACCESS_ESM15_3D' from the configuration file: {'chunks': {'member': 1, 'time': 12, 'lev': -1, 'i': -1, 'j': -1}}\n",
      "Loading the dataset with cftime = True\n",
      "The item 'latitude' was found in the dataset and will be dropped!!!\n",
      "The item 'longitude' was found in the dataset and will be dropped!!!\n",
      "Started zarr write at 20241206_152101\n"
     ]
    }
   ],
   "source": [
    "%%time\n",
    "print('Running ' + load_config('job_config.yaml')['catalog_search_query_dict']['variable_id'] + ' ' + load_config('job_config.yaml')['catalog_search_query_dict']['experiment_id'])\n",
    "import datetime\n",
    "# load catalog\n",
    "cmip6_fs38_datastore = load_cmip6_CLEX_datastore()\n",
    "# search catalog for list of files\n",
    "search = cmip6_fs38_datastore.search(**load_config('job_config.yaml')['catalog_search_query_dict'])\n",
    "# load into one object using xarray kwags for chunking and handling cftime\n",
    "####\n",
    "#ds = load_ACCESS_ESM(search,use_cftime=True,chunking_key=load_config('job_config.yaml')['chunking_key'])\n",
    "####\n",
    "ds = load_ACCESS_ESM_ensemble(search,use_cftime=True,chunking_key=load_config('job_config.yaml')['chunking_key'])\n",
    "# save and drop multidimensional coordinates\n",
    "ds = save_n_drop_multidim_lat_lon(ds,save_coords_dir=load_config('job_config.yaml')['paths']['save_coords_dir'],variable_name = load_config('job_config.yaml')['catalog_search_query_dict']['variable_id'])\n",
    "# remove encoding\n",
    "remove_encoding(ds)\n",
    "# write out zarr\n",
    "current_datetime = datetime.datetime.now().strftime(\"%Y%m%d_%H%M%S\")\n",
    "print('Started zarr write at '+current_datetime)\n",
    "filename = f\"{load_config('job_config.yaml')['paths']['write_dir']}\\\n",
    "{load_config('job_config.yaml')['catalog_search_query_dict']['source_id']}\\\n",
    ".{load_config('job_config.yaml')['catalog_search_query_dict']['experiment_id']}\\\n",
    ".{load_config('job_config.yaml')['catalog_search_query_dict']['variable_id']}\\\n",
    ".v{current_datetime}.zarr\"\n",
    "ds.to_zarr(filename,consolidated=True)\n",
    "print('Finished at '+ current_datetime)"
   ]
  },
  {
   "cell_type": "code",
   "execution_count": 8,
   "id": "9bb0ee7f-15af-4add-aeaa-2910ffa3adc6",
   "metadata": {},
   "outputs": [
    {
     "name": "stdout",
     "output_type": "stream",
     "text": [
      "20241206_152101\n"
     ]
    },
    {
     "data": {
      "text/html": [
       "<div><svg style=\"position: absolute; width: 0; height: 0; overflow: hidden\">\n",
       "<defs>\n",
       "<symbol id=\"icon-database\" viewBox=\"0 0 32 32\">\n",
       "<path d=\"M16 0c-8.837 0-16 2.239-16 5v4c0 2.761 7.163 5 16 5s16-2.239 16-5v-4c0-2.761-7.163-5-16-5z\"></path>\n",
       "<path d=\"M16 17c-8.837 0-16-2.239-16-5v6c0 2.761 7.163 5 16 5s16-2.239 16-5v-6c0 2.761-7.163 5-16 5z\"></path>\n",
       "<path d=\"M16 26c-8.837 0-16-2.239-16-5v6c0 2.761 7.163 5 16 5s16-2.239 16-5v-6c0 2.761-7.163 5-16 5z\"></path>\n",
       "</symbol>\n",
       "<symbol id=\"icon-file-text2\" viewBox=\"0 0 32 32\">\n",
       "<path d=\"M28.681 7.159c-0.694-0.947-1.662-2.053-2.724-3.116s-2.169-2.030-3.116-2.724c-1.612-1.182-2.393-1.319-2.841-1.319h-15.5c-1.378 0-2.5 1.121-2.5 2.5v27c0 1.378 1.122 2.5 2.5 2.5h23c1.378 0 2.5-1.122 2.5-2.5v-19.5c0-0.448-0.137-1.23-1.319-2.841zM24.543 5.457c0.959 0.959 1.712 1.825 2.268 2.543h-4.811v-4.811c0.718 0.556 1.584 1.309 2.543 2.268zM28 29.5c0 0.271-0.229 0.5-0.5 0.5h-23c-0.271 0-0.5-0.229-0.5-0.5v-27c0-0.271 0.229-0.5 0.5-0.5 0 0 15.499-0 15.5 0v7c0 0.552 0.448 1 1 1h7v19.5z\"></path>\n",
       "<path d=\"M23 26h-14c-0.552 0-1-0.448-1-1s0.448-1 1-1h14c0.552 0 1 0.448 1 1s-0.448 1-1 1z\"></path>\n",
       "<path d=\"M23 22h-14c-0.552 0-1-0.448-1-1s0.448-1 1-1h14c0.552 0 1 0.448 1 1s-0.448 1-1 1z\"></path>\n",
       "<path d=\"M23 18h-14c-0.552 0-1-0.448-1-1s0.448-1 1-1h14c0.552 0 1 0.448 1 1s-0.448 1-1 1z\"></path>\n",
       "</symbol>\n",
       "</defs>\n",
       "</svg>\n",
       "<style>/* CSS stylesheet for displaying xarray objects in jupyterlab.\n",
       " *\n",
       " */\n",
       "\n",
       ":root {\n",
       "  --xr-font-color0: var(--jp-content-font-color0, rgba(0, 0, 0, 1));\n",
       "  --xr-font-color2: var(--jp-content-font-color2, rgba(0, 0, 0, 0.54));\n",
       "  --xr-font-color3: var(--jp-content-font-color3, rgba(0, 0, 0, 0.38));\n",
       "  --xr-border-color: var(--jp-border-color2, #e0e0e0);\n",
       "  --xr-disabled-color: var(--jp-layout-color3, #bdbdbd);\n",
       "  --xr-background-color: var(--jp-layout-color0, white);\n",
       "  --xr-background-color-row-even: var(--jp-layout-color1, white);\n",
       "  --xr-background-color-row-odd: var(--jp-layout-color2, #eeeeee);\n",
       "}\n",
       "\n",
       "html[theme=dark],\n",
       "body[data-theme=dark],\n",
       "body.vscode-dark {\n",
       "  --xr-font-color0: rgba(255, 255, 255, 1);\n",
       "  --xr-font-color2: rgba(255, 255, 255, 0.54);\n",
       "  --xr-font-color3: rgba(255, 255, 255, 0.38);\n",
       "  --xr-border-color: #1F1F1F;\n",
       "  --xr-disabled-color: #515151;\n",
       "  --xr-background-color: #111111;\n",
       "  --xr-background-color-row-even: #111111;\n",
       "  --xr-background-color-row-odd: #313131;\n",
       "}\n",
       "\n",
       ".xr-wrap {\n",
       "  display: block !important;\n",
       "  min-width: 300px;\n",
       "  max-width: 700px;\n",
       "}\n",
       "\n",
       ".xr-text-repr-fallback {\n",
       "  /* fallback to plain text repr when CSS is not injected (untrusted notebook) */\n",
       "  display: none;\n",
       "}\n",
       "\n",
       ".xr-header {\n",
       "  padding-top: 6px;\n",
       "  padding-bottom: 6px;\n",
       "  margin-bottom: 4px;\n",
       "  border-bottom: solid 1px var(--xr-border-color);\n",
       "}\n",
       "\n",
       ".xr-header > div,\n",
       ".xr-header > ul {\n",
       "  display: inline;\n",
       "  margin-top: 0;\n",
       "  margin-bottom: 0;\n",
       "}\n",
       "\n",
       ".xr-obj-type,\n",
       ".xr-array-name {\n",
       "  margin-left: 2px;\n",
       "  margin-right: 10px;\n",
       "}\n",
       "\n",
       ".xr-obj-type {\n",
       "  color: var(--xr-font-color2);\n",
       "}\n",
       "\n",
       ".xr-sections {\n",
       "  padding-left: 0 !important;\n",
       "  display: grid;\n",
       "  grid-template-columns: 150px auto auto 1fr 20px 20px;\n",
       "}\n",
       "\n",
       ".xr-section-item {\n",
       "  display: contents;\n",
       "}\n",
       "\n",
       ".xr-section-item input {\n",
       "  display: none;\n",
       "}\n",
       "\n",
       ".xr-section-item input + label {\n",
       "  color: var(--xr-disabled-color);\n",
       "}\n",
       "\n",
       ".xr-section-item input:enabled + label {\n",
       "  cursor: pointer;\n",
       "  color: var(--xr-font-color2);\n",
       "}\n",
       "\n",
       ".xr-section-item input:enabled + label:hover {\n",
       "  color: var(--xr-font-color0);\n",
       "}\n",
       "\n",
       ".xr-section-summary {\n",
       "  grid-column: 1;\n",
       "  color: var(--xr-font-color2);\n",
       "  font-weight: 500;\n",
       "}\n",
       "\n",
       ".xr-section-summary > span {\n",
       "  display: inline-block;\n",
       "  padding-left: 0.5em;\n",
       "}\n",
       "\n",
       ".xr-section-summary-in:disabled + label {\n",
       "  color: var(--xr-font-color2);\n",
       "}\n",
       "\n",
       ".xr-section-summary-in + label:before {\n",
       "  display: inline-block;\n",
       "  content: '►';\n",
       "  font-size: 11px;\n",
       "  width: 15px;\n",
       "  text-align: center;\n",
       "}\n",
       "\n",
       ".xr-section-summary-in:disabled + label:before {\n",
       "  color: var(--xr-disabled-color);\n",
       "}\n",
       "\n",
       ".xr-section-summary-in:checked + label:before {\n",
       "  content: '▼';\n",
       "}\n",
       "\n",
       ".xr-section-summary-in:checked + label > span {\n",
       "  display: none;\n",
       "}\n",
       "\n",
       ".xr-section-summary,\n",
       ".xr-section-inline-details {\n",
       "  padding-top: 4px;\n",
       "  padding-bottom: 4px;\n",
       "}\n",
       "\n",
       ".xr-section-inline-details {\n",
       "  grid-column: 2 / -1;\n",
       "}\n",
       "\n",
       ".xr-section-details {\n",
       "  display: none;\n",
       "  grid-column: 1 / -1;\n",
       "  margin-bottom: 5px;\n",
       "}\n",
       "\n",
       ".xr-section-summary-in:checked ~ .xr-section-details {\n",
       "  display: contents;\n",
       "}\n",
       "\n",
       ".xr-array-wrap {\n",
       "  grid-column: 1 / -1;\n",
       "  display: grid;\n",
       "  grid-template-columns: 20px auto;\n",
       "}\n",
       "\n",
       ".xr-array-wrap > label {\n",
       "  grid-column: 1;\n",
       "  vertical-align: top;\n",
       "}\n",
       "\n",
       ".xr-preview {\n",
       "  color: var(--xr-font-color3);\n",
       "}\n",
       "\n",
       ".xr-array-preview,\n",
       ".xr-array-data {\n",
       "  padding: 0 5px !important;\n",
       "  grid-column: 2;\n",
       "}\n",
       "\n",
       ".xr-array-data,\n",
       ".xr-array-in:checked ~ .xr-array-preview {\n",
       "  display: none;\n",
       "}\n",
       "\n",
       ".xr-array-in:checked ~ .xr-array-data,\n",
       ".xr-array-preview {\n",
       "  display: inline-block;\n",
       "}\n",
       "\n",
       ".xr-dim-list {\n",
       "  display: inline-block !important;\n",
       "  list-style: none;\n",
       "  padding: 0 !important;\n",
       "  margin: 0;\n",
       "}\n",
       "\n",
       ".xr-dim-list li {\n",
       "  display: inline-block;\n",
       "  padding: 0;\n",
       "  margin: 0;\n",
       "}\n",
       "\n",
       ".xr-dim-list:before {\n",
       "  content: '(';\n",
       "}\n",
       "\n",
       ".xr-dim-list:after {\n",
       "  content: ')';\n",
       "}\n",
       "\n",
       ".xr-dim-list li:not(:last-child):after {\n",
       "  content: ',';\n",
       "  padding-right: 5px;\n",
       "}\n",
       "\n",
       ".xr-has-index {\n",
       "  font-weight: bold;\n",
       "}\n",
       "\n",
       ".xr-var-list,\n",
       ".xr-var-item {\n",
       "  display: contents;\n",
       "}\n",
       "\n",
       ".xr-var-item > div,\n",
       ".xr-var-item label,\n",
       ".xr-var-item > .xr-var-name span {\n",
       "  background-color: var(--xr-background-color-row-even);\n",
       "  margin-bottom: 0;\n",
       "}\n",
       "\n",
       ".xr-var-item > .xr-var-name:hover span {\n",
       "  padding-right: 5px;\n",
       "}\n",
       "\n",
       ".xr-var-list > li:nth-child(odd) > div,\n",
       ".xr-var-list > li:nth-child(odd) > label,\n",
       ".xr-var-list > li:nth-child(odd) > .xr-var-name span {\n",
       "  background-color: var(--xr-background-color-row-odd);\n",
       "}\n",
       "\n",
       ".xr-var-name {\n",
       "  grid-column: 1;\n",
       "}\n",
       "\n",
       ".xr-var-dims {\n",
       "  grid-column: 2;\n",
       "}\n",
       "\n",
       ".xr-var-dtype {\n",
       "  grid-column: 3;\n",
       "  text-align: right;\n",
       "  color: var(--xr-font-color2);\n",
       "}\n",
       "\n",
       ".xr-var-preview {\n",
       "  grid-column: 4;\n",
       "}\n",
       "\n",
       ".xr-index-preview {\n",
       "  grid-column: 2 / 5;\n",
       "  color: var(--xr-font-color2);\n",
       "}\n",
       "\n",
       ".xr-var-name,\n",
       ".xr-var-dims,\n",
       ".xr-var-dtype,\n",
       ".xr-preview,\n",
       ".xr-attrs dt {\n",
       "  white-space: nowrap;\n",
       "  overflow: hidden;\n",
       "  text-overflow: ellipsis;\n",
       "  padding-right: 10px;\n",
       "}\n",
       "\n",
       ".xr-var-name:hover,\n",
       ".xr-var-dims:hover,\n",
       ".xr-var-dtype:hover,\n",
       ".xr-attrs dt:hover {\n",
       "  overflow: visible;\n",
       "  width: auto;\n",
       "  z-index: 1;\n",
       "}\n",
       "\n",
       ".xr-var-attrs,\n",
       ".xr-var-data,\n",
       ".xr-index-data {\n",
       "  display: none;\n",
       "  background-color: var(--xr-background-color) !important;\n",
       "  padding-bottom: 5px !important;\n",
       "}\n",
       "\n",
       ".xr-var-attrs-in:checked ~ .xr-var-attrs,\n",
       ".xr-var-data-in:checked ~ .xr-var-data,\n",
       ".xr-index-data-in:checked ~ .xr-index-data {\n",
       "  display: block;\n",
       "}\n",
       "\n",
       ".xr-var-data > table {\n",
       "  float: right;\n",
       "}\n",
       "\n",
       ".xr-var-name span,\n",
       ".xr-var-data,\n",
       ".xr-index-name div,\n",
       ".xr-index-data,\n",
       ".xr-attrs {\n",
       "  padding-left: 25px !important;\n",
       "}\n",
       "\n",
       ".xr-attrs,\n",
       ".xr-var-attrs,\n",
       ".xr-var-data,\n",
       ".xr-index-data {\n",
       "  grid-column: 1 / -1;\n",
       "}\n",
       "\n",
       "dl.xr-attrs {\n",
       "  padding: 0;\n",
       "  margin: 0;\n",
       "  display: grid;\n",
       "  grid-template-columns: 125px auto;\n",
       "}\n",
       "\n",
       ".xr-attrs dt,\n",
       ".xr-attrs dd {\n",
       "  padding: 0;\n",
       "  margin: 0;\n",
       "  float: left;\n",
       "  padding-right: 10px;\n",
       "  width: auto;\n",
       "}\n",
       "\n",
       ".xr-attrs dt {\n",
       "  font-weight: normal;\n",
       "  grid-column: 1;\n",
       "}\n",
       "\n",
       ".xr-attrs dt:hover span {\n",
       "  display: inline-block;\n",
       "  background: var(--xr-background-color);\n",
       "  padding-right: 10px;\n",
       "}\n",
       "\n",
       ".xr-attrs dd {\n",
       "  grid-column: 2;\n",
       "  white-space: pre-wrap;\n",
       "  word-break: break-all;\n",
       "}\n",
       "\n",
       ".xr-icon-database,\n",
       ".xr-icon-file-text2,\n",
       ".xr-no-icon {\n",
       "  display: inline-block;\n",
       "  vertical-align: middle;\n",
       "  width: 1em;\n",
       "  height: 1.5em !important;\n",
       "  stroke-width: 0;\n",
       "  stroke: currentColor;\n",
       "  fill: currentColor;\n",
       "}\n",
       "</style><pre class='xr-text-repr-fallback'>&lt;xarray.Dataset&gt; Size: 3TB\n",
       "Dimensions:   (member: 40, time: 3432, lev: 50, j: 300, i: 360, bnds: 2)\n",
       "Coordinates:\n",
       "  * i         (i) int32 1kB 0 1 2 3 4 5 6 7 ... 352 353 354 355 356 357 358 359\n",
       "  * j         (j) int32 1kB 0 1 2 3 4 5 6 7 ... 292 293 294 295 296 297 298 299\n",
       "  * lev       (lev) float64 400B 5.0 15.0 25.0 ... 5.166e+03 5.499e+03 5.831e+03\n",
       "    lev_bnds  (lev, bnds) float64 800B dask.array&lt;chunksize=(50, 2), meta=np.ndarray&gt;\n",
       "  * member    (member) &lt;U9 1kB &#x27;r1i1p1f1&#x27; &#x27;r2i1p1f1&#x27; ... &#x27;r39i1p1f1&#x27; &#x27;r40i1p1f1&#x27;\n",
       "  * time      (time) object 27kB 2015-01-16 12:00:00 ... 2300-12-16 12:00:00\n",
       "Dimensions without coordinates: bnds\n",
       "Data variables:\n",
       "    chl       (member, time, lev, j, i) float32 3TB dask.array&lt;chunksize=(1, 12, 50, 300, 360), meta=np.ndarray&gt;\n",
       "Attributes: (12/59)\n",
       "    Conventions:                      CF-1.7 CMIP-6.2\n",
       "    NOTE on coordinates:              the multidimensional latitude and longi...\n",
       "    activity_id:                      ScenarioMIP\n",
       "    branch_method:                    standard\n",
       "    branch_time_in_child:             60265.0\n",
       "    branch_time_in_parent:            60265.0\n",
       "    ...                               ...\n",
       "    table_id:                         Omon\n",
       "    table_info:                       Creation Date:(30 April 2019) MD5:12ec2...\n",
       "    title:                            ACCESS-ESM1-5 output prepared for CMIP6\n",
       "    variable_id:                      chl\n",
       "    variant_label:                    r14i1p1f1\n",
       "    version:                          v20210525</pre><div class='xr-wrap' style='display:none'><div class='xr-header'><div class='xr-obj-type'>xarray.Dataset</div></div><ul class='xr-sections'><li class='xr-section-item'><input id='section-715cf746-8d2d-41e8-bab8-6ee1e33933ab' class='xr-section-summary-in' type='checkbox' disabled ><label for='section-715cf746-8d2d-41e8-bab8-6ee1e33933ab' class='xr-section-summary'  title='Expand/collapse section'>Dimensions:</label><div class='xr-section-inline-details'><ul class='xr-dim-list'><li><span class='xr-has-index'>member</span>: 40</li><li><span class='xr-has-index'>time</span>: 3432</li><li><span class='xr-has-index'>lev</span>: 50</li><li><span class='xr-has-index'>j</span>: 300</li><li><span class='xr-has-index'>i</span>: 360</li><li><span>bnds</span>: 2</li></ul></div><div class='xr-section-details'></div></li><li class='xr-section-item'><input id='section-279b073a-d5ba-4296-9815-452a56bdfb8d' class='xr-section-summary-in' type='checkbox'  checked><label for='section-279b073a-d5ba-4296-9815-452a56bdfb8d' class='xr-section-summary' >Coordinates: <span>(6)</span></label><div class='xr-section-inline-details'></div><div class='xr-section-details'><ul class='xr-var-list'><li class='xr-var-item'><div class='xr-var-name'><span class='xr-has-index'>i</span></div><div class='xr-var-dims'>(i)</div><div class='xr-var-dtype'>int32</div><div class='xr-var-preview xr-preview'>0 1 2 3 4 5 ... 355 356 357 358 359</div><input id='attrs-d0c59785-6995-4f3b-8e79-b159a410102d' class='xr-var-attrs-in' type='checkbox' ><label for='attrs-d0c59785-6995-4f3b-8e79-b159a410102d' title='Show/Hide attributes'><svg class='icon xr-icon-file-text2'><use xlink:href='#icon-file-text2'></use></svg></label><input id='data-fb337865-28a9-4479-bcc5-bd52b532448b' class='xr-var-data-in' type='checkbox'><label for='data-fb337865-28a9-4479-bcc5-bd52b532448b' title='Show/Hide data repr'><svg class='icon xr-icon-database'><use xlink:href='#icon-database'></use></svg></label><div class='xr-var-attrs'><dl class='xr-attrs'><dt><span>long_name :</span></dt><dd>cell index along first dimension</dd><dt><span>units :</span></dt><dd>1</dd></dl></div><div class='xr-var-data'><pre>array([  0,   1,   2, ..., 357, 358, 359], dtype=int32)</pre></div></li><li class='xr-var-item'><div class='xr-var-name'><span class='xr-has-index'>j</span></div><div class='xr-var-dims'>(j)</div><div class='xr-var-dtype'>int32</div><div class='xr-var-preview xr-preview'>0 1 2 3 4 5 ... 295 296 297 298 299</div><input id='attrs-b2e92eb8-00ee-4354-a7ff-918cd942057d' class='xr-var-attrs-in' type='checkbox' ><label for='attrs-b2e92eb8-00ee-4354-a7ff-918cd942057d' title='Show/Hide attributes'><svg class='icon xr-icon-file-text2'><use xlink:href='#icon-file-text2'></use></svg></label><input id='data-844028cf-1467-402b-ae91-a8ab8170de98' class='xr-var-data-in' type='checkbox'><label for='data-844028cf-1467-402b-ae91-a8ab8170de98' title='Show/Hide data repr'><svg class='icon xr-icon-database'><use xlink:href='#icon-database'></use></svg></label><div class='xr-var-attrs'><dl class='xr-attrs'><dt><span>long_name :</span></dt><dd>cell index along second dimension</dd><dt><span>units :</span></dt><dd>1</dd></dl></div><div class='xr-var-data'><pre>array([  0,   1,   2, ..., 297, 298, 299], dtype=int32)</pre></div></li><li class='xr-var-item'><div class='xr-var-name'><span class='xr-has-index'>lev</span></div><div class='xr-var-dims'>(lev)</div><div class='xr-var-dtype'>float64</div><div class='xr-var-preview xr-preview'>5.0 15.0 ... 5.499e+03 5.831e+03</div><input id='attrs-5a89fc45-8b86-424e-95d2-146bad045c63' class='xr-var-attrs-in' type='checkbox' ><label for='attrs-5a89fc45-8b86-424e-95d2-146bad045c63' title='Show/Hide attributes'><svg class='icon xr-icon-file-text2'><use xlink:href='#icon-file-text2'></use></svg></label><input id='data-c46afc0b-b61c-4368-ba3f-d31d4367d749' class='xr-var-data-in' type='checkbox'><label for='data-c46afc0b-b61c-4368-ba3f-d31d4367d749' title='Show/Hide data repr'><svg class='icon xr-icon-database'><use xlink:href='#icon-database'></use></svg></label><div class='xr-var-attrs'><dl class='xr-attrs'><dt><span>axis :</span></dt><dd>Z</dd><dt><span>bounds :</span></dt><dd>lev_bnds</dd><dt><span>long_name :</span></dt><dd>ocean depth coordinate</dd><dt><span>positive :</span></dt><dd>down</dd><dt><span>standard_name :</span></dt><dd>depth</dd><dt><span>units :</span></dt><dd>m</dd></dl></div><div class='xr-var-data'><pre>array([5.000000e+00, 1.500000e+01, 2.500000e+01, 3.500000e+01, 4.500000e+01,\n",
       "       5.500000e+01, 6.500000e+01, 7.500000e+01, 8.500000e+01, 9.500000e+01,\n",
       "       1.050000e+02, 1.150000e+02, 1.250000e+02, 1.350000e+02, 1.450000e+02,\n",
       "       1.550000e+02, 1.650000e+02, 1.750000e+02, 1.850000e+02, 1.950000e+02,\n",
       "       2.050000e+02, 2.168468e+02, 2.413490e+02, 2.807807e+02, 3.432505e+02,\n",
       "       4.273156e+02, 5.367156e+02, 6.654141e+02, 8.127816e+02, 9.690651e+02,\n",
       "       1.130935e+03, 1.289605e+03, 1.455770e+03, 1.622926e+03, 1.801558e+03,\n",
       "       1.984855e+03, 2.182905e+03, 2.388417e+03, 2.610935e+03, 2.842564e+03,\n",
       "       3.092205e+03, 3.351295e+03, 3.628058e+03, 3.913264e+03, 4.214495e+03,\n",
       "       4.521918e+03, 4.842566e+03, 5.166130e+03, 5.499245e+03, 5.831294e+03])</pre></div></li><li class='xr-var-item'><div class='xr-var-name'><span>lev_bnds</span></div><div class='xr-var-dims'>(lev, bnds)</div><div class='xr-var-dtype'>float64</div><div class='xr-var-preview xr-preview'>dask.array&lt;chunksize=(50, 2), meta=np.ndarray&gt;</div><input id='attrs-d44366bd-d438-459a-ba96-5584df6045ca' class='xr-var-attrs-in' type='checkbox' disabled><label for='attrs-d44366bd-d438-459a-ba96-5584df6045ca' title='Show/Hide attributes'><svg class='icon xr-icon-file-text2'><use xlink:href='#icon-file-text2'></use></svg></label><input id='data-9375c7c7-93bb-4098-a700-5ddef8c3f697' class='xr-var-data-in' type='checkbox'><label for='data-9375c7c7-93bb-4098-a700-5ddef8c3f697' title='Show/Hide data repr'><svg class='icon xr-icon-database'><use xlink:href='#icon-database'></use></svg></label><div class='xr-var-attrs'><dl class='xr-attrs'></dl></div><div class='xr-var-data'><table>\n",
       "    <tr>\n",
       "        <td>\n",
       "            <table style=\"border-collapse: collapse;\">\n",
       "                <thead>\n",
       "                    <tr>\n",
       "                        <td> </td>\n",
       "                        <th> Array </th>\n",
       "                        <th> Chunk </th>\n",
       "                    </tr>\n",
       "                </thead>\n",
       "                <tbody>\n",
       "                    \n",
       "                    <tr>\n",
       "                        <th> Bytes </th>\n",
       "                        <td> 800 B </td>\n",
       "                        <td> 800 B </td>\n",
       "                    </tr>\n",
       "                    \n",
       "                    <tr>\n",
       "                        <th> Shape </th>\n",
       "                        <td> (50, 2) </td>\n",
       "                        <td> (50, 2) </td>\n",
       "                    </tr>\n",
       "                    <tr>\n",
       "                        <th> Dask graph </th>\n",
       "                        <td colspan=\"2\"> 1 chunks in 2 graph layers </td>\n",
       "                    </tr>\n",
       "                    <tr>\n",
       "                        <th> Data type </th>\n",
       "                        <td colspan=\"2\"> float64 numpy.ndarray </td>\n",
       "                    </tr>\n",
       "                </tbody>\n",
       "            </table>\n",
       "        </td>\n",
       "        <td>\n",
       "        <svg width=\"83\" height=\"170\" style=\"stroke:rgb(0,0,0);stroke-width:1\" >\n",
       "\n",
       "  <!-- Horizontal lines -->\n",
       "  <line x1=\"0\" y1=\"0\" x2=\"33\" y2=\"0\" style=\"stroke-width:2\" />\n",
       "  <line x1=\"0\" y1=\"120\" x2=\"33\" y2=\"120\" style=\"stroke-width:2\" />\n",
       "\n",
       "  <!-- Vertical lines -->\n",
       "  <line x1=\"0\" y1=\"0\" x2=\"0\" y2=\"120\" style=\"stroke-width:2\" />\n",
       "  <line x1=\"33\" y1=\"0\" x2=\"33\" y2=\"120\" style=\"stroke-width:2\" />\n",
       "\n",
       "  <!-- Colored Rectangle -->\n",
       "  <polygon points=\"0.0,0.0 33.13387930424821,0.0 33.13387930424821,120.0 0.0,120.0\" style=\"fill:#ECB172A0;stroke-width:0\"/>\n",
       "\n",
       "  <!-- Text -->\n",
       "  <text x=\"16.566940\" y=\"140.000000\" font-size=\"1.0rem\" font-weight=\"100\" text-anchor=\"middle\" >2</text>\n",
       "  <text x=\"53.133879\" y=\"60.000000\" font-size=\"1.0rem\" font-weight=\"100\" text-anchor=\"middle\" transform=\"rotate(0,53.133879,60.000000)\">50</text>\n",
       "</svg>\n",
       "        </td>\n",
       "    </tr>\n",
       "</table></div></li><li class='xr-var-item'><div class='xr-var-name'><span class='xr-has-index'>member</span></div><div class='xr-var-dims'>(member)</div><div class='xr-var-dtype'>&lt;U9</div><div class='xr-var-preview xr-preview'>&#x27;r1i1p1f1&#x27; ... &#x27;r40i1p1f1&#x27;</div><input id='attrs-a5a51ac3-275e-4aa5-a084-93ffc0e7f9f2' class='xr-var-attrs-in' type='checkbox' disabled><label for='attrs-a5a51ac3-275e-4aa5-a084-93ffc0e7f9f2' title='Show/Hide attributes'><svg class='icon xr-icon-file-text2'><use xlink:href='#icon-file-text2'></use></svg></label><input id='data-6d5cd41a-6250-4b9a-bf3b-69ac425efb26' class='xr-var-data-in' type='checkbox'><label for='data-6d5cd41a-6250-4b9a-bf3b-69ac425efb26' title='Show/Hide data repr'><svg class='icon xr-icon-database'><use xlink:href='#icon-database'></use></svg></label><div class='xr-var-attrs'><dl class='xr-attrs'></dl></div><div class='xr-var-data'><pre>array([&#x27;r1i1p1f1&#x27;, &#x27;r2i1p1f1&#x27;, &#x27;r3i1p1f1&#x27;, &#x27;r4i1p1f1&#x27;, &#x27;r5i1p1f1&#x27;, &#x27;r6i1p1f1&#x27;,\n",
       "       &#x27;r7i1p1f1&#x27;, &#x27;r8i1p1f1&#x27;, &#x27;r9i1p1f1&#x27;, &#x27;r10i1p1f1&#x27;, &#x27;r11i1p1f1&#x27;,\n",
       "       &#x27;r12i1p1f1&#x27;, &#x27;r13i1p1f1&#x27;, &#x27;r14i1p1f1&#x27;, &#x27;r15i1p1f1&#x27;, &#x27;r16i1p1f1&#x27;,\n",
       "       &#x27;r17i1p1f1&#x27;, &#x27;r18i1p1f1&#x27;, &#x27;r19i1p1f1&#x27;, &#x27;r20i1p1f1&#x27;, &#x27;r21i1p1f1&#x27;,\n",
       "       &#x27;r22i1p1f1&#x27;, &#x27;r23i1p1f1&#x27;, &#x27;r24i1p1f1&#x27;, &#x27;r25i1p1f1&#x27;, &#x27;r26i1p1f1&#x27;,\n",
       "       &#x27;r27i1p1f1&#x27;, &#x27;r28i1p1f1&#x27;, &#x27;r29i1p1f1&#x27;, &#x27;r30i1p1f1&#x27;, &#x27;r31i1p1f1&#x27;,\n",
       "       &#x27;r32i1p1f1&#x27;, &#x27;r33i1p1f1&#x27;, &#x27;r34i1p1f1&#x27;, &#x27;r35i1p1f1&#x27;, &#x27;r36i1p1f1&#x27;,\n",
       "       &#x27;r37i1p1f1&#x27;, &#x27;r38i1p1f1&#x27;, &#x27;r39i1p1f1&#x27;, &#x27;r40i1p1f1&#x27;], dtype=&#x27;&lt;U9&#x27;)</pre></div></li><li class='xr-var-item'><div class='xr-var-name'><span class='xr-has-index'>time</span></div><div class='xr-var-dims'>(time)</div><div class='xr-var-dtype'>object</div><div class='xr-var-preview xr-preview'>2015-01-16 12:00:00 ... 2300-12-...</div><input id='attrs-33803b7f-ffdf-4a55-9b76-041b92b1e689' class='xr-var-attrs-in' type='checkbox' ><label for='attrs-33803b7f-ffdf-4a55-9b76-041b92b1e689' title='Show/Hide attributes'><svg class='icon xr-icon-file-text2'><use xlink:href='#icon-file-text2'></use></svg></label><input id='data-bac630a1-1d93-4c7a-937e-c21667641e1b' class='xr-var-data-in' type='checkbox'><label for='data-bac630a1-1d93-4c7a-937e-c21667641e1b' title='Show/Hide data repr'><svg class='icon xr-icon-database'><use xlink:href='#icon-database'></use></svg></label><div class='xr-var-attrs'><dl class='xr-attrs'><dt><span>axis :</span></dt><dd>T</dd><dt><span>bounds :</span></dt><dd>time_bnds</dd><dt><span>long_name :</span></dt><dd>time</dd><dt><span>standard_name :</span></dt><dd>time</dd></dl></div><div class='xr-var-data'><pre>array([cftime.DatetimeProlepticGregorian(2015, 1, 16, 12, 0, 0, 0, has_year_zero=True),\n",
       "       cftime.DatetimeProlepticGregorian(2015, 2, 15, 0, 0, 0, 0, has_year_zero=True),\n",
       "       cftime.DatetimeProlepticGregorian(2015, 3, 16, 12, 0, 0, 0, has_year_zero=True),\n",
       "       ...,\n",
       "       cftime.DatetimeProlepticGregorian(2300, 10, 16, 12, 0, 0, 0, has_year_zero=True),\n",
       "       cftime.DatetimeProlepticGregorian(2300, 11, 16, 0, 0, 0, 0, has_year_zero=True),\n",
       "       cftime.DatetimeProlepticGregorian(2300, 12, 16, 12, 0, 0, 0, has_year_zero=True)],\n",
       "      dtype=object)</pre></div></li></ul></div></li><li class='xr-section-item'><input id='section-69eda7a3-84ec-4863-a777-8785187dd779' class='xr-section-summary-in' type='checkbox'  checked><label for='section-69eda7a3-84ec-4863-a777-8785187dd779' class='xr-section-summary' >Data variables: <span>(1)</span></label><div class='xr-section-inline-details'></div><div class='xr-section-details'><ul class='xr-var-list'><li class='xr-var-item'><div class='xr-var-name'><span>chl</span></div><div class='xr-var-dims'>(member, time, lev, j, i)</div><div class='xr-var-dtype'>float32</div><div class='xr-var-preview xr-preview'>dask.array&lt;chunksize=(1, 12, 50, 300, 360), meta=np.ndarray&gt;</div><input id='attrs-e60690fc-e3d4-4b64-91b3-bb5e7755ef7e' class='xr-var-attrs-in' type='checkbox' ><label for='attrs-e60690fc-e3d4-4b64-91b3-bb5e7755ef7e' title='Show/Hide attributes'><svg class='icon xr-icon-file-text2'><use xlink:href='#icon-file-text2'></use></svg></label><input id='data-0451d87e-ab55-400c-94a8-76540e229112' class='xr-var-data-in' type='checkbox'><label for='data-0451d87e-ab55-400c-94a8-76540e229112' title='Show/Hide data repr'><svg class='icon xr-icon-database'><use xlink:href='#icon-database'></use></svg></label><div class='xr-var-attrs'><dl class='xr-attrs'><dt><span>cell_measures :</span></dt><dd>area: areacello volume: volcello</dd><dt><span>cell_methods :</span></dt><dd>area: mean where sea time: mean</dd><dt><span>comment :</span></dt><dd>Sum of chlorophyll from all phytoplankton group concentrations.  In most models this is equal to chldiat+chlmisc, that is the sum of Diatom Chlorophyll Mass Concentration and Other Phytoplankton Chlorophyll Mass Concentration</dd><dt><span>long_name :</span></dt><dd>Mass Concentration of Total Phytoplankton Expressed as Chlorophyll in Sea Water</dd><dt><span>standard_name :</span></dt><dd>mass_concentration_of_phytoplankton_expressed_as_chlorophyll_in_sea_water</dd><dt><span>units :</span></dt><dd>kg m-3</dd></dl></div><div class='xr-var-data'><table>\n",
       "    <tr>\n",
       "        <td>\n",
       "            <table style=\"border-collapse: collapse;\">\n",
       "                <thead>\n",
       "                    <tr>\n",
       "                        <td> </td>\n",
       "                        <th> Array </th>\n",
       "                        <th> Chunk </th>\n",
       "                    </tr>\n",
       "                </thead>\n",
       "                <tbody>\n",
       "                    \n",
       "                    <tr>\n",
       "                        <th> Bytes </th>\n",
       "                        <td> 2.70 TiB </td>\n",
       "                        <td> 247.19 MiB </td>\n",
       "                    </tr>\n",
       "                    \n",
       "                    <tr>\n",
       "                        <th> Shape </th>\n",
       "                        <td> (40, 3432, 50, 300, 360) </td>\n",
       "                        <td> (1, 12, 50, 300, 360) </td>\n",
       "                    </tr>\n",
       "                    <tr>\n",
       "                        <th> Dask graph </th>\n",
       "                        <td colspan=\"2\"> 11440 chunks in 2 graph layers </td>\n",
       "                    </tr>\n",
       "                    <tr>\n",
       "                        <th> Data type </th>\n",
       "                        <td colspan=\"2\"> float32 numpy.ndarray </td>\n",
       "                    </tr>\n",
       "                </tbody>\n",
       "            </table>\n",
       "        </td>\n",
       "        <td>\n",
       "        <svg width=\"484\" height=\"103\" style=\"stroke:rgb(0,0,0);stroke-width:1\" >\n",
       "\n",
       "  <!-- Horizontal lines -->\n",
       "  <line x1=\"0\" y1=\"0\" x2=\"120\" y2=\"0\" style=\"stroke-width:2\" />\n",
       "  <line x1=\"0\" y1=\"0\" x2=\"120\" y2=\"0\" />\n",
       "  <line x1=\"0\" y1=\"1\" x2=\"120\" y2=\"1\" />\n",
       "  <line x1=\"0\" y1=\"1\" x2=\"120\" y2=\"1\" />\n",
       "  <line x1=\"0\" y1=\"3\" x2=\"120\" y2=\"3\" />\n",
       "  <line x1=\"0\" y1=\"3\" x2=\"120\" y2=\"3\" />\n",
       "  <line x1=\"0\" y1=\"4\" x2=\"120\" y2=\"4\" />\n",
       "  <line x1=\"0\" y1=\"5\" x2=\"120\" y2=\"5\" />\n",
       "  <line x1=\"0\" y1=\"6\" x2=\"120\" y2=\"6\" />\n",
       "  <line x1=\"0\" y1=\"7\" x2=\"120\" y2=\"7\" />\n",
       "  <line x1=\"0\" y1=\"7\" x2=\"120\" y2=\"7\" />\n",
       "  <line x1=\"0\" y1=\"8\" x2=\"120\" y2=\"8\" />\n",
       "  <line x1=\"0\" y1=\"9\" x2=\"120\" y2=\"9\" />\n",
       "  <line x1=\"0\" y1=\"10\" x2=\"120\" y2=\"10\" />\n",
       "  <line x1=\"0\" y1=\"11\" x2=\"120\" y2=\"11\" />\n",
       "  <line x1=\"0\" y1=\"11\" x2=\"120\" y2=\"11\" />\n",
       "  <line x1=\"0\" y1=\"13\" x2=\"120\" y2=\"13\" />\n",
       "  <line x1=\"0\" y1=\"13\" x2=\"120\" y2=\"13\" />\n",
       "  <line x1=\"0\" y1=\"14\" x2=\"120\" y2=\"14\" />\n",
       "  <line x1=\"0\" y1=\"15\" x2=\"120\" y2=\"15\" />\n",
       "  <line x1=\"0\" y1=\"16\" x2=\"120\" y2=\"16\" />\n",
       "  <line x1=\"0\" y1=\"17\" x2=\"120\" y2=\"17\" />\n",
       "  <line x1=\"0\" y1=\"17\" x2=\"120\" y2=\"17\" />\n",
       "  <line x1=\"0\" y1=\"18\" x2=\"120\" y2=\"18\" />\n",
       "  <line x1=\"0\" y1=\"19\" x2=\"120\" y2=\"19\" />\n",
       "  <line x1=\"0\" y1=\"20\" x2=\"120\" y2=\"20\" />\n",
       "  <line x1=\"0\" y1=\"20\" x2=\"120\" y2=\"20\" />\n",
       "  <line x1=\"0\" y1=\"21\" x2=\"120\" y2=\"21\" />\n",
       "  <line x1=\"0\" y1=\"22\" x2=\"120\" y2=\"22\" />\n",
       "  <line x1=\"0\" y1=\"23\" x2=\"120\" y2=\"23\" />\n",
       "  <line x1=\"0\" y1=\"24\" x2=\"120\" y2=\"24\" />\n",
       "  <line x1=\"0\" y1=\"24\" x2=\"120\" y2=\"24\" />\n",
       "  <line x1=\"0\" y1=\"26\" x2=\"120\" y2=\"26\" style=\"stroke-width:2\" />\n",
       "\n",
       "  <!-- Vertical lines -->\n",
       "  <line x1=\"0\" y1=\"0\" x2=\"0\" y2=\"26\" style=\"stroke-width:2\" />\n",
       "  <line x1=\"3\" y1=\"0\" x2=\"3\" y2=\"26\" />\n",
       "  <line x1=\"7\" y1=\"0\" x2=\"7\" y2=\"26\" />\n",
       "  <line x1=\"10\" y1=\"0\" x2=\"10\" y2=\"26\" />\n",
       "  <line x1=\"14\" y1=\"0\" x2=\"14\" y2=\"26\" />\n",
       "  <line x1=\"18\" y1=\"0\" x2=\"18\" y2=\"26\" />\n",
       "  <line x1=\"22\" y1=\"0\" x2=\"22\" y2=\"26\" />\n",
       "  <line x1=\"26\" y1=\"0\" x2=\"26\" y2=\"26\" />\n",
       "  <line x1=\"29\" y1=\"0\" x2=\"29\" y2=\"26\" />\n",
       "  <line x1=\"33\" y1=\"0\" x2=\"33\" y2=\"26\" />\n",
       "  <line x1=\"37\" y1=\"0\" x2=\"37\" y2=\"26\" />\n",
       "  <line x1=\"41\" y1=\"0\" x2=\"41\" y2=\"26\" />\n",
       "  <line x1=\"44\" y1=\"0\" x2=\"44\" y2=\"26\" />\n",
       "  <line x1=\"48\" y1=\"0\" x2=\"48\" y2=\"26\" />\n",
       "  <line x1=\"52\" y1=\"0\" x2=\"52\" y2=\"26\" />\n",
       "  <line x1=\"56\" y1=\"0\" x2=\"56\" y2=\"26\" />\n",
       "  <line x1=\"60\" y1=\"0\" x2=\"60\" y2=\"26\" />\n",
       "  <line x1=\"63\" y1=\"0\" x2=\"63\" y2=\"26\" />\n",
       "  <line x1=\"67\" y1=\"0\" x2=\"67\" y2=\"26\" />\n",
       "  <line x1=\"70\" y1=\"0\" x2=\"70\" y2=\"26\" />\n",
       "  <line x1=\"74\" y1=\"0\" x2=\"74\" y2=\"26\" />\n",
       "  <line x1=\"78\" y1=\"0\" x2=\"78\" y2=\"26\" />\n",
       "  <line x1=\"82\" y1=\"0\" x2=\"82\" y2=\"26\" />\n",
       "  <line x1=\"86\" y1=\"0\" x2=\"86\" y2=\"26\" />\n",
       "  <line x1=\"89\" y1=\"0\" x2=\"89\" y2=\"26\" />\n",
       "  <line x1=\"93\" y1=\"0\" x2=\"93\" y2=\"26\" />\n",
       "  <line x1=\"97\" y1=\"0\" x2=\"97\" y2=\"26\" />\n",
       "  <line x1=\"101\" y1=\"0\" x2=\"101\" y2=\"26\" />\n",
       "  <line x1=\"104\" y1=\"0\" x2=\"104\" y2=\"26\" />\n",
       "  <line x1=\"108\" y1=\"0\" x2=\"108\" y2=\"26\" />\n",
       "  <line x1=\"112\" y1=\"0\" x2=\"112\" y2=\"26\" />\n",
       "  <line x1=\"116\" y1=\"0\" x2=\"116\" y2=\"26\" />\n",
       "  <line x1=\"120\" y1=\"0\" x2=\"120\" y2=\"26\" style=\"stroke-width:2\" />\n",
       "\n",
       "  <!-- Colored Rectangle -->\n",
       "  <polygon points=\"0.0,0.0 120.0,0.0 120.0,26.160854022424974 0.0,26.160854022424974\" style=\"fill:#8B4903A0;stroke-width:0\"/>\n",
       "\n",
       "  <!-- Text -->\n",
       "  <text x=\"60.000000\" y=\"46.160854\" font-size=\"1.0rem\" font-weight=\"100\" text-anchor=\"middle\" >3432</text>\n",
       "  <text x=\"140.000000\" y=\"13.080427\" font-size=\"1.0rem\" font-weight=\"100\" text-anchor=\"middle\" transform=\"rotate(0,140.000000,13.080427)\">40</text>\n",
       "\n",
       "\n",
       "  <!-- Horizontal lines -->\n",
       "  <line x1=\"190\" y1=\"0\" x2=\"206\" y2=\"16\" style=\"stroke-width:2\" />\n",
       "  <line x1=\"190\" y1=\"37\" x2=\"206\" y2=\"53\" style=\"stroke-width:2\" />\n",
       "\n",
       "  <!-- Vertical lines -->\n",
       "  <line x1=\"190\" y1=\"0\" x2=\"190\" y2=\"37\" style=\"stroke-width:2\" />\n",
       "  <line x1=\"206\" y1=\"16\" x2=\"206\" y2=\"53\" style=\"stroke-width:2\" />\n",
       "\n",
       "  <!-- Colored Rectangle -->\n",
       "  <polygon points=\"190.0,0.0 206.0612407359204,16.06124073592039 206.0612407359204,53.89983893292347 190.0,37.83859819700308\" style=\"fill:#ECB172A0;stroke-width:0\"/>\n",
       "\n",
       "  <!-- Horizontal lines -->\n",
       "  <line x1=\"190\" y1=\"0\" x2=\"228\" y2=\"0\" style=\"stroke-width:2\" />\n",
       "  <line x1=\"206\" y1=\"16\" x2=\"244\" y2=\"16\" style=\"stroke-width:2\" />\n",
       "\n",
       "  <!-- Vertical lines -->\n",
       "  <line x1=\"190\" y1=\"0\" x2=\"206\" y2=\"16\" style=\"stroke-width:2\" />\n",
       "  <line x1=\"228\" y1=\"0\" x2=\"244\" y2=\"16\" style=\"stroke-width:2\" />\n",
       "\n",
       "  <!-- Colored Rectangle -->\n",
       "  <polygon points=\"190.0,0.0 228.86000862047425,0.0 244.92124935639464,16.06124073592039 206.0612407359204,16.06124073592039\" style=\"fill:#ECB172A0;stroke-width:0\"/>\n",
       "\n",
       "  <!-- Horizontal lines -->\n",
       "  <line x1=\"206\" y1=\"16\" x2=\"244\" y2=\"16\" style=\"stroke-width:2\" />\n",
       "  <line x1=\"206\" y1=\"53\" x2=\"244\" y2=\"53\" style=\"stroke-width:2\" />\n",
       "\n",
       "  <!-- Vertical lines -->\n",
       "  <line x1=\"206\" y1=\"16\" x2=\"206\" y2=\"53\" style=\"stroke-width:2\" />\n",
       "  <line x1=\"244\" y1=\"16\" x2=\"244\" y2=\"53\" style=\"stroke-width:2\" />\n",
       "\n",
       "  <!-- Colored Rectangle -->\n",
       "  <polygon points=\"206.0612407359204,16.06124073592039 244.92124935639464,16.06124073592039 244.92124935639464,53.89983893292347 206.0612407359204,53.89983893292347\" style=\"fill:#ECB172A0;stroke-width:0\"/>\n",
       "\n",
       "  <!-- Text -->\n",
       "  <text x=\"225.491245\" y=\"73.899839\" font-size=\"1.0rem\" font-weight=\"100\" text-anchor=\"middle\" >360</text>\n",
       "  <text x=\"264.921249\" y=\"34.980540\" font-size=\"1.0rem\" font-weight=\"100\" text-anchor=\"middle\" transform=\"rotate(-90,264.921249,34.980540)\">300</text>\n",
       "  <text x=\"188.030620\" y=\"65.869219\" font-size=\"1.0rem\" font-weight=\"100\" text-anchor=\"middle\" transform=\"rotate(45,188.030620,65.869219)\">50</text>\n",
       "</svg>\n",
       "        </td>\n",
       "    </tr>\n",
       "</table></div></li></ul></div></li><li class='xr-section-item'><input id='section-f49abc58-60dc-471b-b37a-1e3dc1dd021b' class='xr-section-summary-in' type='checkbox'  ><label for='section-f49abc58-60dc-471b-b37a-1e3dc1dd021b' class='xr-section-summary' >Indexes: <span>(5)</span></label><div class='xr-section-inline-details'></div><div class='xr-section-details'><ul class='xr-var-list'><li class='xr-var-item'><div class='xr-index-name'><div>i</div></div><div class='xr-index-preview'>PandasIndex</div><div></div><input id='index-3fd3a3f3-5b29-4871-9e51-fabe6cf247b1' class='xr-index-data-in' type='checkbox'/><label for='index-3fd3a3f3-5b29-4871-9e51-fabe6cf247b1' title='Show/Hide index repr'><svg class='icon xr-icon-database'><use xlink:href='#icon-database'></use></svg></label><div class='xr-index-data'><pre>PandasIndex(Index([  0,   1,   2,   3,   4,   5,   6,   7,   8,   9,\n",
       "       ...\n",
       "       350, 351, 352, 353, 354, 355, 356, 357, 358, 359],\n",
       "      dtype=&#x27;int32&#x27;, name=&#x27;i&#x27;, length=360))</pre></div></li><li class='xr-var-item'><div class='xr-index-name'><div>j</div></div><div class='xr-index-preview'>PandasIndex</div><div></div><input id='index-33ce6d27-880f-4c82-88c5-c2f5e244c4f7' class='xr-index-data-in' type='checkbox'/><label for='index-33ce6d27-880f-4c82-88c5-c2f5e244c4f7' title='Show/Hide index repr'><svg class='icon xr-icon-database'><use xlink:href='#icon-database'></use></svg></label><div class='xr-index-data'><pre>PandasIndex(Index([  0,   1,   2,   3,   4,   5,   6,   7,   8,   9,\n",
       "       ...\n",
       "       290, 291, 292, 293, 294, 295, 296, 297, 298, 299],\n",
       "      dtype=&#x27;int32&#x27;, name=&#x27;j&#x27;, length=300))</pre></div></li><li class='xr-var-item'><div class='xr-index-name'><div>lev</div></div><div class='xr-index-preview'>PandasIndex</div><div></div><input id='index-2aa5eda5-22bc-4d1d-ac28-a1be67aa82d7' class='xr-index-data-in' type='checkbox'/><label for='index-2aa5eda5-22bc-4d1d-ac28-a1be67aa82d7' title='Show/Hide index repr'><svg class='icon xr-icon-database'><use xlink:href='#icon-database'></use></svg></label><div class='xr-index-data'><pre>PandasIndex(Index([               5.0,               15.0,               25.0,\n",
       "                     35.0,               45.0,               55.0,\n",
       "                     65.0,               75.0,               85.0,\n",
       "                     95.0,              105.0,              115.0,\n",
       "                    125.0,              135.0,              145.0,\n",
       "                    155.0,              165.0,              175.0,\n",
       "                    185.0,              195.0,              205.0,\n",
       "        216.8467559814453, 241.34901428222656,  280.7807312011719,\n",
       "        343.2504577636719,  427.3155517578125,  536.7156372070312,\n",
       "        665.4141235351562,  812.7816162109375,  969.0651245117188,\n",
       "       1130.9349365234375, 1289.6046142578125, 1455.7701416015625,\n",
       "       1622.9256591796875,   1801.55810546875, 1984.8546142578125,\n",
       "         2182.90478515625,   2388.41748046875,   2610.93505859375,\n",
       "           2842.564453125,  3092.204833984375,  3351.294677734375,\n",
       "          3628.0576171875,  3913.264404296875,    4214.4951171875,\n",
       "            4521.91796875,   4842.56591796875,    5166.1298828125,\n",
       "          5499.2451171875,   5831.29443359375],\n",
       "      dtype=&#x27;float64&#x27;, name=&#x27;lev&#x27;))</pre></div></li><li class='xr-var-item'><div class='xr-index-name'><div>member</div></div><div class='xr-index-preview'>PandasIndex</div><div></div><input id='index-2084f418-8a6a-4b8b-a406-5db4f767875b' class='xr-index-data-in' type='checkbox'/><label for='index-2084f418-8a6a-4b8b-a406-5db4f767875b' title='Show/Hide index repr'><svg class='icon xr-icon-database'><use xlink:href='#icon-database'></use></svg></label><div class='xr-index-data'><pre>PandasIndex(Index([&#x27;r1i1p1f1&#x27;, &#x27;r2i1p1f1&#x27;, &#x27;r3i1p1f1&#x27;, &#x27;r4i1p1f1&#x27;, &#x27;r5i1p1f1&#x27;, &#x27;r6i1p1f1&#x27;,\n",
       "       &#x27;r7i1p1f1&#x27;, &#x27;r8i1p1f1&#x27;, &#x27;r9i1p1f1&#x27;, &#x27;r10i1p1f1&#x27;, &#x27;r11i1p1f1&#x27;,\n",
       "       &#x27;r12i1p1f1&#x27;, &#x27;r13i1p1f1&#x27;, &#x27;r14i1p1f1&#x27;, &#x27;r15i1p1f1&#x27;, &#x27;r16i1p1f1&#x27;,\n",
       "       &#x27;r17i1p1f1&#x27;, &#x27;r18i1p1f1&#x27;, &#x27;r19i1p1f1&#x27;, &#x27;r20i1p1f1&#x27;, &#x27;r21i1p1f1&#x27;,\n",
       "       &#x27;r22i1p1f1&#x27;, &#x27;r23i1p1f1&#x27;, &#x27;r24i1p1f1&#x27;, &#x27;r25i1p1f1&#x27;, &#x27;r26i1p1f1&#x27;,\n",
       "       &#x27;r27i1p1f1&#x27;, &#x27;r28i1p1f1&#x27;, &#x27;r29i1p1f1&#x27;, &#x27;r30i1p1f1&#x27;, &#x27;r31i1p1f1&#x27;,\n",
       "       &#x27;r32i1p1f1&#x27;, &#x27;r33i1p1f1&#x27;, &#x27;r34i1p1f1&#x27;, &#x27;r35i1p1f1&#x27;, &#x27;r36i1p1f1&#x27;,\n",
       "       &#x27;r37i1p1f1&#x27;, &#x27;r38i1p1f1&#x27;, &#x27;r39i1p1f1&#x27;, &#x27;r40i1p1f1&#x27;],\n",
       "      dtype=&#x27;object&#x27;, name=&#x27;member&#x27;))</pre></div></li><li class='xr-var-item'><div class='xr-index-name'><div>time</div></div><div class='xr-index-preview'>PandasIndex</div><div></div><input id='index-a6763faf-2a42-46d5-bfcc-bbf50a1fb11d' class='xr-index-data-in' type='checkbox'/><label for='index-a6763faf-2a42-46d5-bfcc-bbf50a1fb11d' title='Show/Hide index repr'><svg class='icon xr-icon-database'><use xlink:href='#icon-database'></use></svg></label><div class='xr-index-data'><pre>PandasIndex(CFTimeIndex([2015-01-16 12:00:00, 2015-02-15 00:00:00, 2015-03-16 12:00:00,\n",
       "             2015-04-16 00:00:00, 2015-05-16 12:00:00, 2015-06-16 00:00:00,\n",
       "             2015-07-16 12:00:00, 2015-08-16 12:00:00, 2015-09-16 00:00:00,\n",
       "             2015-10-16 12:00:00,\n",
       "             ...\n",
       "             2300-03-16 12:00:00, 2300-04-16 00:00:00, 2300-05-16 12:00:00,\n",
       "             2300-06-16 00:00:00, 2300-07-16 12:00:00, 2300-08-16 12:00:00,\n",
       "             2300-09-16 00:00:00, 2300-10-16 12:00:00, 2300-11-16 00:00:00,\n",
       "             2300-12-16 12:00:00],\n",
       "            dtype=&#x27;object&#x27;,\n",
       "            length=3432,\n",
       "            calendar=&#x27;proleptic_gregorian&#x27;,\n",
       "            freq=None))</pre></div></li></ul></div></li><li class='xr-section-item'><input id='section-368dde50-72cf-4b9a-a4d1-3b1e78aeed41' class='xr-section-summary-in' type='checkbox'  ><label for='section-368dde50-72cf-4b9a-a4d1-3b1e78aeed41' class='xr-section-summary' >Attributes: <span>(59)</span></label><div class='xr-section-inline-details'></div><div class='xr-section-details'><dl class='xr-attrs'><dt><span>Conventions :</span></dt><dd>CF-1.7 CMIP-6.2</dd><dt><span>NOTE on coordinates :</span></dt><dd>the multidimensional latitude and longitude coordinates have been saved as a separate NetCDF file</dd><dt><span>activity_id :</span></dt><dd>ScenarioMIP</dd><dt><span>branch_method :</span></dt><dd>standard</dd><dt><span>branch_time_in_child :</span></dt><dd>60265.0</dd><dt><span>branch_time_in_parent :</span></dt><dd>60265.0</dd><dt><span>cmor_version :</span></dt><dd>3.4.0</dd><dt><span>coords_filename :</span></dt><dd>/scratch/es60/ard/models/ACCESS-ESM15/ARD/coords/ACCESS-ESM1.5_chl_coords_20241206_152100.nc</dd><dt><span>data_specs_version :</span></dt><dd>01.00.30</dd><dt><span>experiment :</span></dt><dd>update of RCP2.6 based on SSP1</dd><dt><span>experiment_id :</span></dt><dd>ssp126</dd><dt><span>external_variables :</span></dt><dd>areacello volcello</dd><dt><span>forcing_index :</span></dt><dd>1</dd><dt><span>frequency :</span></dt><dd>mon</dd><dt><span>further_info_url :</span></dt><dd>https://furtherinfo.es-doc.org/CMIP6.CSIRO.ACCESS-ESM1-5.ssp126.none.r14i1p1f1</dd><dt><span>grid :</span></dt><dd>native atmosphere N96 grid (145x192 latxlon)</dd><dt><span>grid_label :</span></dt><dd>gn</dd><dt><span>initialization_index :</span></dt><dd>1</dd><dt><span>institution :</span></dt><dd>Commonwealth Scientific and Industrial Research Organisation, Aspendale, Victoria 3195, Australia</dd><dt><span>institution_id :</span></dt><dd>CSIRO</dd><dt><span>intake_esm_attrs:_data_format_ :</span></dt><dd>netcdf</dd><dt><span>intake_esm_attrs:activity_id :</span></dt><dd>ScenarioMIP</dd><dt><span>intake_esm_attrs:experiment_id :</span></dt><dd>ssp126</dd><dt><span>intake_esm_attrs:grid_label :</span></dt><dd>gn</dd><dt><span>intake_esm_attrs:institution_id :</span></dt><dd>CSIRO</dd><dt><span>intake_esm_attrs:member_id :</span></dt><dd>r14i1p1f1</dd><dt><span>intake_esm_attrs:project :</span></dt><dd>CMIP6</dd><dt><span>intake_esm_attrs:source_id :</span></dt><dd>ACCESS-ESM1-5</dd><dt><span>intake_esm_attrs:table_id :</span></dt><dd>Omon</dd><dt><span>intake_esm_attrs:variable_id :</span></dt><dd>chl</dd><dt><span>intake_esm_attrs:version :</span></dt><dd>v20210525</dd><dt><span>intake_esm_dataset_key :</span></dt><dd>CMIP6.ScenarioMIP.CSIRO.ACCESS-ESM1-5.ssp126.r14i1p1f1.Omon.chl.gn.v20210525</dd><dt><span>intake_esm_vars :</span></dt><dd>[&#x27;chl&#x27;]</dd><dt><span>license :</span></dt><dd>CMIP6 model data produced by CSIRO is licensed under a Creative Commons Attribution-ShareAlike 4.0 International License (https://creativecommons.org/licenses/). Consult https://pcmdi.llnl.gov/CMIP6/TermsOfUse for terms of use governing CMIP6 output, including citation requirements and proper acknowledgment.  Further information about this data, including some limitations, can be found via the further_info_url (recorded as a global attribute in this file). The data producers and data providers make no warranty, either express or implied, including, but not limited to, warranties of merchantability and fitness for a particular purpose. All liabilities arising from the supply of the information (including any liability arising in negligence) are excluded to the fullest extent permitted by law.</dd><dt><span>mip_era :</span></dt><dd>CMIP6</dd><dt><span>nominal_resolution :</span></dt><dd>250 km</dd><dt><span>notes :</span></dt><dd>Exp: ESM-ssp126; Local ID: SSP-126-18; Variable: chl ([&#x27;phy&#x27;])</dd><dt><span>parent_activity_id :</span></dt><dd>CMIP</dd><dt><span>parent_experiment_id :</span></dt><dd>historical</dd><dt><span>parent_mip_era :</span></dt><dd>CMIP6</dd><dt><span>parent_source_id :</span></dt><dd>ACCESS-ESM1-5</dd><dt><span>parent_time_units :</span></dt><dd>days since 1850-1-1</dd><dt><span>parent_variant_label :</span></dt><dd>r14i1p1f1</dd><dt><span>physics_index :</span></dt><dd>1</dd><dt><span>product :</span></dt><dd>model-output</dd><dt><span>realization_index :</span></dt><dd>14</dd><dt><span>realm :</span></dt><dd>ocnBgchem</dd><dt><span>run_variant :</span></dt><dd>forcing: GHG, Oz, SA, Sl, Vl, BC, OC, (GHG = CO2, N2O, CH4, CFC11, CFC12, CFC113, HCFC22, HFC125, HFC134a)</dd><dt><span>source :</span></dt><dd>ACCESS-ESM1.5 (2019): \n",
       "aerosol: CLASSIC (v1.0)\n",
       "atmos: HadGAM2 (r1.1, N96; 192 x 145 longitude/latitude; 38 levels; top level 39255 m)\n",
       "atmosChem: none\n",
       "land: CABLE2.4\n",
       "landIce: none\n",
       "ocean: ACCESS-OM2 (MOM5, tripolar primarily 1deg; 360 x 300 longitude/latitude; 50 levels; top grid cell 0-10 m)\n",
       "ocnBgchem: WOMBAT (same grid as ocean)\n",
       "seaIce: CICE4.1 (same grid as ocean)</dd><dt><span>source_id :</span></dt><dd>ACCESS-ESM1-5</dd><dt><span>source_type :</span></dt><dd>AOGCM</dd><dt><span>sub_experiment :</span></dt><dd>none</dd><dt><span>sub_experiment_id :</span></dt><dd>none</dd><dt><span>table_id :</span></dt><dd>Omon</dd><dt><span>table_info :</span></dt><dd>Creation Date:(30 April 2019) MD5:12ec21eb48eb992c2e353382c1c903b1</dd><dt><span>title :</span></dt><dd>ACCESS-ESM1-5 output prepared for CMIP6</dd><dt><span>variable_id :</span></dt><dd>chl</dd><dt><span>variant_label :</span></dt><dd>r14i1p1f1</dd><dt><span>version :</span></dt><dd>v20210525</dd></dl></div></li></ul></div></div>"
      ],
      "text/plain": [
       "<xarray.Dataset> Size: 3TB\n",
       "Dimensions:   (member: 40, time: 3432, lev: 50, j: 300, i: 360, bnds: 2)\n",
       "Coordinates:\n",
       "  * i         (i) int32 1kB 0 1 2 3 4 5 6 7 ... 352 353 354 355 356 357 358 359\n",
       "  * j         (j) int32 1kB 0 1 2 3 4 5 6 7 ... 292 293 294 295 296 297 298 299\n",
       "  * lev       (lev) float64 400B 5.0 15.0 25.0 ... 5.166e+03 5.499e+03 5.831e+03\n",
       "    lev_bnds  (lev, bnds) float64 800B dask.array<chunksize=(50, 2), meta=np.ndarray>\n",
       "  * member    (member) <U9 1kB 'r1i1p1f1' 'r2i1p1f1' ... 'r39i1p1f1' 'r40i1p1f1'\n",
       "  * time      (time) object 27kB 2015-01-16 12:00:00 ... 2300-12-16 12:00:00\n",
       "Dimensions without coordinates: bnds\n",
       "Data variables:\n",
       "    chl       (member, time, lev, j, i) float32 3TB dask.array<chunksize=(1, 12, 50, 300, 360), meta=np.ndarray>\n",
       "Attributes: (12/59)\n",
       "    Conventions:                      CF-1.7 CMIP-6.2\n",
       "    NOTE on coordinates:              the multidimensional latitude and longi...\n",
       "    activity_id:                      ScenarioMIP\n",
       "    branch_method:                    standard\n",
       "    branch_time_in_child:             60265.0\n",
       "    branch_time_in_parent:            60265.0\n",
       "    ...                               ...\n",
       "    table_id:                         Omon\n",
       "    table_info:                       Creation Date:(30 April 2019) MD5:12ec2...\n",
       "    title:                            ACCESS-ESM1-5 output prepared for CMIP6\n",
       "    variable_id:                      chl\n",
       "    variant_label:                    r14i1p1f1\n",
       "    version:                          v20210525"
      ]
     },
     "execution_count": 8,
     "metadata": {},
     "output_type": "execute_result"
    }
   ],
   "source": [
    "import xarray as xr\n",
    "print(current_datetime)\n",
    "ds = xr.open_zarr(filename,consolidated=True)\n",
    "ds"
   ]
  },
  {
   "cell_type": "code",
   "execution_count": 9,
   "id": "280a90fe-8917-423c-9671-cdfd85a1715a",
   "metadata": {},
   "outputs": [
    {
     "data": {
      "text/plain": [
       "[<matplotlib.lines.Line2D at 0x1550a5d5ce50>]"
      ]
     },
     "execution_count": 9,
     "metadata": {},
     "output_type": "execute_result"
    },
    {
     "data": {
      "image/png": "[encoded data removed]",
      "text/plain": [
       "<Figure size 640x480 with 1 Axes>"
      ]
     },
     "metadata": {},
     "output_type": "display_data"
    }
   ],
   "source": [
    "ds[load_config('job_config.yaml')['catalog_search_query_dict']['variable_id']].isel(time=1000).isel(lev=0).mean(dim=['i','j']).plot()"
   ]
  },
  {
   "cell_type": "code",
   "execution_count": null,
   "id": "4424b688-e396-487c-8dfa-b6c6299a5f18",
   "metadata": {},
   "outputs": [],
   "source": []
  },
  {
   "cell_type": "code",
   "execution_count": null,
   "id": "586e2784-2b8f-4d7b-a076-a7ce705efbb3",
   "metadata": {},
   "outputs": [],
   "source": []
  },
  {
   "cell_type": "code",
   "execution_count": null,
   "id": "3fa12bb0-3e3d-47bf-98a0-48d42e4cd6f2",
   "metadata": {},
   "outputs": [],
   "source": []
  },
  {
   "cell_type": "code",
   "execution_count": null,
   "id": "ab169b68-35b4-4db5-aef2-06fd83423f62",
   "metadata": {},
   "outputs": [],
   "source": []
  },
  {
   "cell_type": "code",
   "execution_count": null,
   "id": "a59163d4-960f-459d-a95c-cbd0451ee68f",
   "metadata": {},
   "outputs": [],
   "source": []
  },
  {
   "cell_type": "markdown",
   "id": "34ff8424-e03b-43a6-aa5a-0632284e71bd",
   "metadata": {},
   "source": [
    "## utilise CMIP6 data catalogs for NCI holdings"
   ]
  },
  {
   "cell_type": "markdown",
   "id": "6a82586a-8ca1-47b9-9794-ddfad8cccd43",
   "metadata": {},
   "source": [
    "##### Information on climate data catalogs across Australian HPC\n",
    "\n",
    "**ACCESS-NRI** https://access-nri-intake-catalog.readthedocs.io/en/latest/usage/how.html <br>\n",
    "**NCI** https://opus.nci.org.au/pages/viewpage.action?pageId=213713098\n"
   ]
  },
  {
   "cell_type": "markdown",
   "id": "4caad95a-0596-4d57-9e83-e8a390dd99a9",
   "metadata": {
    "jp-MarkdownHeadingCollapsed": true
   },
   "source": [
    "##### $\\bigstar$ Get inspiration from ACCESS-NRI intake catalog docs: ACCESS-ESM1-5 CMIP6 example\n",
    "https://access-nri-intake-catalog.readthedocs.io/en/latest/usage/quickstart.html"
   ]
  },
  {
   "cell_type": "markdown",
   "id": "f13e29a8-ca33-4e22-9755-252be78c1800",
   "metadata": {},
   "source": [
    "## import packages"
   ]
  },
  {
   "cell_type": "code",
   "execution_count": null,
   "id": "0b6b05c0-eb4c-4095-b55f-e70b077a10b4",
   "metadata": {},
   "outputs": [],
   "source": [
    "import intake\n",
    "import xarray as xr\n",
    "import numpy as np\n",
    "import gc\n",
    "import json"
   ]
  },
  {
   "cell_type": "markdown",
   "id": "d7658e34-4789-4e9c-a087-64f4e10c504c",
   "metadata": {},
   "source": [
    "### import the ACCESS-NRI catalog"
   ]
  },
  {
   "cell_type": "code",
   "execution_count": null,
   "id": "36899205-6bf0-47c1-8e4a-555bac3a2b9d",
   "metadata": {},
   "outputs": [],
   "source": [
    "catalog = intake.cat.access_nri"
   ]
  },
  {
   "cell_type": "markdown",
   "id": "2af409ca-3553-4ab3-9804-95005f72ac21",
   "metadata": {},
   "source": [
    "### (1) \"I know I want Australian CMIP6 data - so that's fs38 and I need access to that NCI project\""
   ]
  },
  {
   "cell_type": "code",
   "execution_count": null,
   "id": "94c7b943-6547-4793-9b57-efa835e3a863",
   "metadata": {},
   "outputs": [],
   "source": [
    "cmip6_fs38_datastore = catalog.search(name='cmip6_fs38').to_source()"
   ]
  },
  {
   "cell_type": "markdown",
   "id": "aaba1469-c576-4ca0-96b0-38d1ed9ad465",
   "metadata": {},
   "source": [
    "### (2) \"what are the realms covered by cmip6_fs38?\""
   ]
  },
  {
   "cell_type": "code",
   "execution_count": null,
   "id": "f6b104fc-662a-4f76-8578-b9c7acc26e10",
   "metadata": {},
   "outputs": [],
   "source": [
    "report_esm_unique(cmip6_fs38_datastore,keep_list=['realm'])"
   ]
  },
  {
   "cell_type": "markdown",
   "id": "a144145f-d93c-4a82-bcb3-cdb957b3f6dd",
   "metadata": {},
   "source": [
    "### (3) I want to see what variables, over what frequencies, are available in both the 'ocean' & 'oceanBgchem' realms"
   ]
  },
  {
   "cell_type": "code",
   "execution_count": null,
   "id": "27581c4c-5bf1-4338-ad57-f7f94ba5e0e0",
   "metadata": {},
   "outputs": [],
   "source": [
    "cmip6_fs38_ocean_datastore = cmip6_fs38_datastore.search(realm=['ocean','ocnBgchem'])"
   ]
  },
  {
   "cell_type": "code",
   "execution_count": null,
   "id": "bae92dd2-ec5e-47d8-9062-debc67734100",
   "metadata": {
    "scrolled": true
   },
   "outputs": [],
   "source": [
    "[sorted_unique_dict, table_data] = report_esm_unique(cmip6_fs38_ocean_datastore,return_results=True)"
   ]
  },
  {
   "cell_type": "markdown",
   "id": "f6ec2e28-132d-4233-a22d-fd6e027ab2a8",
   "metadata": {},
   "source": [
    "## what is the long name of a particular variable?"
   ]
  },
  {
   "cell_type": "code",
   "execution_count": null,
   "id": "f9e1f15c-533a-4c33-ba0f-ada8e07b5399",
   "metadata": {
    "scrolled": true
   },
   "outputs": [],
   "source": [
    "var_name_info(cmip6_fs38_ocean_datastore,'intpp')"
   ]
  },
  {
   "cell_type": "markdown",
   "id": "8e941431-ba02-41d4-aad8-6217f0658a0f",
   "metadata": {},
   "source": [
    "## filter catalog for final ACCESS-ESM1.5 dataset"
   ]
  },
  {
   "cell_type": "code",
   "execution_count": null,
   "id": "9cfe8097-494d-4187-8e9e-4e741499bfa6",
   "metadata": {},
   "outputs": [],
   "source": [
    "final_search = cmip6_fs38_ocean_datastore.search(file_type='l',\n",
    "                    variable_id='intpp',source_id='ACCESS-ESM1-5',experiment_id='historical')"
   ]
  },
  {
   "cell_type": "code",
   "execution_count": null,
   "id": "aded047f-d413-4235-bc58-407d143bd4ca",
   "metadata": {},
   "outputs": [],
   "source": [
    "report_esm_unique(final_search)"
   ]
  },
  {
   "cell_type": "markdown",
   "id": "d36a2d20-9cf1-46da-a9b7-38fade30dd64",
   "metadata": {},
   "source": [
    "## what is the chunking of the files in this final_search catalog?"
   ]
  },
  {
   "cell_type": "code",
   "execution_count": null,
   "id": "e3613380-60b7-4ea7-a6f7-cfdfe936c9c9",
   "metadata": {},
   "outputs": [],
   "source": [
    "final_search.df['path'].iloc[0]"
   ]
  },
  {
   "cell_type": "code",
   "execution_count": null,
   "id": "bbe2d392-1f07-41cf-a12d-3d27403e7418",
   "metadata": {},
   "outputs": [],
   "source": [
    "find_chunking_info(final_search,'intpp',return_results=False)"
   ]
  },
  {
   "cell_type": "markdown",
   "id": "5c5498b2-b0b2-4012-9be7-2eae85487bf8",
   "metadata": {},
   "source": [
    "## load without specifying any chunking"
   ]
  },
  {
   "cell_type": "code",
   "execution_count": null,
   "id": "0d946d73-29be-42a7-8f02-6c622f0d4277",
   "metadata": {},
   "outputs": [],
   "source": [
    "%%time\n",
    "ds_ESM15_esorted = load_ACCESS_ESM_ensemble(final_search)"
   ]
  },
  {
   "cell_type": "code",
   "execution_count": null,
   "id": "2e8bf991-5212-438e-a82d-70cfefd873b8",
   "metadata": {},
   "outputs": [],
   "source": [
    "ds_ESM15_esorted"
   ]
  },
  {
   "cell_type": "markdown",
   "id": "da300175-a28a-4090-9992-f53b9e9f3994",
   "metadata": {},
   "source": [
    "#### One still needs to know what dimensions (1, 300, 360 ; ) refers to and something about MB size per chunk to set the time to 220 . . . these rules of thumb should be in the yaml settings file until much more complicated heuristics could be coded"
   ]
  },
  {
   "cell_type": "code",
   "execution_count": null,
   "id": "d7b136e0-30f5-4096-a5f5-d71a3d92b0b3",
   "metadata": {},
   "outputs": [],
   "source": [
    "%%time\n",
    "ds_ESM15_esorted = load_ACCESS_ESM_ensemble(final_search,chunking_settings={'chunks':{'member':1,'time':220,'j':300,'i':360}})"
   ]
  },
  {
   "cell_type": "code",
   "execution_count": null,
   "id": "63ead743-6362-4949-8f26-1f2b81beb451",
   "metadata": {},
   "outputs": [],
   "source": [
    "ds_ESM15_esorted"
   ]
  },
  {
   "cell_type": "code",
   "execution_count": null,
   "id": "11eb1573-f577-409c-ad15-afe1dc7716c2",
   "metadata": {},
   "outputs": [],
   "source": [
    "%%time\n",
    "ds_ESM15_esorted = load_ACCESS_ESM_ensemble(final_search,chunking_key='ACCESS_ESM15_2D')"
   ]
  },
  {
   "cell_type": "code",
   "execution_count": null,
   "id": "13e76dea-0d76-473a-affa-dddc400b0f03",
   "metadata": {},
   "outputs": [],
   "source": [
    "ds_ESM15_esorted"
   ]
  },
  {
   "cell_type": "code",
   "execution_count": null,
   "id": "bfe1f724-a5b6-47b9-8733-541730ea942a",
   "metadata": {},
   "outputs": [],
   "source": [
    "ds_ESM15_esorted.isel(member=0).mean('time').intpp.plot()"
   ]
  },
  {
   "cell_type": "markdown",
   "id": "89da06cc-4075-45a1-a3c3-135256b285b6",
   "metadata": {},
   "source": [
    "## 3D dataset?"
   ]
  },
  {
   "cell_type": "code",
   "execution_count": null,
   "id": "d32c6dec-493b-4e9a-bfd1-4368cbc04efe",
   "metadata": {},
   "outputs": [],
   "source": [
    "thetao_search = cmip6_fs38_ocean_datastore.search(file_type='l',\n",
    "                    variable_id='thetao',source_id='ACCESS-ESM1-5',experiment_id='historical')"
   ]
  },
  {
   "cell_type": "code",
   "execution_count": null,
   "id": "5b71b02d-460e-4843-8eaf-eedca514a488",
   "metadata": {},
   "outputs": [],
   "source": [
    "report_esm_unique(thetao_search)"
   ]
  },
  {
   "cell_type": "code",
   "execution_count": null,
   "id": "deea68a9-1b34-498d-9e98-f5b323f8ec46",
   "metadata": {},
   "outputs": [],
   "source": [
    "find_chunking_info(thetao_search,'thetao',return_results=False)"
   ]
  },
  {
   "cell_type": "code",
   "execution_count": null,
   "id": "61745e7f-ea3a-4780-a295-b7e8b5fa2c6e",
   "metadata": {},
   "outputs": [],
   "source": [
    "find_chunking_info(thetao_search,'thetao',return_results=True)"
   ]
  },
  {
   "cell_type": "code",
   "execution_count": null,
   "id": "cbabe34f-e1d6-4daa-b8de-3e07e7578919",
   "metadata": {},
   "outputs": [],
   "source": [
    "xr.open_mfdataset('/g/data/fs38/publications/CMIP6/CMIP/CSIRO/ACCESS-ESM1-5/historical/r3i1p1f1/Omon/thetao/gn/v20191203/thetao_Omon_ACCESS-ESM1-5_historical_r3i1p1f1_gn_189001-189912.nc')"
   ]
  },
  {
   "cell_type": "code",
   "execution_count": null,
   "id": "6b69d82a-f6f5-4761-8ebb-82136940e04c",
   "metadata": {},
   "outputs": [],
   "source": [
    "%%time\n",
    "ds_ESM15_esorted = load_ACCESS_ESM_ensemble(thetao_search)"
   ]
  },
  {
   "cell_type": "code",
   "execution_count": null,
   "id": "6bced19a-9d0e-4cdc-84cc-3ba6ac30ab44",
   "metadata": {},
   "outputs": [],
   "source": [
    "ds_ESM15_esorted"
   ]
  },
  {
   "cell_type": "code",
   "execution_count": null,
   "id": "1dab745c-8e8b-4609-9846-a62a59df095a",
   "metadata": {},
   "outputs": [],
   "source": [
    "%%time\n",
    "ds_ESM15_esorted = load_ACCESS_ESM_ensemble(thetao_search,chunking_key='ACCESS_ESM15_3D')"
   ]
  },
  {
   "cell_type": "code",
   "execution_count": null,
   "id": "2646a9cd-1abd-490c-b978-bb397dbe13ba",
   "metadata": {},
   "outputs": [],
   "source": [
    "ds_ESM15_esorted"
   ]
  },
  {
   "cell_type": "markdown",
   "id": "8c8d0ff8-d658-42ec-afa0-6be1b60049c2",
   "metadata": {},
   "source": [
    "# let's use the tools as they exist to try to start the workflow"
   ]
  },
  {
   "cell_type": "markdown",
   "id": "5ccb460e-7d6c-4f53-9a90-01868223d7c9",
   "metadata": {},
   "source": [
    "## I want Australian CMIP6 data"
   ]
  },
  {
   "cell_type": "code",
   "execution_count": null,
   "id": "2339501e-5074-4594-95ba-f1b0cd3dfa65",
   "metadata": {},
   "outputs": [],
   "source": [
    "cmip6_fs38_datastore = load_cmip6_fs38_datastore()"
   ]
  },
  {
   "cell_type": "code",
   "execution_count": null,
   "id": "d4328d99-8b76-4d0e-abd3-6af417009ebf",
   "metadata": {},
   "outputs": [],
   "source": [
    "report_esm_unique(cmip6_fs38_datastore.search(**load_config()['catalog_search_query_dict']['ACCESS_ESM15']['CSEPTA']))"
   ]
  },
  {
   "cell_type": "code",
   "execution_count": null,
   "id": "06a01952-f988-4172-a9fc-430f0f772442",
   "metadata": {},
   "outputs": [],
   "source": [
    "CSEPTA_intpp_catalog = cmip6_fs38_datastore.search(**load_config()['catalog_search_query_dict']['ACCESS_ESM15']['CSEPTA'])"
   ]
  },
  {
   "cell_type": "code",
   "execution_count": null,
   "id": "652514aa-dbd4-402f-a027-33f6f6ecbe7c",
   "metadata": {},
   "outputs": [],
   "source": [
    "CSEPTA_intpp_catalog"
   ]
  },
  {
   "cell_type": "code",
   "execution_count": null,
   "id": "2ca2df31-9592-4b16-bd86-dc65351f2db7",
   "metadata": {},
   "outputs": [],
   "source": [
    "show_methods(CSEPTA_intpp_catalog)"
   ]
  },
  {
   "cell_type": "code",
   "execution_count": null,
   "id": "ba979873-b189-48aa-867e-34b3eee5d1df",
   "metadata": {},
   "outputs": [],
   "source": [
    "report_esm_unique(CSEPTA_intpp_catalog)"
   ]
  },
  {
   "cell_type": "code",
   "execution_count": null,
   "id": "c5f7da0e-104f-4be6-ad7e-fe4ba1a0b457",
   "metadata": {},
   "outputs": [],
   "source": [
    "CSEPTA_intpp_catalog.unique()['path']"
   ]
  },
  {
   "cell_type": "code",
   "execution_count": null,
   "id": "4308ec0b-4706-485b-8df3-340245eb031c",
   "metadata": {},
   "outputs": [],
   "source": [
    "search_dict = dict(experiment_id = 'historical',source_id = 'ACCESS-ESM1-5',variable_id = ['intpp'],realm = ['ocnBgchem'], frequency = 'mon',file_type='f')"
   ]
  },
  {
   "cell_type": "code",
   "execution_count": null,
   "id": "d983489b-86f9-4794-99c2-3797dcb5bf2a",
   "metadata": {},
   "outputs": [],
   "source": [
    "search = cmip6_fs38_datastore.search(**search_dict)\n",
    "search"
   ]
  },
  {
   "cell_type": "code",
   "execution_count": null,
   "id": "1418e808-69db-47c8-b44c-ae4cfd946068",
   "metadata": {},
   "outputs": [],
   "source": [
    "search.unique()['path']"
   ]
  },
  {
   "cell_type": "markdown",
   "id": "b1cc465e-1c19-465c-904b-ff79fe898bb0",
   "metadata": {},
   "source": [
    "# let's repeat workflow with CLEX catalog"
   ]
  },
  {
   "cell_type": "code",
   "execution_count": null,
   "id": "07621ee1-4a90-4e76-a0ee-ba4f9c3146ac",
   "metadata": {},
   "outputs": [],
   "source": [
    "cmip6_fs38_datastore = load_cmip6_CLEX_datastore()"
   ]
  },
  {
   "cell_type": "code",
   "execution_count": null,
   "id": "a14dfaa8-cf48-4208-ab43-672cccea5ba8",
   "metadata": {},
   "outputs": [],
   "source": [
    "load_config()['catalog_search_query_dict']['ACCESS_ESM15']['CSEPTA']['CLEX_catalog']"
   ]
  },
  {
   "cell_type": "code",
   "execution_count": null,
   "id": "1ffcffa7-b292-44e0-9b8d-ffaf8141419e",
   "metadata": {},
   "outputs": [],
   "source": [
    "report_esm_unique(cmip6_fs38_datastore.search(**load_config()['catalog_search_query_dict']['ACCESS_ESM15']['CSEPTA']['CLEX_catalog']))"
   ]
  },
  {
   "cell_type": "code",
   "execution_count": null,
   "id": "3c54f2df-5742-44bb-b8d9-8abb293d74d8",
   "metadata": {},
   "outputs": [],
   "source": [
    "find_chunking_info(cmip6_fs38_datastore.search(**load_config()['catalog_search_query_dict']['ACCESS_ESM15']['CSEPTA']['CLEX_catalog']),'thetao',return_results=True)"
   ]
  },
  {
   "cell_type": "code",
   "execution_count": null,
   "id": "10c4abf3-9db7-4e94-a718-34930c49aec6",
   "metadata": {},
   "outputs": [],
   "source": [
    "search = cmip6_fs38_datastore.search(**load_config()['catalog_search_query_dict']['ACCESS_ESM15']['CSEPTA']['CLEX_catalog'])"
   ]
  },
  {
   "cell_type": "code",
   "execution_count": null,
   "id": "1c27cbca-ad25-4be3-aafb-9c03127fc2be",
   "metadata": {},
   "outputs": [],
   "source": [
    "%%time\n",
    "ds_ESM15_esorted = load_ACCESS_ESM_ensemble(search,use_cftime=True,chunking_key='ACCESS_ESM15_3D')"
   ]
  },
  {
   "cell_type": "code",
   "execution_count": null,
   "id": "e812b0f9-29dc-48c5-aba5-46e336acee39",
   "metadata": {},
   "outputs": [],
   "source": [
    "ds_ESM15_esorted"
   ]
  },
  {
   "cell_type": "code",
   "execution_count": null,
   "id": "5d432e5f-9562-4401-b617-0f414b336774",
   "metadata": {},
   "outputs": [],
   "source": [
    "data = ds_ESM15_esorted.isel({'lev':0,'member':0})\n",
    "data"
   ]
  },
  {
   "cell_type": "code",
   "execution_count": null,
   "id": "2541f995-a47b-4aff-9441-45cef192065e",
   "metadata": {},
   "outputs": [],
   "source": [
    "data.mean(dim=['i','j']).thetao.plot()"
   ]
  },
  {
   "cell_type": "markdown",
   "id": "a02f3a86-6b12-4e86-b910-f8bd4d7fa618",
   "metadata": {},
   "source": [
    "### piControl"
   ]
  },
  {
   "cell_type": "code",
   "execution_count": null,
   "id": "656e928d-0f06-4877-b330-6f2234b816bc",
   "metadata": {},
   "outputs": [],
   "source": [
    "search = cmip6_fs38_datastore.search(**load_config()['catalog_search_query_dict']['ACCESS_ESM15']['CSEPTA']['CLEX_catalog'])"
   ]
  },
  {
   "cell_type": "code",
   "execution_count": null,
   "id": "0edde3e8-8f0f-4e25-a4f9-404c46ce5559",
   "metadata": {},
   "outputs": [],
   "source": [
    "%%time\n",
    "ds_ESM15 = load_ACCESS_ESM(search,use_cftime=True,chunking_key='ACCESS_ESM15_3D')"
   ]
  },
  {
   "cell_type": "code",
   "execution_count": null,
   "id": "d39cb3ef-f24e-4acb-a355-804f9ef6d177",
   "metadata": {},
   "outputs": [],
   "source": [
    "ds_ESM15"
   ]
  },
  {
   "cell_type": "code",
   "execution_count": null,
   "id": "07aca4b9-3873-40ce-b695-a6b2ab69f547",
   "metadata": {},
   "outputs": [],
   "source": []
  }
 ],
 "metadata": {
  "kernelspec": {
   "display_name": "Python [conda env:analysis3]",
   "language": "python",
   "name": "conda-env-analysis3-py"
  },
  "language_info": {
   "codemirror_mode": {
    "name": "ipython",
    "version": 3
   },
   "file_extension": ".py",
   "mimetype": "text/x-python",
   "name": "python",
   "nbconvert_exporter": "python",
   "pygments_lexer": "ipython3",
   "version": "3.10.14"
  }
 },
 "nbformat": 4,
 "nbformat_minor": 5
}
